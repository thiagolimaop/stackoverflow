{
 "cells": [
  {
   "cell_type": "markdown",
   "metadata": {},
   "source": [
    "### Data Understanding\n",
    "\n",
    "Let’s understand what type of data we have to answer the questions made in Business understanding."
   ]
  },
  {
   "cell_type": "code",
   "execution_count": 3,
   "metadata": {},
   "outputs": [
    {
     "data": {
      "text/html": [
       "<div>\n",
       "<style scoped>\n",
       "    .dataframe tbody tr th:only-of-type {\n",
       "        vertical-align: middle;\n",
       "    }\n",
       "\n",
       "    .dataframe tbody tr th {\n",
       "        vertical-align: top;\n",
       "    }\n",
       "\n",
       "    .dataframe thead th {\n",
       "        text-align: right;\n",
       "    }\n",
       "</style>\n",
       "<table border=\"1\" class=\"dataframe\">\n",
       "  <thead>\n",
       "    <tr style=\"text-align: right;\">\n",
       "      <th></th>\n",
       "      <th>Respondent</th>\n",
       "      <th>MainBranch</th>\n",
       "      <th>Hobbyist</th>\n",
       "      <th>Age</th>\n",
       "      <th>Age1stCode</th>\n",
       "      <th>CompFreq</th>\n",
       "      <th>CompTotal</th>\n",
       "      <th>ConvertedComp</th>\n",
       "      <th>Country</th>\n",
       "      <th>CurrencyDesc</th>\n",
       "      <th>...</th>\n",
       "      <th>SurveyEase</th>\n",
       "      <th>SurveyLength</th>\n",
       "      <th>Trans</th>\n",
       "      <th>UndergradMajor</th>\n",
       "      <th>WebframeDesireNextYear</th>\n",
       "      <th>WebframeWorkedWith</th>\n",
       "      <th>WelcomeChange</th>\n",
       "      <th>WorkWeekHrs</th>\n",
       "      <th>YearsCode</th>\n",
       "      <th>YearsCodePro</th>\n",
       "    </tr>\n",
       "  </thead>\n",
       "  <tbody>\n",
       "    <tr>\n",
       "      <th>0</th>\n",
       "      <td>1</td>\n",
       "      <td>I am a developer by profession</td>\n",
       "      <td>Yes</td>\n",
       "      <td>NaN</td>\n",
       "      <td>13</td>\n",
       "      <td>Monthly</td>\n",
       "      <td>NaN</td>\n",
       "      <td>NaN</td>\n",
       "      <td>Germany</td>\n",
       "      <td>European Euro</td>\n",
       "      <td>...</td>\n",
       "      <td>Neither easy nor difficult</td>\n",
       "      <td>Appropriate in length</td>\n",
       "      <td>No</td>\n",
       "      <td>Computer science, computer engineering, or sof...</td>\n",
       "      <td>ASP.NET Core</td>\n",
       "      <td>ASP.NET;ASP.NET Core</td>\n",
       "      <td>Just as welcome now as I felt last year</td>\n",
       "      <td>50.0</td>\n",
       "      <td>36</td>\n",
       "      <td>27</td>\n",
       "    </tr>\n",
       "    <tr>\n",
       "      <th>1</th>\n",
       "      <td>2</td>\n",
       "      <td>I am a developer by profession</td>\n",
       "      <td>No</td>\n",
       "      <td>NaN</td>\n",
       "      <td>19</td>\n",
       "      <td>NaN</td>\n",
       "      <td>NaN</td>\n",
       "      <td>NaN</td>\n",
       "      <td>United Kingdom</td>\n",
       "      <td>Pound sterling</td>\n",
       "      <td>...</td>\n",
       "      <td>NaN</td>\n",
       "      <td>NaN</td>\n",
       "      <td>NaN</td>\n",
       "      <td>Computer science, computer engineering, or sof...</td>\n",
       "      <td>NaN</td>\n",
       "      <td>NaN</td>\n",
       "      <td>Somewhat more welcome now than last year</td>\n",
       "      <td>NaN</td>\n",
       "      <td>7</td>\n",
       "      <td>4</td>\n",
       "    </tr>\n",
       "    <tr>\n",
       "      <th>2</th>\n",
       "      <td>3</td>\n",
       "      <td>I code primarily as a hobby</td>\n",
       "      <td>Yes</td>\n",
       "      <td>NaN</td>\n",
       "      <td>15</td>\n",
       "      <td>NaN</td>\n",
       "      <td>NaN</td>\n",
       "      <td>NaN</td>\n",
       "      <td>Russian Federation</td>\n",
       "      <td>NaN</td>\n",
       "      <td>...</td>\n",
       "      <td>Neither easy nor difficult</td>\n",
       "      <td>Appropriate in length</td>\n",
       "      <td>NaN</td>\n",
       "      <td>NaN</td>\n",
       "      <td>NaN</td>\n",
       "      <td>NaN</td>\n",
       "      <td>Somewhat more welcome now than last year</td>\n",
       "      <td>NaN</td>\n",
       "      <td>4</td>\n",
       "      <td>NaN</td>\n",
       "    </tr>\n",
       "    <tr>\n",
       "      <th>3</th>\n",
       "      <td>4</td>\n",
       "      <td>I am a developer by profession</td>\n",
       "      <td>Yes</td>\n",
       "      <td>25.0</td>\n",
       "      <td>18</td>\n",
       "      <td>NaN</td>\n",
       "      <td>NaN</td>\n",
       "      <td>NaN</td>\n",
       "      <td>Albania</td>\n",
       "      <td>Albanian lek</td>\n",
       "      <td>...</td>\n",
       "      <td>NaN</td>\n",
       "      <td>NaN</td>\n",
       "      <td>No</td>\n",
       "      <td>Computer science, computer engineering, or sof...</td>\n",
       "      <td>NaN</td>\n",
       "      <td>NaN</td>\n",
       "      <td>Somewhat less welcome now than last year</td>\n",
       "      <td>40.0</td>\n",
       "      <td>7</td>\n",
       "      <td>4</td>\n",
       "    </tr>\n",
       "    <tr>\n",
       "      <th>4</th>\n",
       "      <td>5</td>\n",
       "      <td>I used to be a developer by profession, but no...</td>\n",
       "      <td>Yes</td>\n",
       "      <td>31.0</td>\n",
       "      <td>16</td>\n",
       "      <td>NaN</td>\n",
       "      <td>NaN</td>\n",
       "      <td>NaN</td>\n",
       "      <td>United States</td>\n",
       "      <td>NaN</td>\n",
       "      <td>...</td>\n",
       "      <td>Easy</td>\n",
       "      <td>Too short</td>\n",
       "      <td>No</td>\n",
       "      <td>Computer science, computer engineering, or sof...</td>\n",
       "      <td>Django;Ruby on Rails</td>\n",
       "      <td>Ruby on Rails</td>\n",
       "      <td>Just as welcome now as I felt last year</td>\n",
       "      <td>NaN</td>\n",
       "      <td>15</td>\n",
       "      <td>8</td>\n",
       "    </tr>\n",
       "  </tbody>\n",
       "</table>\n",
       "<p>5 rows × 61 columns</p>\n",
       "</div>"
      ],
      "text/plain": [
       "   Respondent                                         MainBranch Hobbyist  \\\n",
       "0           1                     I am a developer by profession      Yes   \n",
       "1           2                     I am a developer by profession       No   \n",
       "2           3                        I code primarily as a hobby      Yes   \n",
       "3           4                     I am a developer by profession      Yes   \n",
       "4           5  I used to be a developer by profession, but no...      Yes   \n",
       "\n",
       "    Age Age1stCode CompFreq  CompTotal  ConvertedComp             Country  \\\n",
       "0   NaN         13  Monthly        NaN            NaN             Germany   \n",
       "1   NaN         19      NaN        NaN            NaN      United Kingdom   \n",
       "2   NaN         15      NaN        NaN            NaN  Russian Federation   \n",
       "3  25.0         18      NaN        NaN            NaN             Albania   \n",
       "4  31.0         16      NaN        NaN            NaN       United States   \n",
       "\n",
       "     CurrencyDesc     ...                       SurveyEase  \\\n",
       "0   European Euro     ...       Neither easy nor difficult   \n",
       "1  Pound sterling     ...                              NaN   \n",
       "2             NaN     ...       Neither easy nor difficult   \n",
       "3    Albanian lek     ...                              NaN   \n",
       "4             NaN     ...                             Easy   \n",
       "\n",
       "            SurveyLength Trans  \\\n",
       "0  Appropriate in length    No   \n",
       "1                    NaN   NaN   \n",
       "2  Appropriate in length   NaN   \n",
       "3                    NaN    No   \n",
       "4              Too short    No   \n",
       "\n",
       "                                      UndergradMajor WebframeDesireNextYear  \\\n",
       "0  Computer science, computer engineering, or sof...           ASP.NET Core   \n",
       "1  Computer science, computer engineering, or sof...                    NaN   \n",
       "2                                                NaN                    NaN   \n",
       "3  Computer science, computer engineering, or sof...                    NaN   \n",
       "4  Computer science, computer engineering, or sof...   Django;Ruby on Rails   \n",
       "\n",
       "     WebframeWorkedWith                             WelcomeChange WorkWeekHrs  \\\n",
       "0  ASP.NET;ASP.NET Core   Just as welcome now as I felt last year        50.0   \n",
       "1                   NaN  Somewhat more welcome now than last year         NaN   \n",
       "2                   NaN  Somewhat more welcome now than last year         NaN   \n",
       "3                   NaN  Somewhat less welcome now than last year        40.0   \n",
       "4         Ruby on Rails   Just as welcome now as I felt last year         NaN   \n",
       "\n",
       "  YearsCode YearsCodePro  \n",
       "0        36           27  \n",
       "1         7            4  \n",
       "2         4          NaN  \n",
       "3         7            4  \n",
       "4        15            8  \n",
       "\n",
       "[5 rows x 61 columns]"
      ]
     },
     "execution_count": 3,
     "metadata": {},
     "output_type": "execute_result"
    }
   ],
   "source": [
    "import numpy as np\n",
    "import pandas as pd\n",
    "import matplotlib.pyplot as plt\n",
    "%matplotlib inline\n",
    "\n",
    "df = pd.read_csv('./survey_results_public20.csv', low_memory=False)\n",
    "schema = pd.read_csv('./survey_results_schema20.csv')\n",
    "df.head()"
   ]
  },
  {
   "cell_type": "markdown",
   "metadata": {},
   "source": [
    "Let's understand more about the data we have!"
   ]
  },
  {
   "cell_type": "code",
   "execution_count": 4,
   "metadata": {},
   "outputs": [
    {
     "name": "stdout",
     "output_type": "stream",
     "text": [
      "World number respondents: 64461\n",
      "US number respondents: 12469\n"
     ]
    }
   ],
   "source": [
    "print('World number respondents: %s'%df.shape[0])\n",
    "print('US number respondents: %s'%df.query('Country == \"United States\"').shape[0])"
   ]
  },
  {
   "cell_type": "code",
   "execution_count": 5,
   "metadata": {},
   "outputs": [
    {
     "name": "stdout",
     "output_type": "stream",
     "text": [
      "Respondent: Randomized respondent ID number (not in order of survey response time)\n",
      "MainBranch: Which of the following options best describes you today? Here, by \"developer\" we mean \"someone who writes code.\"\n",
      "Hobbyist: Do you code as a hobby?\n",
      "Age: What is your age (in years)? If you prefer not to answer, you may leave this question blank.\n",
      "Age1stCode: At what age did you write your first line of code or program? (e.g., webpage, Hello World, Scratch project)\n",
      "CompFreq: Is that compensation weekly, monthly, or yearly?\n",
      "CompTotal: What is your current total compensation (salary, bonuses, and perks, before taxes and deductions), in `CurrencySymbol`? Please enter a whole number in the box below, without any punctuation. If you are paid hourly, please estimate an equivalent weekly, monthly, or yearly salary. If you prefer not to answer, please leave the box empty.\n",
      "ConvertedComp: Salary converted to annual USD salaries using the exchange rate on 2020-02-19, assuming 12 working months and 50 working weeks.\n",
      "Country: Where do you live?\n",
      "CurrencyDesc: Which currency do you use day-to-day? If your answer is complicated, please pick the one you're most comfortable estimating in.\n",
      "CurrencySymbol: Which currency do you use day-to-day? If your answer is complicated, please pick the one you're most comfortable estimating in.\n",
      "DatabaseDesireNextYear: Which database environments have you done extensive development work in over the past year, and which do you want to work in over the next year? (If you both worked with the database and want to continue to do so, please check both boxes in that row.)\n",
      "DatabaseWorkedWith: Which database environments have you done extensive development work in over the past year, and which do you want to work in over the next year? (If you both worked with the database and want to continue to do so, please check both boxes in that row.)\n",
      "DevType: Which of the following describe you? Please select all that apply.\n",
      "EdLevel: Which of the following best describes the highest level of formal education that you’ve completed?\n",
      "Employment: Which of the following best describes your current employment status?\n",
      "Ethnicity: Which of the following describe you, if any? Please check all that apply. If you prefer not to answer, you may leave this question blank.\n",
      "Gender: Which of the following describe you, if any? Please check all that apply. If you prefer not to answer, you may leave this question blank.\n",
      "JobFactors: Imagine that you are deciding between two job offers with the same compensation, benefits, and location. Of the following factors, which 3 are MOST important to you?\n",
      "JobSat: How satisfied are you with your current job? (If you work multiple jobs, answer for the one you spend the most hours on.)\n",
      "JobSeek: Which of the following best describes your current job-seeking status?\n",
      "LanguageDesireNextYear: Which programming, scripting, and markup languages have you done extensive development work in over the past year, and which do you want to work in over the next year? (If you both worked with the language and want to continue to do so, please check both boxes in that row.)\n",
      "LanguageWorkedWith: Which programming, scripting, and markup languages have you done extensive development work in over the past year, and which do you want to work in over the next year? (If you both worked with the language and want to continue to do so, please check both boxes in that row.)\n",
      "MiscTechDesireNextYear: Which other frameworks, libraries, and tools have you done extensive development work in over the past year, and which do you want to work in over the next year? (If you both worked with the framework and want to continue to do so, please check both boxes in that row.)\n",
      "MiscTechWorkedWith: Which other frameworks, libraries, and tools have you done extensive development work in over the past year, and which do you want to work in over the next year? (If you both worked with the framework and want to continue to do so, please check both boxes in that row.)\n",
      "NEWCollabToolsDesireNextYear: Which collaboration tools have you done extensive development work in over the past year, and which do you want to work in over the next year? (If you worked with the tool and want to continue to do so, please check both boxes in that row.)\n",
      "NEWCollabToolsWorkedWith: Which collaboration tools have you done extensive development work in over the past year, and which do you want to work in over the next year? (If you worked with the tool and want to continue to do so, please check both boxes in that row.)\n",
      "NEWDevOps: Does your company have a dedicated DevOps person?\n",
      "NEWDevOpsImpt: How important is the practice of DevOps to scaling software development?\n",
      "NEWEdImpt: How important is a formal education, such as a university degree in computer science, to your career?\n",
      "NEWJobHunt: In general, what drives you to look for a new job? Select all that apply.\n",
      "NEWJobHuntResearch: When job searching, how do you learn more about a company? Select all that apply.\n",
      "NEWLearn: How frequently do you learn a new language or framework?\n",
      "NEWOffTopic: Do you think Stack Overflow should relax restrictions on what is considered “off-topic”?\n",
      "NEWOnboardGood: Do you think your company has a good onboarding process? (By onboarding, we mean the structured process of getting you settled in to your new role at a company)\n",
      "NEWOtherComms: Are you a member of any other online developer communities?\n",
      "NEWOvertime: How often do you work overtime or beyond the formal time expectation of your job?\n",
      "NEWPurchaseResearch: When buying a new tool or software, how do you discover and research available solutions? Select all that apply.\n",
      "NEWPurpleLink: You search for a coding solution online and the first result link is purple because you already visited it. How do you feel?\n",
      "NEWSOSites: Which of the following Stack Overflow sites have you visited? Select all that apply.\n",
      "NEWStuck: What do you do when you get stuck on a problem? Select all that apply.\n",
      "OpSys: What is the primary operating system in which you work?\n",
      "OrgSize: Approximately how many people are employed by the company or organization you currently work for?\n",
      "PlatformDesireNextYear: Which platforms have you done extensive development work in over the past year, and which do you want to work in over the next year? (If you both worked with the platform and want to continue to do so, please check both boxes in that row.)\n",
      "PlatformWorkedWith: Which platforms have you done extensive development work in over the past year, and which do you want to work in over the next year? (If you both worked with the platform and want to continue to do so, please check both boxes in that row.)\n",
      "PurchaseWhat: What level of influence do you, personally, have over new technology purchases at your organization?\n",
      "Sexuality: Which of the following describe you, if any? Please check all that apply. If you prefer not to answer, you may leave this question blank.\n",
      "SOAccount: Do you have a Stack Overflow account?\n",
      "SOComm: Do you consider yourself a member of the Stack Overflow community?\n",
      "SOPartFreq: How frequently would you say you participate in Q&A on Stack Overflow? By participate we mean ask, answer, vote for, or comment on questions.\n",
      "SOVisitFreq: How frequently would you say you visit Stack Overflow?\n",
      "SurveyEase: How easy or difficult was this survey to complete?\n",
      "SurveyLength: How do you feel about the length of the survey this year?\n",
      "Trans: Are you transgender?\n",
      "UndergradMajor: What was your primary field of study?\n",
      "WebframeDesireNextYear: Which web frameworks have you done extensive development work in over the past year, and which do you want to work in over the next year? (If you both worked with the framework and want to continue to do so, please check both boxes in that row.)\n",
      "WebframeWorkedWith: Which web frameworks have you done extensive development work in over the past year, and which do you want to work in over the next year? (If you both worked with the framework and want to continue to do so, please check both boxes in that row.)\n",
      "WelcomeChange: Compared to last year, how welcome do you feel on Stack Overflow?\n",
      "WorkWeekHrs: On average, how many hours per week do you work? Please enter a whole number in the box.\n",
      "YearsCode: Including any education, how many years have you been coding in total?\n",
      "YearsCodePro: NOT including education, how many years have you coded professionally (as a part of your work)?\n"
     ]
    }
   ],
   "source": [
    "def get_description(column_name, schema=schema):\n",
    "    '''\n",
    "    INPUT - schema - pandas dataframe with the schema of the developers survey\n",
    "            column_name - string - the name of the column you would like to know about\n",
    "    OUTPUT - \n",
    "            desc - string - the description of the column\n",
    "    '''\n",
    "    desc = list(schema.QuestionText.loc[schema.Column == column_name])[0]\n",
    "    return desc\n",
    "\n",
    "for column in df.columns:\n",
    "    print('{}: {}'.format(column, get_description(column)))"
   ]
  },
  {
   "cell_type": "markdown",
   "metadata": {},
   "source": [
    "It's possible to see we have fields like:\n",
    "\n",
    "1. Ethnicity and Gender\n",
    "2. JobSat, which indicates respondent's job satisfaction\n",
    "3. ConvertedComp, which indicates respondent's annual salary\n",
    "4. JobSeek, which indicates respondent's job seeking status"
   ]
  },
  {
   "cell_type": "markdown",
   "metadata": {},
   "source": [
    "How many missing values have the ethnicity and gender columns between US respondents?"
   ]
  },
  {
   "cell_type": "code",
   "execution_count": 6,
   "metadata": {},
   "outputs": [
    {
     "name": "stdout",
     "output_type": "stream",
     "text": [
      "Proportion of missing values in Ethnicity: 0.19\n",
      "Proportion of missing values in Gender: 0.16\n"
     ]
    }
   ],
   "source": [
    "us_df = df.query('Country == \"United States\"')\n",
    "resp_ethny = us_df['Ethnicity'].count()/us_df.shape[0]\n",
    "resp_gender = us_df['Gender'].count()/us_df.shape[0]\n",
    "print('Proportion of missing values in Ethnicity: %.2f'%(1-resp_ethny))\n",
    "print('Proportion of missing values in Gender: %.2f'%(1-resp_gender))"
   ]
  },
  {
   "cell_type": "markdown",
   "metadata": {},
   "source": [
    "Let's extract the values of ethnicity and gender columns."
   ]
  },
  {
   "cell_type": "code",
   "execution_count": 7,
   "metadata": {
    "scrolled": true
   },
   "outputs": [
    {
     "data": {
      "text/plain": [
       "['East Asian',\n",
       " 'Indigenous \\\\(such as Native American, Pacific Islander, or Indigenous Australian\\\\)',\n",
       " 'Middle Eastern',\n",
       " 'Multiracial',\n",
       " 'South Asian',\n",
       " 'Southeast Asian',\n",
       " 'Black or of African descent',\n",
       " 'Hispanic or Latino/a/x',\n",
       " 'Biracial',\n",
       " 'White or of European descent']"
      ]
     },
     "execution_count": 7,
     "metadata": {},
     "output_type": "execute_result"
    }
   ],
   "source": [
    "#df['Ethnicity'].value_counts()\n",
    "\n",
    "def extract_feature_list(column):\n",
    "    '''\n",
    "    INPUT \n",
    "        column - a dataframe series\n",
    "        \n",
    "    OUTPUT\n",
    "        return - a list of possible values to a given column\n",
    "    '''\n",
    "    attr_set = set()\n",
    "    for row in column:\n",
    "        if type(row) == str:\n",
    "            attr_itens = row.split(';')\n",
    "            for item in attr_itens:\n",
    "                # Removing special characters which cause error on filter df\n",
    "                scaped_item = item.replace('(', '\\(').replace(')', '\\)')\n",
    "                attr_set.add(scaped_item)\n",
    "                \n",
    "    return list(attr_set)\n",
    "\n",
    "extract_feature_list(df['Ethnicity'])"
   ]
  },
  {
   "cell_type": "code",
   "execution_count": 8,
   "metadata": {},
   "outputs": [
    {
     "data": {
      "text/plain": [
       "['Woman', 'Man', 'Non-binary, genderqueer, or gender non-conforming']"
      ]
     },
     "execution_count": 8,
     "metadata": {},
     "output_type": "execute_result"
    }
   ],
   "source": [
    "# df['Gender'].value_counts()\n",
    "extract_feature_list(df['Gender'])"
   ]
  },
  {
   "cell_type": "markdown",
   "metadata": {},
   "source": [
    "Let's create a function to understand more about the data distribution by this two features, considering just who answer about \"Ethnicity\" and \"Gender\"."
   ]
  },
  {
   "cell_type": "code",
   "execution_count": 9,
   "metadata": {},
   "outputs": [
    {
     "data": {
      "text/plain": [
       "<matplotlib.axes._subplots.AxesSubplot at 0x7fb8bf2a3fd0>"
      ]
     },
     "execution_count": 9,
     "metadata": {},
     "output_type": "execute_result"
    },
    {
     "data": {
      "image/png": "[encoded data removed]",
      "text/plain": [
       "<matplotlib.figure.Figure at 0x7fb8bf2a3ba8>"
      ]
     },
     "metadata": {
      "needs_background": "light"
     },
     "output_type": "display_data"
    }
   ],
   "source": [
    "#filter by specific Ethnicity without nulls\n",
    "#df[df['Ethnicity'].str.contains('Black or of African descent', na=False)]\n",
    "\n",
    "def distribution_by_feature(df, feature):\n",
    "    '''\n",
    "    INPUT \n",
    "        df - specific dataframe;\n",
    "        feature - ;\n",
    "    OUTPUT\n",
    "        return - a dataframe containing values represented some statistic calculated in \"func\" by each possible \n",
    "                 values setted in years_minority;\n",
    "    '''\n",
    "    items_list = extract_feature_list(df[feature])\n",
    "    data = []\n",
    "    \n",
    "    for item in items_list:\n",
    "        # na=False will ignore the missing values \n",
    "        percentage = df[df[feature].str.contains(item, na=False)].shape[0]/df.shape[0]\n",
    "        data.append([item, percentage])\n",
    "        \n",
    "    missing_val = 1-(df[feature].count()/df.shape[0])\n",
    "    data.append(['Not answered',missing_val])\n",
    "    new_df = pd.DataFrame(data, columns=[feature, 'Percentage'])\n",
    "    new_df = new_df.set_index(feature)\n",
    "    new_df = new_df.sort_values(by='Percentage', ascending=False)\n",
    "    return new_df\n",
    "\n",
    "country = df.query('Country == \"United States\"')\n",
    "title = 'Distribution by Ethnicity in United States'\n",
    "distribution_by_feature(country, 'Ethnicity').plot(kind='bar', title=title)"
   ]
  },
  {
   "cell_type": "code",
   "execution_count": 10,
   "metadata": {},
   "outputs": [
    {
     "data": {
      "text/html": [
       "<div>\n",
       "<style scoped>\n",
       "    .dataframe tbody tr th:only-of-type {\n",
       "        vertical-align: middle;\n",
       "    }\n",
       "\n",
       "    .dataframe tbody tr th {\n",
       "        vertical-align: top;\n",
       "    }\n",
       "\n",
       "    .dataframe thead th {\n",
       "        text-align: right;\n",
       "    }\n",
       "</style>\n",
       "<table border=\"1\" class=\"dataframe\">\n",
       "  <thead>\n",
       "    <tr style=\"text-align: right;\">\n",
       "      <th></th>\n",
       "      <th>Percentage</th>\n",
       "    </tr>\n",
       "    <tr>\n",
       "      <th>Ethnicity</th>\n",
       "      <th></th>\n",
       "    </tr>\n",
       "  </thead>\n",
       "  <tbody>\n",
       "    <tr>\n",
       "      <th>White or of European descent</th>\n",
       "      <td>0.673831</td>\n",
       "    </tr>\n",
       "    <tr>\n",
       "      <th>Not answered</th>\n",
       "      <td>0.192076</td>\n",
       "    </tr>\n",
       "    <tr>\n",
       "      <th>Hispanic or Latino/a/x</th>\n",
       "      <td>0.055177</td>\n",
       "    </tr>\n",
       "    <tr>\n",
       "      <th>East Asian</th>\n",
       "      <td>0.035448</td>\n",
       "    </tr>\n",
       "    <tr>\n",
       "      <th>South Asian</th>\n",
       "      <td>0.034004</td>\n",
       "    </tr>\n",
       "    <tr>\n",
       "      <th>Black or of African descent</th>\n",
       "      <td>0.024942</td>\n",
       "    </tr>\n",
       "    <tr>\n",
       "      <th>Southeast Asian</th>\n",
       "      <td>0.017804</td>\n",
       "    </tr>\n",
       "    <tr>\n",
       "      <th>Biracial</th>\n",
       "      <td>0.017002</td>\n",
       "    </tr>\n",
       "    <tr>\n",
       "      <th>Middle Eastern</th>\n",
       "      <td>0.016361</td>\n",
       "    </tr>\n",
       "    <tr>\n",
       "      <th>Multiracial</th>\n",
       "      <td>0.016040</td>\n",
       "    </tr>\n",
       "    <tr>\n",
       "      <th>Indigenous \\(such as Native American, Pacific Islander, or Indigenous Australian\\)</th>\n",
       "      <td>0.012431</td>\n",
       "    </tr>\n",
       "  </tbody>\n",
       "</table>\n",
       "</div>"
      ],
      "text/plain": [
       "                                                    Percentage\n",
       "Ethnicity                                                     \n",
       "White or of European descent                          0.673831\n",
       "Not answered                                          0.192076\n",
       "Hispanic or Latino/a/x                                0.055177\n",
       "East Asian                                            0.035448\n",
       "South Asian                                           0.034004\n",
       "Black or of African descent                           0.024942\n",
       "Southeast Asian                                       0.017804\n",
       "Biracial                                              0.017002\n",
       "Middle Eastern                                        0.016361\n",
       "Multiracial                                           0.016040\n",
       "Indigenous \\(such as Native American, Pacific I...    0.012431"
      ]
     },
     "execution_count": 10,
     "metadata": {},
     "output_type": "execute_result"
    }
   ],
   "source": [
    "distribution_by_feature(country, 'Ethnicity')"
   ]
  },
  {
   "cell_type": "markdown",
   "metadata": {},
   "source": [
    "How is the distribution by gender in US?"
   ]
  },
  {
   "cell_type": "code",
   "execution_count": 11,
   "metadata": {},
   "outputs": [
    {
     "data": {
      "text/plain": [
       "<matplotlib.axes._subplots.AxesSubplot at 0x7fb8bcf7e9b0>"
      ]
     },
     "execution_count": 11,
     "metadata": {},
     "output_type": "execute_result"
    },
    {
     "data": {
      "image/png": "[encoded data removed]",
      "text/plain": [
       "<matplotlib.figure.Figure at 0x7fb8bf295080>"
      ]
     },
     "metadata": {
      "needs_background": "light"
     },
     "output_type": "display_data"
    }
   ],
   "source": [
    "country = df.query('Country == \"United States\"')\n",
    "title = 'Distribution by Gender in United States'\n",
    "distribution_by_feature(country, 'Gender').plot(kind='bar', title=title)"
   ]
  },
  {
   "cell_type": "code",
   "execution_count": 12,
   "metadata": {},
   "outputs": [
    {
     "data": {
      "text/html": [
       "<div>\n",
       "<style scoped>\n",
       "    .dataframe tbody tr th:only-of-type {\n",
       "        vertical-align: middle;\n",
       "    }\n",
       "\n",
       "    .dataframe tbody tr th {\n",
       "        vertical-align: top;\n",
       "    }\n",
       "\n",
       "    .dataframe thead th {\n",
       "        text-align: right;\n",
       "    }\n",
       "</style>\n",
       "<table border=\"1\" class=\"dataframe\">\n",
       "  <thead>\n",
       "    <tr style=\"text-align: right;\">\n",
       "      <th></th>\n",
       "      <th>Percentage</th>\n",
       "    </tr>\n",
       "    <tr>\n",
       "      <th>Gender</th>\n",
       "      <th></th>\n",
       "    </tr>\n",
       "  </thead>\n",
       "  <tbody>\n",
       "    <tr>\n",
       "      <th>Man</th>\n",
       "      <td>0.739995</td>\n",
       "    </tr>\n",
       "    <tr>\n",
       "      <th>Not answered</th>\n",
       "      <td>0.158714</td>\n",
       "    </tr>\n",
       "    <tr>\n",
       "      <th>Woman</th>\n",
       "      <td>0.091507</td>\n",
       "    </tr>\n",
       "    <tr>\n",
       "      <th>Non-binary, genderqueer, or gender non-conforming</th>\n",
       "      <td>0.017804</td>\n",
       "    </tr>\n",
       "  </tbody>\n",
       "</table>\n",
       "</div>"
      ],
      "text/plain": [
       "                                                   Percentage\n",
       "Gender                                                       \n",
       "Man                                                  0.739995\n",
       "Not answered                                         0.158714\n",
       "Woman                                                0.091507\n",
       "Non-binary, genderqueer, or gender non-conforming    0.017804"
      ]
     },
     "execution_count": 12,
     "metadata": {},
     "output_type": "execute_result"
    }
   ],
   "source": [
    "distribution_by_feature(country, 'Gender')"
   ]
  },
  {
   "cell_type": "markdown",
   "metadata": {},
   "source": [
    "Has it always been this way? What are the distributions by these categories in the last few years? "
   ]
  },
  {
   "cell_type": "code",
   "execution_count": 13,
   "metadata": {},
   "outputs": [
    {
     "data": {
      "text/html": [
       "<div>\n",
       "<style scoped>\n",
       "    .dataframe tbody tr th:only-of-type {\n",
       "        vertical-align: middle;\n",
       "    }\n",
       "\n",
       "    .dataframe tbody tr th {\n",
       "        vertical-align: top;\n",
       "    }\n",
       "\n",
       "    .dataframe thead th {\n",
       "        text-align: right;\n",
       "    }\n",
       "</style>\n",
       "<table border=\"1\" class=\"dataframe\">\n",
       "  <thead>\n",
       "    <tr style=\"text-align: right;\">\n",
       "      <th></th>\n",
       "      <th>Respondent</th>\n",
       "      <th>Hobby</th>\n",
       "      <th>OpenSource</th>\n",
       "      <th>Country</th>\n",
       "      <th>Student</th>\n",
       "      <th>Employment</th>\n",
       "      <th>FormalEducation</th>\n",
       "      <th>UndergradMajor</th>\n",
       "      <th>CompanySize</th>\n",
       "      <th>DevType</th>\n",
       "      <th>...</th>\n",
       "      <th>Exercise</th>\n",
       "      <th>Gender</th>\n",
       "      <th>SexualOrientation</th>\n",
       "      <th>EducationParents</th>\n",
       "      <th>RaceEthnicity</th>\n",
       "      <th>Age</th>\n",
       "      <th>Dependents</th>\n",
       "      <th>MilitaryUS</th>\n",
       "      <th>SurveyTooLong</th>\n",
       "      <th>SurveyEasy</th>\n",
       "    </tr>\n",
       "  </thead>\n",
       "  <tbody>\n",
       "    <tr>\n",
       "      <th>0</th>\n",
       "      <td>1</td>\n",
       "      <td>Yes</td>\n",
       "      <td>No</td>\n",
       "      <td>Kenya</td>\n",
       "      <td>No</td>\n",
       "      <td>Employed part-time</td>\n",
       "      <td>Bachelor’s degree (BA, BS, B.Eng., etc.)</td>\n",
       "      <td>Mathematics or statistics</td>\n",
       "      <td>20 to 99 employees</td>\n",
       "      <td>Full-stack developer</td>\n",
       "      <td>...</td>\n",
       "      <td>3 - 4 times per week</td>\n",
       "      <td>Male</td>\n",
       "      <td>Straight or heterosexual</td>\n",
       "      <td>Bachelor’s degree (BA, BS, B.Eng., etc.)</td>\n",
       "      <td>Black or of African descent</td>\n",
       "      <td>25 - 34 years old</td>\n",
       "      <td>Yes</td>\n",
       "      <td>NaN</td>\n",
       "      <td>The survey was an appropriate length</td>\n",
       "      <td>Very easy</td>\n",
       "    </tr>\n",
       "    <tr>\n",
       "      <th>1</th>\n",
       "      <td>3</td>\n",
       "      <td>Yes</td>\n",
       "      <td>Yes</td>\n",
       "      <td>United Kingdom</td>\n",
       "      <td>No</td>\n",
       "      <td>Employed full-time</td>\n",
       "      <td>Bachelor’s degree (BA, BS, B.Eng., etc.)</td>\n",
       "      <td>A natural science (ex. biology, chemistry, phy...</td>\n",
       "      <td>10,000 or more employees</td>\n",
       "      <td>Database administrator;DevOps specialist;Full-...</td>\n",
       "      <td>...</td>\n",
       "      <td>Daily or almost every day</td>\n",
       "      <td>Male</td>\n",
       "      <td>Straight or heterosexual</td>\n",
       "      <td>Bachelor’s degree (BA, BS, B.Eng., etc.)</td>\n",
       "      <td>White or of European descent</td>\n",
       "      <td>35 - 44 years old</td>\n",
       "      <td>Yes</td>\n",
       "      <td>NaN</td>\n",
       "      <td>The survey was an appropriate length</td>\n",
       "      <td>Somewhat easy</td>\n",
       "    </tr>\n",
       "    <tr>\n",
       "      <th>2</th>\n",
       "      <td>4</td>\n",
       "      <td>Yes</td>\n",
       "      <td>Yes</td>\n",
       "      <td>United States</td>\n",
       "      <td>No</td>\n",
       "      <td>Employed full-time</td>\n",
       "      <td>Associate degree</td>\n",
       "      <td>Computer science, computer engineering, or sof...</td>\n",
       "      <td>20 to 99 employees</td>\n",
       "      <td>Engineering manager;Full-stack developer</td>\n",
       "      <td>...</td>\n",
       "      <td>NaN</td>\n",
       "      <td>NaN</td>\n",
       "      <td>NaN</td>\n",
       "      <td>NaN</td>\n",
       "      <td>NaN</td>\n",
       "      <td>NaN</td>\n",
       "      <td>NaN</td>\n",
       "      <td>NaN</td>\n",
       "      <td>NaN</td>\n",
       "      <td>NaN</td>\n",
       "    </tr>\n",
       "    <tr>\n",
       "      <th>3</th>\n",
       "      <td>5</td>\n",
       "      <td>No</td>\n",
       "      <td>No</td>\n",
       "      <td>United States</td>\n",
       "      <td>No</td>\n",
       "      <td>Employed full-time</td>\n",
       "      <td>Bachelor’s degree (BA, BS, B.Eng., etc.)</td>\n",
       "      <td>Computer science, computer engineering, or sof...</td>\n",
       "      <td>100 to 499 employees</td>\n",
       "      <td>Full-stack developer</td>\n",
       "      <td>...</td>\n",
       "      <td>I don't typically exercise</td>\n",
       "      <td>Male</td>\n",
       "      <td>Straight or heterosexual</td>\n",
       "      <td>Some college/university study without earning ...</td>\n",
       "      <td>White or of European descent</td>\n",
       "      <td>35 - 44 years old</td>\n",
       "      <td>No</td>\n",
       "      <td>No</td>\n",
       "      <td>The survey was an appropriate length</td>\n",
       "      <td>Somewhat easy</td>\n",
       "    </tr>\n",
       "    <tr>\n",
       "      <th>4</th>\n",
       "      <td>7</td>\n",
       "      <td>Yes</td>\n",
       "      <td>No</td>\n",
       "      <td>South Africa</td>\n",
       "      <td>Yes, part-time</td>\n",
       "      <td>Employed full-time</td>\n",
       "      <td>Some college/university study without earning ...</td>\n",
       "      <td>Computer science, computer engineering, or sof...</td>\n",
       "      <td>10,000 or more employees</td>\n",
       "      <td>Data or business analyst;Desktop or enterprise...</td>\n",
       "      <td>...</td>\n",
       "      <td>3 - 4 times per week</td>\n",
       "      <td>Male</td>\n",
       "      <td>Straight or heterosexual</td>\n",
       "      <td>Some college/university study without earning ...</td>\n",
       "      <td>White or of European descent</td>\n",
       "      <td>18 - 24 years old</td>\n",
       "      <td>Yes</td>\n",
       "      <td>NaN</td>\n",
       "      <td>The survey was an appropriate length</td>\n",
       "      <td>Somewhat easy</td>\n",
       "    </tr>\n",
       "  </tbody>\n",
       "</table>\n",
       "<p>5 rows × 129 columns</p>\n",
       "</div>"
      ],
      "text/plain": [
       "   Respondent Hobby OpenSource         Country         Student  \\\n",
       "0           1   Yes         No           Kenya              No   \n",
       "1           3   Yes        Yes  United Kingdom              No   \n",
       "2           4   Yes        Yes   United States              No   \n",
       "3           5    No         No   United States              No   \n",
       "4           7   Yes         No    South Africa  Yes, part-time   \n",
       "\n",
       "           Employment                                    FormalEducation  \\\n",
       "0  Employed part-time           Bachelor’s degree (BA, BS, B.Eng., etc.)   \n",
       "1  Employed full-time           Bachelor’s degree (BA, BS, B.Eng., etc.)   \n",
       "2  Employed full-time                                   Associate degree   \n",
       "3  Employed full-time           Bachelor’s degree (BA, BS, B.Eng., etc.)   \n",
       "4  Employed full-time  Some college/university study without earning ...   \n",
       "\n",
       "                                      UndergradMajor  \\\n",
       "0                          Mathematics or statistics   \n",
       "1  A natural science (ex. biology, chemistry, phy...   \n",
       "2  Computer science, computer engineering, or sof...   \n",
       "3  Computer science, computer engineering, or sof...   \n",
       "4  Computer science, computer engineering, or sof...   \n",
       "\n",
       "                CompanySize  \\\n",
       "0        20 to 99 employees   \n",
       "1  10,000 or more employees   \n",
       "2        20 to 99 employees   \n",
       "3      100 to 499 employees   \n",
       "4  10,000 or more employees   \n",
       "\n",
       "                                             DevType      ...        \\\n",
       "0                               Full-stack developer      ...         \n",
       "1  Database administrator;DevOps specialist;Full-...      ...         \n",
       "2           Engineering manager;Full-stack developer      ...         \n",
       "3                               Full-stack developer      ...         \n",
       "4  Data or business analyst;Desktop or enterprise...      ...         \n",
       "\n",
       "                     Exercise Gender         SexualOrientation  \\\n",
       "0        3 - 4 times per week   Male  Straight or heterosexual   \n",
       "1   Daily or almost every day   Male  Straight or heterosexual   \n",
       "2                         NaN    NaN                       NaN   \n",
       "3  I don't typically exercise   Male  Straight or heterosexual   \n",
       "4        3 - 4 times per week   Male  Straight or heterosexual   \n",
       "\n",
       "                                    EducationParents  \\\n",
       "0           Bachelor’s degree (BA, BS, B.Eng., etc.)   \n",
       "1           Bachelor’s degree (BA, BS, B.Eng., etc.)   \n",
       "2                                                NaN   \n",
       "3  Some college/university study without earning ...   \n",
       "4  Some college/university study without earning ...   \n",
       "\n",
       "                  RaceEthnicity                Age Dependents  MilitaryUS  \\\n",
       "0   Black or of African descent  25 - 34 years old        Yes         NaN   \n",
       "1  White or of European descent  35 - 44 years old        Yes         NaN   \n",
       "2                           NaN                NaN        NaN         NaN   \n",
       "3  White or of European descent  35 - 44 years old         No          No   \n",
       "4  White or of European descent  18 - 24 years old        Yes         NaN   \n",
       "\n",
       "                          SurveyTooLong     SurveyEasy  \n",
       "0  The survey was an appropriate length      Very easy  \n",
       "1  The survey was an appropriate length  Somewhat easy  \n",
       "2                                   NaN            NaN  \n",
       "3  The survey was an appropriate length  Somewhat easy  \n",
       "4  The survey was an appropriate length  Somewhat easy  \n",
       "\n",
       "[5 rows x 129 columns]"
      ]
     },
     "execution_count": 13,
     "metadata": {},
     "output_type": "execute_result"
    }
   ],
   "source": [
    "df18 = pd.read_csv('./survey_results_public18.csv', low_memory=False)\n",
    "schema18 = pd.read_csv('./survey_results_schema18.csv')\n",
    "df18.head()"
   ]
  },
  {
   "cell_type": "code",
   "execution_count": 14,
   "metadata": {
    "scrolled": false
   },
   "outputs": [
    {
     "name": "stdout",
     "output_type": "stream",
     "text": [
      "Respondent: Randomized respondent ID number (not in order of survey response time)\n",
      "Hobby: Do you code as a hobby?\n",
      "OpenSource: Do you contribute to open source projects?\n",
      "Country: In which country do you currently reside?\n",
      "Student: Are you currently enrolled in a formal, degree-granting college or university program?\n",
      "Employment: Which of the following best describes your current employment status?\n",
      "FormalEducation: Which of the following best describes the highest level of formal education that you’ve completed?\n",
      "UndergradMajor: You previously indicated that you went to a college or university. Which of the following best describes your main field of study (aka 'major')\n",
      "CompanySize: Approximately how many people are employed by the company or organization you work for?\n",
      "DevType: Which of the following describe you? Please select all that apply.\n",
      "YearsCoding: Including any education, for how many years have you been coding?\n",
      "YearsCodingProf: For how many years have you coded professionally (as a part of your work)?\n",
      "JobSatisfaction: How satisfied are you with your current job? If you work more than one job, please answer regarding the one you spend the most hours on.\n",
      "CareerSatisfaction: Overall, how satisfied are you with your career thus far?\n",
      "HopeFiveYears: Which of the following best describes what you hope to be doing in five years?\n",
      "JobSearchStatus: Which of the following best describes your current job-seeking status?\n",
      "LastNewJob: When was the last time that you took a job with a new employer?\n",
      "AssessJob1: Imagine that you are assessing a potential job opportunity. Please rank the following aspects of the job opportunity in order of importance (by dragging the choices up and down), where 1 is the most important and 10 is the least important. The industry that I'd be working in\n",
      "AssessJob2: Imagine that you are assessing a potential job opportunity. Please rank the following aspects of the job opportunity in order of importance (by dragging the choices up and down), where 1 is the most important and 10 is the least important. The financial performance or funding status of the company or organization\n",
      "AssessJob3: Imagine that you are assessing a potential job opportunity. Please rank the following aspects of the job opportunity in order of importance (by dragging the choices up and down), where 1 is the most important and 10 is the least important. The specific department or team I'd be working on\n",
      "AssessJob4: Imagine that you are assessing a potential job opportunity. Please rank the following aspects of the job opportunity in order of importance (by dragging the choices up and down), where 1 is the most important and 10 is the least important. The languages, frameworks, and other technologies I'd be working with\n",
      "AssessJob5: Imagine that you are assessing a potential job opportunity. Please rank the following aspects of the job opportunity in order of importance (by dragging the choices up and down), where 1 is the most important and 10 is the least important. The compensation and benefits offered\n",
      "AssessJob6: Imagine that you are assessing a potential job opportunity. Please rank the following aspects of the job opportunity in order of importance (by dragging the choices up and down), where 1 is the most important and 10 is the least important. The office environment or company culture\n",
      "AssessJob7: Imagine that you are assessing a potential job opportunity. Please rank the following aspects of the job opportunity in order of importance (by dragging the choices up and down), where 1 is the most important and 10 is the least important. The opportunity to work from home/remotely\n",
      "AssessJob8: Imagine that you are assessing a potential job opportunity. Please rank the following aspects of the job opportunity in order of importance (by dragging the choices up and down), where 1 is the most important and 10 is the least important. Opportunities for professional development\n",
      "AssessJob9: Imagine that you are assessing a potential job opportunity. Please rank the following aspects of the job opportunity in order of importance (by dragging the choices up and down), where 1 is the most important and 10 is the least important. The diversity of the company or organization\n",
      "AssessJob10: Imagine that you are assessing a potential job opportunity. Please rank the following aspects of the job opportunity in order of importance (by dragging the choices up and down), where 1 is the most important and 10 is the least important. How widely used or impactful the product or service I'd be working on is\n",
      "AssessBenefits1: Now, imagine you are assessing a job's benefits package. Please rank the following aspects of a job's benefits package from most to least important to you (by dragging the choices up and down), where 1 is most important and 11 is least important. Salary and/or bonuses\n",
      "AssessBenefits2: Now, imagine you are assessing a job's benefits package. Please rank the following aspects of a job's benefits package from most to least important to you (by dragging the choices up and down), where 1 is most important and 11 is least important. Stock options or shares\n",
      "AssessBenefits3: Now, imagine you are assessing a job's benefits package. Please rank the following aspects of a job's benefits package from most to least important to you (by dragging the choices up and down), where 1 is most important and 11 is least important. Health insurance\n",
      "AssessBenefits4: Now, imagine you are assessing a job's benefits package. Please rank the following aspects of a job's benefits package from most to least important to you (by dragging the choices up and down), where 1 is most important and 11 is least important. Parental leave\n",
      "AssessBenefits5: Now, imagine you are assessing a job's benefits package. Please rank the following aspects of a job's benefits package from most to least important to you (by dragging the choices up and down), where 1 is most important and 11 is least important. Fitness or wellness benefit (ex. gym membership, nutritionist)\n",
      "AssessBenefits6: Now, imagine you are assessing a job's benefits package. Please rank the following aspects of a job's benefits package from most to least important to you (by dragging the choices up and down), where 1 is most important and 11 is least important. Retirement or pension savings matching\n",
      "AssessBenefits7: Now, imagine you are assessing a job's benefits package. Please rank the following aspects of a job's benefits package from most to least important to you (by dragging the choices up and down), where 1 is most important and 11 is least important. Company-provided meals or snacks\n",
      "AssessBenefits8: Now, imagine you are assessing a job's benefits package. Please rank the following aspects of a job's benefits package from most to least important to you (by dragging the choices up and down), where 1 is most important and 11 is least important. Computer/office equipment allowance\n",
      "AssessBenefits9: Now, imagine you are assessing a job's benefits package. Please rank the following aspects of a job's benefits package from most to least important to you (by dragging the choices up and down), where 1 is most important and 11 is least important. Childcare benefit\n",
      "AssessBenefits10: Now, imagine you are assessing a job's benefits package. Please rank the following aspects of a job's benefits package from most to least important to you (by dragging the choices up and down), where 1 is most important and 11 is least important. Transportation benefit (ex. company-provided transportation, public transit allowance)\n",
      "AssessBenefits11: Now, imagine you are assessing a job's benefits package. Please rank the following aspects of a job's benefits package from most to least important to you (by dragging the choices up and down), where 1 is most important and 11 is least important. Conference or education budget\n",
      "JobContactPriorities1: Imagine that a company wanted to contact you about a job that is a good fit for you. Please rank your preference in how you are contacted (by dragging the choices up and down), where 1 is the most preferred and 5 is the least preferred. Telephone call\n",
      "JobContactPriorities2: Imagine that a company wanted to contact you about a job that is a good fit for you. Please rank your preference in how you are contacted (by dragging the choices up and down), where 1 is the most preferred and 5 is the least preferred. Email to my private address\n",
      "JobContactPriorities3: Imagine that a company wanted to contact you about a job that is a good fit for you. Please rank your preference in how you are contacted (by dragging the choices up and down), where 1 is the most preferred and 5 is the least preferred. Email to my work address\n",
      "JobContactPriorities4: Imagine that a company wanted to contact you about a job that is a good fit for you. Please rank your preference in how you are contacted (by dragging the choices up and down), where 1 is the most preferred and 5 is the least preferred. Message on a job site\n",
      "JobContactPriorities5: Imagine that a company wanted to contact you about a job that is a good fit for you. Please rank your preference in how you are contacted (by dragging the choices up and down), where 1 is the most preferred and 5 is the least preferred. Message on a social media site\n",
      "JobEmailPriorities1: Imagine that same company decided to contact you through email. Please rank the following items by how important it is to include them in the message (by dragging the choices up and down), where 1 is the most important and 7 is the least important. Details on the company I'd be working for\n",
      "JobEmailPriorities2: Imagine that same company decided to contact you through email. Please rank the following items by how important it is to include them in the message (by dragging the choices up and down), where 1 is the most important and 7 is the least important. Details on the specific department I'd be working for or product I'd be working on\n",
      "JobEmailPriorities3: Imagine that same company decided to contact you through email. Please rank the following items by how important it is to include them in the message (by dragging the choices up and down), where 1 is the most important and 7 is the least important. Specifics of why they think I'd be a good fit for the role (ex. my prior work history, projects on GitHub)\n",
      "JobEmailPriorities4: Imagine that same company decided to contact you through email. Please rank the following items by how important it is to include them in the message (by dragging the choices up and down), where 1 is the most important and 7 is the least important. Details of which technologies I'd be working with\n",
      "JobEmailPriorities5: Imagine that same company decided to contact you through email. Please rank the following items by how important it is to include them in the message (by dragging the choices up and down), where 1 is the most important and 7 is the least important. An estimate of the compensation range\n",
      "JobEmailPriorities6: Imagine that same company decided to contact you through email. Please rank the following items by how important it is to include them in the message (by dragging the choices up and down), where 1 is the most important and 7 is the least important. Information on the company's hiring process\n",
      "JobEmailPriorities7: Imagine that same company decided to contact you through email. Please rank the following items by how important it is to include them in the message (by dragging the choices up and down), where 1 is the most important and 7 is the least important. Details on the company's product development process\n",
      "UpdateCV: Think back to the last time you updated your resumé, CV, or an online profile on a job site. What is the main reason that you did so?\n",
      "Currency: Which currency do you use day-to-day? If your answer is complicated, please pick the one you're most comfortable estimating in.\n",
      "Salary: What is your current gross salary (before taxes and deductions), in ${q://QID50/ChoiceGroup/SelectedChoicesTextEntry}? Please enter a whole number in the box below, without any punctuation. If you are paid hourly, please estimate an equivalent weekly, monthly, or yearly salary. If you prefer not to answer, please leave the box empty.\n",
      "SalaryType: Is that salary weekly, monthly, or yearly?\n",
      "ConvertedSalary: Salary converted to annual USD salaries using the exchange rate on 2018-01-18, assuming 12 working months and 50 working weeks.\n",
      "CurrencySymbol: Three digit currency abbreviation.\n",
      "CommunicationTools: Which of the following tools do you use to communicate, coordinate, or share knowledge with your coworkers? Please select all that apply.\n",
      "TimeFullyProductive: Suppose a new developer with four years of experience, including direct experience working with your company's main technical stack, joined your team tomorrow.  All other things being equal, how long would you expect it to take before they were fully productive and contributing at a typical level to your main code base?\n",
      "EducationTypes: Which of the following types of non-degree education have you used or participated in? Please select all that apply.\n",
      "SelfTaughtTypes: You indicated that you had taught yourself a programming technology without taking a course. What resources did you use to do that? If you’ve done it more than once, please think about the most recent time you’ve done so. Please select all that apply.\n",
      "TimeAfterBootcamp: You indicated previously that you went through a developer training program or bootcamp. How long did it take you to get a full-time job as a developer after graduating?\n",
      "HackathonReasons: You indicated previously that you had participated in an online coding competition or hackathon.  Which of the following best describe your reasons for doing so?\n",
      "AgreeDisagree1: To what extent do you agree or disagree with each of the following statements? I feel a sense of kinship or connection to other developers\n",
      "AgreeDisagree2: To what extent do you agree or disagree with each of the following statements? I think of myself as competing with my peers\n",
      "AgreeDisagree3: To what extent do you agree or disagree with each of the following statements? I'm not as good at programming as most of my peers\n",
      "LanguageWorkedWith: Which of the following programming, scripting, and markup languages have you done extensive development work in over the past year, and which do you want to work in over the next year?  (If you both worked with the language and want to continue to do so, please check both boxes in that row.)\n",
      "LanguageDesireNextYear: Which of the following programming, scripting, and markup languages have you done extensive development work in over the past year, and which do you want to work in over the next year?  (If you both worked with the language and want to continue to do so, please check both boxes in that row.)\n",
      "DatabaseWorkedWith: Which of the following database environments have you done extensive development work in over the past year, and which do you want to work in over the next year?   (If you both worked with the database and want to continue to do so, please check both boxes in that row.)\n",
      "DatabaseDesireNextYear: Which of the following database environments have you done extensive development work in over the past year, and which do you want to work in over the next year?   (If you both worked with the database and want to continue to do so, please check both boxes in that row.)\n",
      "PlatformWorkedWith: Which of the following platforms have you done extensive development work for over the past year?   (If you both developed for the platform and want to continue to do so, please check both boxes in that row.)\n",
      "PlatformDesireNextYear: Which of the following platforms have you done extensive development work for over the past year?   (If you both developed for the platform and want to continue to do so, please check both boxes in that row.)\n",
      "FrameworkWorkedWith: Which of the following libraries, frameworks, and tools have you done extensive development work in over the past year, and which do you want to work in over the next year?\n",
      "FrameworkDesireNextYear: Which of the following libraries, frameworks, and tools have you done extensive development work in over the past year, and which do you want to work in over the next year?\n",
      "IDE: Which development environment(s) do you use regularly?  Please check all that apply.\n",
      "OperatingSystem: What is the primary operating system in which you work?\n",
      "NumberMonitors: How many monitors are set up at your workstation?\n",
      "Methodology: Which of the following methodologies do you have experience working in?\n",
      "VersionControl: What version control systems do you use regularly? Please select all that apply.\n",
      "CheckInCode: Over the last year, how often have you checked-in or committed code?\n",
      "AdBlocker: Do you have ad-blocking software installed on any computers you use regularly?\n",
      "AdBlockerDisable: In the past month, have you disabled your ad blocker for any reason, even temporarily or for a specific website?\n",
      "AdBlockerReasons: What are the reasons that you have disabled your ad blocker in the past month? Please select all that apply.\n",
      "AdsAgreeDisagree1: To what extent do you agree or disagree with the following statements: Online advertising can be valuable when it is relevant to me\n",
      "AdsAgreeDisagree2: To what extent do you agree or disagree with the following statements: I enjoy seeing online updates from companies that I like\n",
      "AdsAgreeDisagree3: To what extent do you agree or disagree with the following statements: I fundamentally dislike the concept of advertising\n",
      "AdsActions: Which of the following actions have you taken in the past month? Please select all that apply.\n",
      "AdsPriorities1: Please rank the following advertising qualities in order of their importance to you (by dragging the choices up and down), where 1 is the most important, and 7 is the least important. The advertisement is relevant to me\n",
      "AdsPriorities2: Please rank the following advertising qualities in order of their importance to you (by dragging the choices up and down), where 1 is the most important, and 7 is the least important. The advertisement is honest about its goals\n",
      "AdsPriorities3: Please rank the following advertising qualities in order of their importance to you (by dragging the choices up and down), where 1 is the most important, and 7 is the least important. The advertisement provides useful information\n",
      "AdsPriorities4: Please rank the following advertising qualities in order of their importance to you (by dragging the choices up and down), where 1 is the most important, and 7 is the least important. The advertisement seems trustworthy\n",
      "AdsPriorities5: Please rank the following advertising qualities in order of their importance to you (by dragging the choices up and down), where 1 is the most important, and 7 is the least important. The advertisement is from a company that I like\n",
      "AdsPriorities6: Please rank the following advertising qualities in order of their importance to you (by dragging the choices up and down), where 1 is the most important, and 7 is the least important. The advertisement offers something of value, like a free trial\n",
      "AdsPriorities7: Please rank the following advertising qualities in order of their importance to you (by dragging the choices up and down), where 1 is the most important, and 7 is the least important. The advertisement avoids fluffy or vague language\n",
      "AIDangerous: What do you think is the most dangerous aspect of increasingly advanced AI technology?\n",
      "AIInteresting: What do you think is the most exciting aspect of increasingly advanced AI technology?\n",
      "AIResponsible: Whose responsibility is it, <u>primarily</u>, to consider the ramifications of increasingly advanced AI technology?\n",
      "AIFuture: Overall, what's your take on the future of artificial intelligence?\n",
      "EthicsChoice: Imagine that you were asked to write code for a purpose or product that you consider extremely unethical. Do you write the code anyway?\n",
      "EthicsReport: Do you report or otherwise call out the unethical code in question?\n",
      "EthicsResponsible: Who do you believe is ultimately most responsible for code that accomplishes something unethical?\n",
      "EthicalImplications: Do you believe that you have an obligation to consider the ethical implications of the code that you write?\n",
      "StackOverflowRecommend: How likely is it that you would recommend Stack Overflow overall to a friend or colleague? Where 0 is not likely at all and 10 is very likely.\n",
      "StackOverflowVisit: How frequently would you say you visit Stack Overflow?\n",
      "StackOverflowHasAccount: Do you have a Stack Overflow account?\n",
      "StackOverflowParticipate: How frequently would you say you participate in Q&A on Stack Overflow? By participate we mean ask, answer, vote for, or comment on questions.\n",
      "StackOverflowJobs: Have you ever used or visited Stack Overflow Jobs?\n",
      "StackOverflowDevStory: Do you have an up-to-date Developer Story on Stack Overflow?\n",
      "StackOverflowJobsRecommend: How likely is it that you would recommend Stack Overflow Jobs to a friend or colleague? Where 0 is not likely at all and 10 is very likely.\n",
      "StackOverflowConsiderMember: Do you consider yourself a member of the Stack Overflow community?\n",
      "HypotheticalTools1: Please rate your interest in participating in each of the following hypothetical tools on Stack Overflow, where 1 is not at all interested and 5 is extremely interested. A peer mentoring system\n",
      "HypotheticalTools2: Please rate your interest in participating in each of the following hypothetical tools on Stack Overflow, where 1 is not at all interested and 5 is extremely interested. A private area for people new to programming\n",
      "HypotheticalTools3: Please rate your interest in participating in each of the following hypothetical tools on Stack Overflow, where 1 is not at all interested and 5 is extremely interested. A programming-oriented blog platform\n",
      "HypotheticalTools4: Please rate your interest in participating in each of the following hypothetical tools on Stack Overflow, where 1 is not at all interested and 5 is extremely interested. An employer or job review system\n",
      "HypotheticalTools5: Please rate your interest in participating in each of the following hypothetical tools on Stack Overflow, where 1 is not at all interested and 5 is extremely interested. An area for Q&A related to career growth\n",
      "WakeTime: On days when you work, what time do you typically wake up?\n",
      "HoursComputer: On a typical day, how much time do you spend on a desktop or laptop computer?\n",
      "HoursOutside: On a typical day, how much time do you spend outside?\n",
      "SkipMeals: In a typical week, how many times do you skip a meal in order to be more productive?\n",
      "ErgonomicDevices: What ergonomic furniture or devices do you use on a regular basis? Please select all that apply.\n",
      "Exercise: In a typical week, how many times do you exercise?\n",
      "Gender: Which of the following do you currently identify as? Please select all that apply. If you prefer not to answer, you may leave this question blank.\n",
      "SexualOrientation: Which of the following do you currently identify as? Please select all that apply. If you prefer not to answer, you may leave this question blank.\n",
      "EducationParents: What is the highest level of education received by either of your parents? If you prefer not to answer, you may leave this question blank.\n",
      "RaceEthnicity: Which of the following do you identify as? Please check all that apply. If you prefer not to answer, you may leave this question blank.\n",
      "Age: What is your age? If you prefer not to answer, you may leave this question blank.\n",
      "Dependents: Do you have any children or other dependents that you care for? If you prefer not to answer, you may leave this question blank.\n",
      "MilitaryUS: Are you currently serving or have you ever served in the U.S. Military?\n",
      "SurveyTooLong: How do you feel about the length of the survey that you just completed?\n",
      "SurveyEasy: How easy or difficult was this survey to complete?\n"
     ]
    }
   ],
   "source": [
    "# schema18.head()\n",
    "\n",
    "for column in df18.columns:\n",
    "    print('{}: {}'.format(column, get_description(column, schema18)))"
   ]
  },
  {
   "cell_type": "markdown",
   "metadata": {},
   "source": [
    "It seems like we have the same fields, but some of them are using a different feature name.\n",
    "\n",
    "1. RaceEthnicity seems to express the same value of Ethnicity;\n",
    "2. JobSatisfaction seems to express the same value of JobSat;\n",
    "3. JobSearchStatus seems to express the same value of JobSeek;\n",
    "4. ConvertedSalary seems to be the same that ConvertedComp;\n",
    "\n",
    "Gender continues to be the same."
   ]
  },
  {
   "cell_type": "code",
   "execution_count": 15,
   "metadata": {},
   "outputs": [
    {
     "name": "stdout",
     "output_type": "stream",
     "text": [
      "Number of respondents world in 2018: 98855\n",
      "Number of respondents US in 2018: 20309\n",
      "Proportion of missing values in Ethnicity: 0.27\n",
      "Proportion of missing values in Gender: 0.23\n"
     ]
    }
   ],
   "source": [
    "us_df = df18.query('Country == \"United States\"')\n",
    "print('Number of respondents world in 2018: %s'%df18.shape[0])\n",
    "print('Number of respondents US in 2018: %s'%us_df.shape[0])\n",
    "\n",
    "resp_ethny = us_df['RaceEthnicity'].count()/us_df.shape[0]\n",
    "resp_gender = us_df['Gender'].count()/us_df.shape[0]\n",
    "print('Proportion of missing values in Ethnicity: %.2f'%(1-resp_ethny))\n",
    "print('Proportion of missing values in Gender: %.2f'%(1-resp_gender))"
   ]
  },
  {
   "cell_type": "code",
   "execution_count": 16,
   "metadata": {},
   "outputs": [
    {
     "data": {
      "text/plain": [
       "['Hispanic or Latino/Latina',\n",
       " 'East Asian',\n",
       " 'Middle Eastern',\n",
       " 'South Asian',\n",
       " 'Black or of African descent',\n",
       " 'White or of European descent',\n",
       " 'Native American, Pacific Islander, or Indigenous Australian']"
      ]
     },
     "execution_count": 16,
     "metadata": {},
     "output_type": "execute_result"
    }
   ],
   "source": [
    "extract_feature_list(df18['RaceEthnicity'])"
   ]
  },
  {
   "cell_type": "code",
   "execution_count": 17,
   "metadata": {},
   "outputs": [
    {
     "data": {
      "text/plain": [
       "['Female',\n",
       " 'Male',\n",
       " 'Transgender',\n",
       " 'Non-binary, genderqueer, or gender non-conforming']"
      ]
     },
     "execution_count": 17,
     "metadata": {},
     "output_type": "execute_result"
    }
   ],
   "source": [
    "extract_feature_list(df18['Gender'])"
   ]
  },
  {
   "cell_type": "markdown",
   "metadata": {},
   "source": [
    "Feature \"RaceEthnicity\" in the 2018 dataset have different values compared to feature \"Ethnicity\" in the 2020 dataset, as well as Gender feature, which has one value more in 2018 dataset compared to 2020 dataset. Let's see the 2019 dataset. "
   ]
  },
  {
   "cell_type": "code",
   "execution_count": 18,
   "metadata": {},
   "outputs": [
    {
     "data": {
      "text/html": [
       "<div>\n",
       "<style scoped>\n",
       "    .dataframe tbody tr th:only-of-type {\n",
       "        vertical-align: middle;\n",
       "    }\n",
       "\n",
       "    .dataframe tbody tr th {\n",
       "        vertical-align: top;\n",
       "    }\n",
       "\n",
       "    .dataframe thead th {\n",
       "        text-align: right;\n",
       "    }\n",
       "</style>\n",
       "<table border=\"1\" class=\"dataframe\">\n",
       "  <thead>\n",
       "    <tr style=\"text-align: right;\">\n",
       "      <th></th>\n",
       "      <th>Respondent</th>\n",
       "      <th>MainBranch</th>\n",
       "      <th>Hobbyist</th>\n",
       "      <th>OpenSourcer</th>\n",
       "      <th>OpenSource</th>\n",
       "      <th>Employment</th>\n",
       "      <th>Country</th>\n",
       "      <th>Student</th>\n",
       "      <th>EdLevel</th>\n",
       "      <th>UndergradMajor</th>\n",
       "      <th>...</th>\n",
       "      <th>WelcomeChange</th>\n",
       "      <th>SONewContent</th>\n",
       "      <th>Age</th>\n",
       "      <th>Gender</th>\n",
       "      <th>Trans</th>\n",
       "      <th>Sexuality</th>\n",
       "      <th>Ethnicity</th>\n",
       "      <th>Dependents</th>\n",
       "      <th>SurveyLength</th>\n",
       "      <th>SurveyEase</th>\n",
       "    </tr>\n",
       "  </thead>\n",
       "  <tbody>\n",
       "    <tr>\n",
       "      <th>0</th>\n",
       "      <td>1</td>\n",
       "      <td>I am a student who is learning to code</td>\n",
       "      <td>Yes</td>\n",
       "      <td>Never</td>\n",
       "      <td>The quality of OSS and closed source software ...</td>\n",
       "      <td>Not employed, and not looking for work</td>\n",
       "      <td>United Kingdom</td>\n",
       "      <td>No</td>\n",
       "      <td>Primary/elementary school</td>\n",
       "      <td>NaN</td>\n",
       "      <td>...</td>\n",
       "      <td>Just as welcome now as I felt last year</td>\n",
       "      <td>Tech articles written by other developers;Indu...</td>\n",
       "      <td>14.0</td>\n",
       "      <td>Man</td>\n",
       "      <td>No</td>\n",
       "      <td>Straight / Heterosexual</td>\n",
       "      <td>NaN</td>\n",
       "      <td>No</td>\n",
       "      <td>Appropriate in length</td>\n",
       "      <td>Neither easy nor difficult</td>\n",
       "    </tr>\n",
       "    <tr>\n",
       "      <th>1</th>\n",
       "      <td>2</td>\n",
       "      <td>I am a student who is learning to code</td>\n",
       "      <td>No</td>\n",
       "      <td>Less than once per year</td>\n",
       "      <td>The quality of OSS and closed source software ...</td>\n",
       "      <td>Not employed, but looking for work</td>\n",
       "      <td>Bosnia and Herzegovina</td>\n",
       "      <td>Yes, full-time</td>\n",
       "      <td>Secondary school (e.g. American high school, G...</td>\n",
       "      <td>NaN</td>\n",
       "      <td>...</td>\n",
       "      <td>Just as welcome now as I felt last year</td>\n",
       "      <td>Tech articles written by other developers;Indu...</td>\n",
       "      <td>19.0</td>\n",
       "      <td>Man</td>\n",
       "      <td>No</td>\n",
       "      <td>Straight / Heterosexual</td>\n",
       "      <td>NaN</td>\n",
       "      <td>No</td>\n",
       "      <td>Appropriate in length</td>\n",
       "      <td>Neither easy nor difficult</td>\n",
       "    </tr>\n",
       "    <tr>\n",
       "      <th>2</th>\n",
       "      <td>3</td>\n",
       "      <td>I am not primarily a developer, but I write co...</td>\n",
       "      <td>Yes</td>\n",
       "      <td>Never</td>\n",
       "      <td>The quality of OSS and closed source software ...</td>\n",
       "      <td>Employed full-time</td>\n",
       "      <td>Thailand</td>\n",
       "      <td>No</td>\n",
       "      <td>Bachelor’s degree (BA, BS, B.Eng., etc.)</td>\n",
       "      <td>Web development or web design</td>\n",
       "      <td>...</td>\n",
       "      <td>Just as welcome now as I felt last year</td>\n",
       "      <td>Tech meetups or events in your area;Courses on...</td>\n",
       "      <td>28.0</td>\n",
       "      <td>Man</td>\n",
       "      <td>No</td>\n",
       "      <td>Straight / Heterosexual</td>\n",
       "      <td>NaN</td>\n",
       "      <td>Yes</td>\n",
       "      <td>Appropriate in length</td>\n",
       "      <td>Neither easy nor difficult</td>\n",
       "    </tr>\n",
       "    <tr>\n",
       "      <th>3</th>\n",
       "      <td>4</td>\n",
       "      <td>I am a developer by profession</td>\n",
       "      <td>No</td>\n",
       "      <td>Never</td>\n",
       "      <td>The quality of OSS and closed source software ...</td>\n",
       "      <td>Employed full-time</td>\n",
       "      <td>United States</td>\n",
       "      <td>No</td>\n",
       "      <td>Bachelor’s degree (BA, BS, B.Eng., etc.)</td>\n",
       "      <td>Computer science, computer engineering, or sof...</td>\n",
       "      <td>...</td>\n",
       "      <td>Just as welcome now as I felt last year</td>\n",
       "      <td>Tech articles written by other developers;Indu...</td>\n",
       "      <td>22.0</td>\n",
       "      <td>Man</td>\n",
       "      <td>No</td>\n",
       "      <td>Straight / Heterosexual</td>\n",
       "      <td>White or of European descent</td>\n",
       "      <td>No</td>\n",
       "      <td>Appropriate in length</td>\n",
       "      <td>Easy</td>\n",
       "    </tr>\n",
       "    <tr>\n",
       "      <th>4</th>\n",
       "      <td>5</td>\n",
       "      <td>I am a developer by profession</td>\n",
       "      <td>Yes</td>\n",
       "      <td>Once a month or more often</td>\n",
       "      <td>OSS is, on average, of HIGHER quality than pro...</td>\n",
       "      <td>Employed full-time</td>\n",
       "      <td>Ukraine</td>\n",
       "      <td>No</td>\n",
       "      <td>Bachelor’s degree (BA, BS, B.Eng., etc.)</td>\n",
       "      <td>Computer science, computer engineering, or sof...</td>\n",
       "      <td>...</td>\n",
       "      <td>Just as welcome now as I felt last year</td>\n",
       "      <td>Tech meetups or events in your area;Courses on...</td>\n",
       "      <td>30.0</td>\n",
       "      <td>Man</td>\n",
       "      <td>No</td>\n",
       "      <td>Straight / Heterosexual</td>\n",
       "      <td>White or of European descent;Multiracial</td>\n",
       "      <td>No</td>\n",
       "      <td>Appropriate in length</td>\n",
       "      <td>Easy</td>\n",
       "    </tr>\n",
       "  </tbody>\n",
       "</table>\n",
       "<p>5 rows × 85 columns</p>\n",
       "</div>"
      ],
      "text/plain": [
       "   Respondent                                         MainBranch Hobbyist  \\\n",
       "0           1             I am a student who is learning to code      Yes   \n",
       "1           2             I am a student who is learning to code       No   \n",
       "2           3  I am not primarily a developer, but I write co...      Yes   \n",
       "3           4                     I am a developer by profession       No   \n",
       "4           5                     I am a developer by profession      Yes   \n",
       "\n",
       "                  OpenSourcer  \\\n",
       "0                       Never   \n",
       "1     Less than once per year   \n",
       "2                       Never   \n",
       "3                       Never   \n",
       "4  Once a month or more often   \n",
       "\n",
       "                                          OpenSource  \\\n",
       "0  The quality of OSS and closed source software ...   \n",
       "1  The quality of OSS and closed source software ...   \n",
       "2  The quality of OSS and closed source software ...   \n",
       "3  The quality of OSS and closed source software ...   \n",
       "4  OSS is, on average, of HIGHER quality than pro...   \n",
       "\n",
       "                               Employment                 Country  \\\n",
       "0  Not employed, and not looking for work          United Kingdom   \n",
       "1      Not employed, but looking for work  Bosnia and Herzegovina   \n",
       "2                      Employed full-time                Thailand   \n",
       "3                      Employed full-time           United States   \n",
       "4                      Employed full-time                 Ukraine   \n",
       "\n",
       "          Student                                            EdLevel  \\\n",
       "0              No                          Primary/elementary school   \n",
       "1  Yes, full-time  Secondary school (e.g. American high school, G...   \n",
       "2              No           Bachelor’s degree (BA, BS, B.Eng., etc.)   \n",
       "3              No           Bachelor’s degree (BA, BS, B.Eng., etc.)   \n",
       "4              No           Bachelor’s degree (BA, BS, B.Eng., etc.)   \n",
       "\n",
       "                                      UndergradMajor  \\\n",
       "0                                                NaN   \n",
       "1                                                NaN   \n",
       "2                      Web development or web design   \n",
       "3  Computer science, computer engineering, or sof...   \n",
       "4  Computer science, computer engineering, or sof...   \n",
       "\n",
       "              ...                                        WelcomeChange  \\\n",
       "0             ...              Just as welcome now as I felt last year   \n",
       "1             ...              Just as welcome now as I felt last year   \n",
       "2             ...              Just as welcome now as I felt last year   \n",
       "3             ...              Just as welcome now as I felt last year   \n",
       "4             ...              Just as welcome now as I felt last year   \n",
       "\n",
       "                                        SONewContent   Age Gender Trans  \\\n",
       "0  Tech articles written by other developers;Indu...  14.0    Man    No   \n",
       "1  Tech articles written by other developers;Indu...  19.0    Man    No   \n",
       "2  Tech meetups or events in your area;Courses on...  28.0    Man    No   \n",
       "3  Tech articles written by other developers;Indu...  22.0    Man    No   \n",
       "4  Tech meetups or events in your area;Courses on...  30.0    Man    No   \n",
       "\n",
       "                 Sexuality                                 Ethnicity  \\\n",
       "0  Straight / Heterosexual                                       NaN   \n",
       "1  Straight / Heterosexual                                       NaN   \n",
       "2  Straight / Heterosexual                                       NaN   \n",
       "3  Straight / Heterosexual              White or of European descent   \n",
       "4  Straight / Heterosexual  White or of European descent;Multiracial   \n",
       "\n",
       "  Dependents           SurveyLength                  SurveyEase  \n",
       "0         No  Appropriate in length  Neither easy nor difficult  \n",
       "1         No  Appropriate in length  Neither easy nor difficult  \n",
       "2        Yes  Appropriate in length  Neither easy nor difficult  \n",
       "3         No  Appropriate in length                        Easy  \n",
       "4         No  Appropriate in length                        Easy  \n",
       "\n",
       "[5 rows x 85 columns]"
      ]
     },
     "execution_count": 18,
     "metadata": {},
     "output_type": "execute_result"
    }
   ],
   "source": [
    "df19 = pd.read_csv('./survey_results_public19.csv', low_memory=False)\n",
    "schema19 = pd.read_csv('./survey_results_schema19.csv')\n",
    "df19.head()"
   ]
  },
  {
   "cell_type": "code",
   "execution_count": 19,
   "metadata": {
    "scrolled": false
   },
   "outputs": [
    {
     "name": "stdout",
     "output_type": "stream",
     "text": [
      "Respondent: Randomized respondent ID number (not in order of survey response time)\n",
      "MainBranch: Which of the following options best describes you today? Here, by \"developer\" we mean \"someone who writes code.\"\n",
      "Hobbyist: Do you code as a hobby?\n",
      "OpenSourcer: How often do you contribute to open source?\n",
      "OpenSource: How do you feel about the quality of open source software (OSS)?\n",
      "Employment: Which of the following best describes your current employment status?\n",
      "Country: In which country do you currently reside?\n",
      "Student: Are you currently enrolled in a formal, degree-granting college or university program?\n",
      "EdLevel: Which of the following best describes the highest level of formal education that you’ve completed?\n",
      "UndergradMajor: What was your main or most important field of study?\n",
      "EduOther: Which of the following types of non-degree education have you used or participated in? Please select all that apply.\n",
      "OrgSize: Approximately how many people are employed by the company or organization you work for?\n",
      "DevType: Which of the following describe you? Please select all that apply.\n",
      "YearsCode: Including any education, how many years have you been coding?\n",
      "Age1stCode: At what age did you write your first line of code or program? (E.g., webpage, Hello World, Scratch project)\n",
      "YearsCodePro: How many years have you coded professionally (as a part of your work)?\n",
      "CareerSat: Overall, how satisfied are you with your career thus far?\n",
      "JobSat: How satisfied are you with your current job? (If you work multiple jobs, answer for the one you spend the most hours on.)\n",
      "MgrIdiot: How confident are you that your manager knows what they’re doing?\n",
      "MgrMoney: Do you believe that you need to be a manager to make more money?\n",
      "MgrWant: Do you want to become a manager yourself in the future?\n",
      "JobSeek: Which of the following best describes your current job-seeking status?\n",
      "LastHireDate: When was the last time that you took a job with a new employer?\n",
      "LastInt: In your most recent successful job interview (resulting in a job offer), you were asked to... (check all that apply)\n",
      "FizzBuzz: Have you ever been asked to solve FizzBuzz in an interview?\n",
      "JobFactors: Imagine that you are deciding between two job offers with the same compensation, benefits, and location. Of the following factors, which 3 are MOST important to you?\n",
      "ResumeUpdate: Think back to the last time you updated your resumé, CV, or an online profile on a job site. What is the PRIMARY reason that you did so?\n",
      "CurrencySymbol: Which currency do you use day-to-day? If your answer is complicated, please pick the one you're most comfortable estimating in.\n",
      "CurrencyDesc: Which currency do you use day-to-day? If your answer is complicated, please pick the one you're most comfortable estimating in.\n",
      "CompTotal: What is your current total compensation (salary, bonuses, and perks, before taxes and deductions), in `CurrencySymbol`? Please enter a whole number in the box below, without any punctuation. If you are paid hourly, please estimate an equivalent weekly, monthly, or yearly salary. If you prefer not to answer, please leave the box empty.\n",
      "CompFreq: Is that compensation weekly, monthly, or yearly?\n",
      "ConvertedComp: Salary converted to annual USD salaries using the exchange rate on 2019-02-01, assuming 12 working months and 50 working weeks.\n",
      "WorkWeekHrs: On average, how many hours per week do you work?\n",
      "WorkPlan: How structured or planned is your work?\n",
      "WorkChallenge: Of these options, what are your greatest challenges to productivity as a developer? Select up to 3:\n",
      "WorkRemote: How often do you work remotely?\n",
      "WorkLoc: Where would you prefer to work?\n",
      "ImpSyn: For the specific work you do, and the years of experience you have, how do you rate your own level of competence?\n",
      "CodeRev: Do you review code as part of your work?\n",
      "CodeRevHrs: On average, how many hours per week do you spend on code review?\n",
      "UnitTests: Does your company regularly employ unit tests in the development of their products?\n",
      "PurchaseHow: How does your company make decisions about purchasing new technology (cloud, AI, IoT, databases)?\n",
      "PurchaseWhat: What level of influence do you, personally, have over new technology purchases at your organization?\n",
      "LanguageWorkedWith: Which of the following programming, scripting, and markup languages have you done extensive development work in over the past year, and which do you want to work in over the next year?  (If you both worked with the language and want to continue to do so, please check both boxes in that row.)\n",
      "LanguageDesireNextYear: Which of the following programming, scripting, and markup languages have you done extensive development work in over the past year, and which do you want to work in over the next year?  (If you both worked with the language and want to continue to do so, please check both boxes in that row.)\n",
      "DatabaseWorkedWith: Which of the following database environments have you done extensive development work in over the past year, and which do you want to work in over the next year?   (If you both worked with the database and want to continue to do so, please check both boxes in that row.)\n",
      "DatabaseDesireNextYear: Which of the following database environments have you done extensive development work in over the past year, and which do you want to work in over the next year?   (If you both worked with the database and want to continue to do so, please check both boxes in that row.)\n",
      "PlatformWorkedWith: Which of the following platforms have you done extensive development work for over the past year?   (If you both developed for the platform and want to continue to do so, please check both boxes in that row.)\n",
      "PlatformDesireNextYear: Which of the following platforms have you done extensive development work for over the past year?   (If you both developed for the platform and want to continue to do so, please check both boxes in that row.)\n",
      "WebFrameWorkedWith: Which of the following web frameworks have you done extensive development work in over the past year, and which do you want to work in over the next year? (If you both worked with the framework and want to continue to do so, please check both boxes in that row.)\n",
      "WebFrameDesireNextYear: Which of the following web frameworks have you done extensive development work in over the past year, and which do you want to work in over the next year? (If you both worked with the framework and want to continue to do so, please check both boxes in that row.)\n",
      "MiscTechWorkedWith: Which of the following other frameworks, libraries, and tools have you done extensive development work in over the past year, and which do you want to work in over the next year? (If you both worked with the technology and want to continue to do so, please check both boxes in that row.)\n",
      "MiscTechDesireNextYear: Which of the following other frameworks, libraries, and tools have you done extensive development work in over the past year, and which do you want to work in over the next year? (If you both worked with the technology and want to continue to do so, please check both boxes in that row.)\n",
      "DevEnviron: Which development environment(s) do you use regularly?  Please check all that apply.\n",
      "OpSys: What is the primary operating system in which you work?\n",
      "Containers: How do you use containers (Docker, Open Container Initiative (OCI), etc.)?\n",
      "BlockchainOrg: How is your organization thinking about or implementing blockchain technology?\n",
      "BlockchainIs: Blockchain / cryptocurrency technology is primarily:\n",
      "BetterLife: Do you think people born today will have a better life than their parents?\n",
      "ITperson: Are you the \"IT support person\" for your family?\n",
      "OffOn: Have you tried turning it off and on again?\n",
      "SocialMedia: What social media site do you use the most?\n",
      "Extraversion: Do you prefer online chat or IRL conversations?\n",
      "ScreenName: What do you call it?\n",
      "SOVisit1st: To the best of your memory, when did you first visit Stack Overflow?\n",
      "SOVisitFreq: How frequently would you say you visit Stack Overflow?\n",
      "SOVisitTo: I visit Stack Overflow to... (check all that apply)\n",
      "SOFindAnswer: On average, how many times a week do you find (and use) an answer on Stack Overflow?\n",
      "SOTimeSaved: Think back to the last time you solved a coding problem using Stack Overflow, as well as the last time you solved a problem using a different resource. Which was faster?\n",
      "SOHowMuchTime: About how much time did you save? If you're not sure, please use your best estimate.\n",
      "SOAccount: Do you have a Stack Overflow account?\n",
      "SOPartFreq: How frequently would you say you participate in Q&A on Stack Overflow? By participate we mean ask, answer, vote for, or comment on questions.\n",
      "SOJobs: Have you ever used or visited Stack Overflow Jobs?\n",
      "EntTeams: Have you ever used Stack Overflow for Enterprise or Stack Overflow for Teams?\n",
      "SOComm: Do you consider yourself a member of the Stack Overflow community?\n",
      "WelcomeChange: Compared to last year, how welcome do you feel on Stack Overflow?\n",
      "SONewContent: Would you like to see any of the following on Stack Overflow? Check all that apply.\n",
      "Age: What is your age (in years)? If you prefer not to answer, you may leave this question blank.\n",
      "Gender: Which of the following do you currently identify as? Please select all that apply. If you prefer not to answer, you may leave this question blank.\n",
      "Trans: Do you identify as transgender?\n",
      "Sexuality: Which of the following do you currently identify as? Please select all that apply. If you prefer not to answer, you may leave this question blank.\n",
      "Ethnicity: Which of the following do you identify as? Please check all that apply. If you prefer not to answer, you may leave this question blank.\n",
      "Dependents: Do you have any dependents (e.g., children, elders, or others) that you care for?\n",
      "SurveyLength: How do you feel about the length of the survey this year?\n",
      "SurveyEase: How easy or difficult was this survey to complete?\n"
     ]
    }
   ],
   "source": [
    "for column in df19.columns:\n",
    "    print('{}: {}'.format(column, get_description(column, schema19)))"
   ]
  },
  {
   "cell_type": "markdown",
   "metadata": {},
   "source": [
    "The 2019 dataset seems to be more in aligned with 2020 dataset looking to feature names. There are all the same features:\n",
    "\n",
    "1. Ethnicity and Gender\n",
    "2. JobSat, which indicates the job satisfaction of respondent\n",
    "3. ConvertedComp, which indicates the annual salary of respondent\n",
    "4. JobSeek, which indicates the job seeking status of respondent\n",
    "\n",
    "Let's extract the possible values to Ethnicity and Gender columns in 2019 dataset."
   ]
  },
  {
   "cell_type": "code",
   "execution_count": 20,
   "metadata": {},
   "outputs": [
    {
     "name": "stdout",
     "output_type": "stream",
     "text": [
      "Number of respondents world in 2019: 88883\n",
      "Number of respondents US in 2019: 20949\n",
      "Proportion of missing values in Ethnicity: 0.08\n",
      "Proportion of missing values in Gender: 0.04\n"
     ]
    }
   ],
   "source": [
    "us_df = df19.query('Country == \"United States\"')\n",
    "print('Number of respondents world in 2019: %s'%df19.shape[0])\n",
    "print('Number of respondents US in 2019: %s'%us_df.shape[0])\n",
    "\n",
    "resp_ethny = us_df['Ethnicity'].count()/us_df.shape[0]\n",
    "resp_gender = us_df['Gender'].count()/us_df.shape[0]\n",
    "print('Proportion of missing values in Ethnicity: %.2f'%(1-resp_ethny))\n",
    "print('Proportion of missing values in Gender: %.2f'%(1-resp_gender))"
   ]
  },
  {
   "cell_type": "code",
   "execution_count": 21,
   "metadata": {},
   "outputs": [
    {
     "data": {
      "text/plain": [
       "['Hispanic or Latino/Latina',\n",
       " 'East Asian',\n",
       " 'Multiracial',\n",
       " 'Middle Eastern',\n",
       " 'South Asian',\n",
       " 'Black or of African descent',\n",
       " 'Biracial',\n",
       " 'White or of European descent',\n",
       " 'Native American, Pacific Islander, or Indigenous Australian']"
      ]
     },
     "execution_count": 21,
     "metadata": {},
     "output_type": "execute_result"
    }
   ],
   "source": [
    "extract_feature_list(df19['Ethnicity'])"
   ]
  },
  {
   "cell_type": "code",
   "execution_count": 22,
   "metadata": {},
   "outputs": [
    {
     "data": {
      "text/plain": [
       "['Woman', 'Man', 'Non-binary, genderqueer, or gender non-conforming']"
      ]
     },
     "execution_count": 22,
     "metadata": {},
     "output_type": "execute_result"
    }
   ],
   "source": [
    "extract_feature_list(df19['Gender'])"
   ]
  },
  {
   "cell_type": "markdown",
   "metadata": {},
   "source": [
    "What are the distributions by gender and ethnicity in 2018 and 2019?"
   ]
  },
  {
   "cell_type": "code",
   "execution_count": 23,
   "metadata": {},
   "outputs": [
    {
     "data": {
      "text/html": [
       "<div>\n",
       "<style scoped>\n",
       "    .dataframe tbody tr th:only-of-type {\n",
       "        vertical-align: middle;\n",
       "    }\n",
       "\n",
       "    .dataframe tbody tr th {\n",
       "        vertical-align: top;\n",
       "    }\n",
       "\n",
       "    .dataframe thead th {\n",
       "        text-align: right;\n",
       "    }\n",
       "</style>\n",
       "<table border=\"1\" class=\"dataframe\">\n",
       "  <thead>\n",
       "    <tr style=\"text-align: right;\">\n",
       "      <th></th>\n",
       "      <th>Percentage</th>\n",
       "    </tr>\n",
       "    <tr>\n",
       "      <th>Gender</th>\n",
       "      <th></th>\n",
       "    </tr>\n",
       "  </thead>\n",
       "  <tbody>\n",
       "    <tr>\n",
       "      <th>Male</th>\n",
       "      <td>0.688414</td>\n",
       "    </tr>\n",
       "    <tr>\n",
       "      <th>Not answered</th>\n",
       "      <td>0.234280</td>\n",
       "    </tr>\n",
       "    <tr>\n",
       "      <th>Female</th>\n",
       "      <td>0.069772</td>\n",
       "    </tr>\n",
       "    <tr>\n",
       "      <th>Non-binary, genderqueer, or gender non-conforming</th>\n",
       "      <td>0.010734</td>\n",
       "    </tr>\n",
       "    <tr>\n",
       "      <th>Transgender</th>\n",
       "      <td>0.008962</td>\n",
       "    </tr>\n",
       "  </tbody>\n",
       "</table>\n",
       "</div>"
      ],
      "text/plain": [
       "                                                   Percentage\n",
       "Gender                                                       \n",
       "Male                                                 0.688414\n",
       "Not answered                                         0.234280\n",
       "Female                                               0.069772\n",
       "Non-binary, genderqueer, or gender non-conforming    0.010734\n",
       "Transgender                                          0.008962"
      ]
     },
     "execution_count": 23,
     "metadata": {},
     "output_type": "execute_result"
    }
   ],
   "source": [
    "# Distribution by gender 2018\n",
    "country18 = df18.query('Country == \"United States\"')\n",
    "distribution_by_feature(country18, 'Gender')"
   ]
  },
  {
   "cell_type": "code",
   "execution_count": 24,
   "metadata": {},
   "outputs": [
    {
     "data": {
      "text/html": [
       "<div>\n",
       "<style scoped>\n",
       "    .dataframe tbody tr th:only-of-type {\n",
       "        vertical-align: middle;\n",
       "    }\n",
       "\n",
       "    .dataframe tbody tr th {\n",
       "        vertical-align: top;\n",
       "    }\n",
       "\n",
       "    .dataframe thead th {\n",
       "        text-align: right;\n",
       "    }\n",
       "</style>\n",
       "<table border=\"1\" class=\"dataframe\">\n",
       "  <thead>\n",
       "    <tr style=\"text-align: right;\">\n",
       "      <th></th>\n",
       "      <th>Percentage</th>\n",
       "    </tr>\n",
       "    <tr>\n",
       "      <th>Gender</th>\n",
       "      <th></th>\n",
       "    </tr>\n",
       "  </thead>\n",
       "  <tbody>\n",
       "    <tr>\n",
       "      <th>Man</th>\n",
       "      <td>0.849205</td>\n",
       "    </tr>\n",
       "    <tr>\n",
       "      <th>Woman</th>\n",
       "      <td>0.105017</td>\n",
       "    </tr>\n",
       "    <tr>\n",
       "      <th>Not answered</th>\n",
       "      <td>0.036851</td>\n",
       "    </tr>\n",
       "    <tr>\n",
       "      <th>Non-binary, genderqueer, or gender non-conforming</th>\n",
       "      <td>0.017614</td>\n",
       "    </tr>\n",
       "  </tbody>\n",
       "</table>\n",
       "</div>"
      ],
      "text/plain": [
       "                                                   Percentage\n",
       "Gender                                                       \n",
       "Man                                                  0.849205\n",
       "Woman                                                0.105017\n",
       "Not answered                                         0.036851\n",
       "Non-binary, genderqueer, or gender non-conforming    0.017614"
      ]
     },
     "execution_count": 24,
     "metadata": {},
     "output_type": "execute_result"
    }
   ],
   "source": [
    "# Distribution by gender 2019\n",
    "country19 = df19.query('Country == \"United States\"')\n",
    "distribution_by_feature(country19, 'Gender')"
   ]
  },
  {
   "cell_type": "code",
   "execution_count": 25,
   "metadata": {},
   "outputs": [
    {
     "data": {
      "text/html": [
       "<div>\n",
       "<style scoped>\n",
       "    .dataframe tbody tr th:only-of-type {\n",
       "        vertical-align: middle;\n",
       "    }\n",
       "\n",
       "    .dataframe tbody tr th {\n",
       "        vertical-align: top;\n",
       "    }\n",
       "\n",
       "    .dataframe thead th {\n",
       "        text-align: right;\n",
       "    }\n",
       "</style>\n",
       "<table border=\"1\" class=\"dataframe\">\n",
       "  <thead>\n",
       "    <tr style=\"text-align: right;\">\n",
       "      <th></th>\n",
       "      <th>Percentage</th>\n",
       "    </tr>\n",
       "    <tr>\n",
       "      <th>RaceEthnicity</th>\n",
       "      <th></th>\n",
       "    </tr>\n",
       "  </thead>\n",
       "  <tbody>\n",
       "    <tr>\n",
       "      <th>White or of European descent</th>\n",
       "      <td>0.626422</td>\n",
       "    </tr>\n",
       "    <tr>\n",
       "      <th>Not answered</th>\n",
       "      <td>0.268305</td>\n",
       "    </tr>\n",
       "    <tr>\n",
       "      <th>Hispanic or Latino/Latina</th>\n",
       "      <td>0.038997</td>\n",
       "    </tr>\n",
       "    <tr>\n",
       "      <th>South Asian</th>\n",
       "      <td>0.037373</td>\n",
       "    </tr>\n",
       "    <tr>\n",
       "      <th>East Asian</th>\n",
       "      <td>0.036979</td>\n",
       "    </tr>\n",
       "    <tr>\n",
       "      <th>Black or of African descent</th>\n",
       "      <td>0.018317</td>\n",
       "    </tr>\n",
       "    <tr>\n",
       "      <th>Native American, Pacific Islander, or Indigenous Australian</th>\n",
       "      <td>0.012211</td>\n",
       "    </tr>\n",
       "    <tr>\n",
       "      <th>Middle Eastern</th>\n",
       "      <td>0.010833</td>\n",
       "    </tr>\n",
       "  </tbody>\n",
       "</table>\n",
       "</div>"
      ],
      "text/plain": [
       "                                                    Percentage\n",
       "RaceEthnicity                                                 \n",
       "White or of European descent                          0.626422\n",
       "Not answered                                          0.268305\n",
       "Hispanic or Latino/Latina                             0.038997\n",
       "South Asian                                           0.037373\n",
       "East Asian                                            0.036979\n",
       "Black or of African descent                           0.018317\n",
       "Native American, Pacific Islander, or Indigenou...    0.012211\n",
       "Middle Eastern                                        0.010833"
      ]
     },
     "execution_count": 25,
     "metadata": {},
     "output_type": "execute_result"
    }
   ],
   "source": [
    "# Distribution by ethnicity 2018\n",
    "country18 = df18.query('Country == \"United States\"')\n",
    "distribution_by_feature(country18, 'RaceEthnicity')"
   ]
  },
  {
   "cell_type": "code",
   "execution_count": 26,
   "metadata": {},
   "outputs": [
    {
     "data": {
      "text/html": [
       "<div>\n",
       "<style scoped>\n",
       "    .dataframe tbody tr th:only-of-type {\n",
       "        vertical-align: middle;\n",
       "    }\n",
       "\n",
       "    .dataframe tbody tr th {\n",
       "        vertical-align: top;\n",
       "    }\n",
       "\n",
       "    .dataframe thead th {\n",
       "        text-align: right;\n",
       "    }\n",
       "</style>\n",
       "<table border=\"1\" class=\"dataframe\">\n",
       "  <thead>\n",
       "    <tr style=\"text-align: right;\">\n",
       "      <th></th>\n",
       "      <th>Percentage</th>\n",
       "    </tr>\n",
       "    <tr>\n",
       "      <th>Ethnicity</th>\n",
       "      <th></th>\n",
       "    </tr>\n",
       "  </thead>\n",
       "  <tbody>\n",
       "    <tr>\n",
       "      <th>White or of European descent</th>\n",
       "      <td>0.765860</td>\n",
       "    </tr>\n",
       "    <tr>\n",
       "      <th>Not answered</th>\n",
       "      <td>0.081675</td>\n",
       "    </tr>\n",
       "    <tr>\n",
       "      <th>Hispanic or Latino/Latina</th>\n",
       "      <td>0.058332</td>\n",
       "    </tr>\n",
       "    <tr>\n",
       "      <th>South Asian</th>\n",
       "      <td>0.049549</td>\n",
       "    </tr>\n",
       "    <tr>\n",
       "      <th>East Asian</th>\n",
       "      <td>0.046303</td>\n",
       "    </tr>\n",
       "    <tr>\n",
       "      <th>Black or of African descent</th>\n",
       "      <td>0.026541</td>\n",
       "    </tr>\n",
       "    <tr>\n",
       "      <th>Multiracial</th>\n",
       "      <td>0.022817</td>\n",
       "    </tr>\n",
       "    <tr>\n",
       "      <th>Middle Eastern</th>\n",
       "      <td>0.016325</td>\n",
       "    </tr>\n",
       "    <tr>\n",
       "      <th>Biracial</th>\n",
       "      <td>0.016325</td>\n",
       "    </tr>\n",
       "    <tr>\n",
       "      <th>Native American, Pacific Islander, or Indigenous Australian</th>\n",
       "      <td>0.015132</td>\n",
       "    </tr>\n",
       "  </tbody>\n",
       "</table>\n",
       "</div>"
      ],
      "text/plain": [
       "                                                    Percentage\n",
       "Ethnicity                                                     \n",
       "White or of European descent                          0.765860\n",
       "Not answered                                          0.081675\n",
       "Hispanic or Latino/Latina                             0.058332\n",
       "South Asian                                           0.049549\n",
       "East Asian                                            0.046303\n",
       "Black or of African descent                           0.026541\n",
       "Multiracial                                           0.022817\n",
       "Middle Eastern                                        0.016325\n",
       "Biracial                                              0.016325\n",
       "Native American, Pacific Islander, or Indigenou...    0.015132"
      ]
     },
     "execution_count": 26,
     "metadata": {},
     "output_type": "execute_result"
    }
   ],
   "source": [
    "# Distribution by ethnicity 2019\n",
    "country19 = df19.query('Country == \"United States\"')\n",
    "distribution_by_feature(country19, 'Ethnicity')"
   ]
  },
  {
   "cell_type": "markdown",
   "metadata": {},
   "source": [
    "Let's understand what are the possible values to Job Satisfaction in the three datasets."
   ]
  },
  {
   "cell_type": "code",
   "execution_count": 86,
   "metadata": {},
   "outputs": [
    {
     "name": "stdout",
     "output_type": "stream",
     "text": [
      "Proportion missing values for job satisfaction: 0.2196\n"
     ]
    },
    {
     "data": {
      "text/plain": [
       "Moderately satisfied                  26005\n",
       "Extremely satisfied                   12436\n",
       "Slightly satisfied                    10012\n",
       "Slightly dissatisfied                  7057\n",
       "Moderately dissatisfied                6318\n",
       "Neither satisfied nor dissatisfied     4966\n",
       "Extremely dissatisfied                 2482\n",
       "Name: JobSatisfaction, dtype: int64"
      ]
     },
     "execution_count": 86,
     "metadata": {},
     "output_type": "execute_result"
    }
   ],
   "source": [
    "# Job Satisfaction in 2018\n",
    "missing_prop = 1-(country18['JobSatisfaction'].count()/country18.shape[0])\n",
    "print('Proportion missing values for job satisfaction: %.4f'%missing_prop)\n",
    "df18['JobSatisfaction'].value_counts()"
   ]
  },
  {
   "cell_type": "code",
   "execution_count": 84,
   "metadata": {},
   "outputs": [
    {
     "name": "stdout",
     "output_type": "stream",
     "text": [
      "Proportion missing values for job satisfaction: 0.1601\n"
     ]
    },
    {
     "data": {
      "text/plain": [
       "Slightly satisfied                    24207\n",
       "Very satisfied                        22452\n",
       "Slightly dissatisfied                 10752\n",
       "Neither satisfied nor dissatisfied     8720\n",
       "Very dissatisfied                      4857\n",
       "Name: JobSat, dtype: int64"
      ]
     },
     "execution_count": 84,
     "metadata": {},
     "output_type": "execute_result"
    }
   ],
   "source": [
    "# Job Satisfaction in 2019\n",
    "missing_prop = 1-(country19['JobSat'].count()/country19.shape[0])\n",
    "print('Proportion missing values for job satisfaction: %.4f'%missing_prop)\n",
    "df19['JobSat'].value_counts()"
   ]
  },
  {
   "cell_type": "code",
   "execution_count": 83,
   "metadata": {},
   "outputs": [
    {
     "name": "stdout",
     "output_type": "stream",
     "text": [
      "Proportion missing values for job satisfaction: 0.2196\n"
     ]
    },
    {
     "data": {
      "text/plain": [
       "Very satisfied                        14611\n",
       "Slightly satisfied                    13930\n",
       "Slightly dissatisfied                  7124\n",
       "Neither satisfied nor dissatisfied     5783\n",
       "Very dissatisfied                      3746\n",
       "Name: JobSat, dtype: int64"
      ]
     },
     "execution_count": 83,
     "metadata": {},
     "output_type": "execute_result"
    }
   ],
   "source": [
    "# Job Satisfaction in 2020\n",
    "missing_prop = 1-(country['JobSat'].count()/country.shape[0])\n",
    "print('Proportion missing values for job satisfaction: %.4f'%missing_prop)\n",
    "df['JobSat'].value_counts()"
   ]
  },
  {
   "cell_type": "markdown",
   "metadata": {},
   "source": [
    "In the 2018 dataset, Stackoverflow used 7 scales of “Job Satisfaction”, whereas in the following years they used 5 scales. Let's understand more about how the current job seeking status of the respondents are presented."
   ]
  },
  {
   "cell_type": "code",
   "execution_count": 80,
   "metadata": {},
   "outputs": [
    {
     "name": "stdout",
     "output_type": "stream",
     "text": [
      "Proportion missing values for job seeking status: 0.1282\n"
     ]
    },
    {
     "data": {
      "text/plain": [
       "I’m not actively looking, but I am open to new opportunities    47556\n",
       "I am not interested in new job opportunities                    19296\n",
       "I am actively looking for a job                                 12636\n",
       "Name: JobSearchStatus, dtype: int64"
      ]
     },
     "execution_count": 80,
     "metadata": {},
     "output_type": "execute_result"
    }
   ],
   "source": [
    "# JobSeek in 2018\n",
    "missing_prop = 1-(country18['JobSearchStatus'].count()/country18.shape[0])\n",
    "print('Proportion missing values for job seeking status: %.4f'%missing_prop)\n",
    "df18['JobSearchStatus'].value_counts()"
   ]
  },
  {
   "cell_type": "code",
   "execution_count": 78,
   "metadata": {},
   "outputs": [
    {
     "name": "stdout",
     "output_type": "stream",
     "text": [
      "Proportion missing values for job seeking status: 0.0816\n"
     ]
    },
    {
     "data": {
      "text/plain": [
       "I’m not actively looking, but I am open to new opportunities    47260\n",
       "I am not interested in new job opportunities                    21080\n",
       "I am actively looking for a job                                 12215\n",
       "Name: JobSeek, dtype: int64"
      ]
     },
     "execution_count": 78,
     "metadata": {},
     "output_type": "execute_result"
    }
   ],
   "source": [
    "# JobSeek in 2019\n",
    "missing_prop = 1-(country19['JobSeek'].count()/country19.shape[0])\n",
    "print('Proportion missing values for job seeking status: %.4f'%missing_prop)\n",
    "df19['JobSeek'].value_counts()"
   ]
  },
  {
   "cell_type": "code",
   "execution_count": 77,
   "metadata": {},
   "outputs": [
    {
     "name": "stdout",
     "output_type": "stream",
     "text": [
      "Proportion missing values for job seeking status: 0.1451\n"
     ]
    },
    {
     "data": {
      "text/plain": [
       "I’m not actively looking, but I am open to new opportunities    29776\n",
       "I am not interested in new job opportunities                    13001\n",
       "I am actively looking for a job                                  8950\n",
       "Name: JobSeek, dtype: int64"
      ]
     },
     "execution_count": 77,
     "metadata": {},
     "output_type": "execute_result"
    }
   ],
   "source": [
    "# JobSeek in 2020\n",
    "missing_prop = 1-(country['JobSeek'].count()/country.shape[0])\n",
    "print('Proportion missing values for job seeking status: %.4f'%missing_prop)\n",
    "df['JobSeek'].value_counts()"
   ]
  },
  {
   "cell_type": "markdown",
   "metadata": {},
   "source": [
    "Although the 2018 dataset presents a different data column name, the possible values are all the same in the three datasets. But a person who is actively looking for a job is not necessarily unemployed. Let's see what employment fields have."
   ]
  },
  {
   "cell_type": "code",
   "execution_count": 74,
   "metadata": {},
   "outputs": [
    {
     "name": "stdout",
     "output_type": "stream",
     "text": [
      "Proportion missing values for employment status: 0.0042\n"
     ]
    },
    {
     "data": {
      "text/plain": [
       "Employed full-time                                      45270\n",
       "Student                                                  7787\n",
       "Independent contractor, freelancer, or self-employed     5672\n",
       "Not employed, but looking for work                       2343\n",
       "Employed part-time                                       2217\n",
       "Not employed, and not looking for work                    322\n",
       "Retired                                                   243\n",
       "Name: Employment, dtype: int64"
      ]
     },
     "execution_count": 74,
     "metadata": {},
     "output_type": "execute_result"
    }
   ],
   "source": [
    "# Employment status in 2020\n",
    "missing_prop = 1-(country['Employment'].count()/country.shape[0])\n",
    "print('Proportion missing values for employment status: %.4f'%missing_prop)\n",
    "df['Employment'].value_counts()"
   ]
  },
  {
   "cell_type": "code",
   "execution_count": 75,
   "metadata": {},
   "outputs": [
    {
     "name": "stdout",
     "output_type": "stream",
     "text": [
      "Proportion missing values for employment status: 0.0137\n"
     ]
    },
    {
     "data": {
      "text/plain": [
       "Employed full-time                                      64440\n",
       "Independent contractor, freelancer, or self-employed     8511\n",
       "Not employed, but looking for work                       5600\n",
       "Employed part-time                                       4469\n",
       "Not employed, and not looking for work                   3803\n",
       "Retired                                                   358\n",
       "Name: Employment, dtype: int64"
      ]
     },
     "execution_count": 75,
     "metadata": {},
     "output_type": "execute_result"
    }
   ],
   "source": [
    "# Employment status in 2019\n",
    "missing_prop = 1-(country19['Employment'].count()/country19.shape[0])\n",
    "print('Proportion missing values for employment status: %.4f'%missing_prop)\n",
    "df19['Employment'].value_counts()"
   ]
  },
  {
   "cell_type": "code",
   "execution_count": 76,
   "metadata": {},
   "outputs": [
    {
     "name": "stdout",
     "output_type": "stream",
     "text": [
      "Proportion missing values for employment status: 0.0178\n"
     ]
    },
    {
     "data": {
      "text/plain": [
       "Employed full-time                                      70495\n",
       "Independent contractor, freelancer, or self-employed     9282\n",
       "Not employed, but looking for work                       5805\n",
       "Employed part-time                                       5380\n",
       "Not employed, and not looking for work                   4132\n",
       "Retired                                                   227\n",
       "Name: Employment, dtype: int64"
      ]
     },
     "execution_count": 76,
     "metadata": {},
     "output_type": "execute_result"
    }
   ],
   "source": [
    "# Employment status in 2018\n",
    "missing_prop = 1-(country18['Employment'].count()/country18.shape[0])\n",
    "print('Proportion missing values for employment status: %.4f'%missing_prop)\n",
    "df18['Employment'].value_counts()"
   ]
  },
  {
   "cell_type": "markdown",
   "metadata": {},
   "source": [
    "We have a lot of missing values. The strategy used to clean the data will be to use just the rows, which have all study variables answered."
   ]
  },
  {
   "cell_type": "code",
   "execution_count": 96,
   "metadata": {},
   "outputs": [
    {
     "name": "stdout",
     "output_type": "stream",
     "text": [
      "Total clean sample 2018: 11402\n"
     ]
    }
   ],
   "source": [
    "sample = df18.query('Country == \"United States\" & RaceEthnicity == RaceEthnicity & Gender == Gender & JobSatisfaction == JobSatisfaction & ConvertedSalary == ConvertedSalary & JobSearchStatus == JobSearchStatus')\n",
    "print('Total clean sample 2018: %s'%sample.shape[0])"
   ]
  },
  {
   "cell_type": "code",
   "execution_count": 98,
   "metadata": {},
   "outputs": [
    {
     "name": "stdout",
     "output_type": "stream",
     "text": [
      "Total clean sample 2019: 14151\n"
     ]
    }
   ],
   "source": [
    "sample = df19.query('Country == \"United States\" & Ethnicity == Ethnicity & Gender == Gender & JobSat == JobSat & ConvertedComp == ConvertedComp & JobSeek == JobSeek')\n",
    "print('Total clean sample 2019: %s'%sample.shape[0])"
   ]
  },
  {
   "cell_type": "code",
   "execution_count": 99,
   "metadata": {},
   "outputs": [
    {
     "name": "stdout",
     "output_type": "stream",
     "text": [
      "Total clean sample 2020: 7312\n"
     ]
    }
   ],
   "source": [
    "sample = df.query('Country == \"United States\" & Ethnicity == Ethnicity & Gender == Gender & JobSat == JobSat & ConvertedComp == ConvertedComp & JobSeek == JobSeek')\n",
    "print('Total clean sample 2020: %s'%sample.shape[0])"
   ]
  }
 ],
 "metadata": {
  "kernelspec": {
   "display_name": "Python 3",
   "language": "python",
   "name": "python3"
  },
  "language_info": {
   "codemirror_mode": {
    "name": "ipython",
    "version": 3
   },
   "file_extension": ".py",
   "mimetype": "text/x-python",
   "name": "python",
   "nbconvert_exporter": "python",
   "pygments_lexer": "ipython3",
   "version": "3.6.3"
  }
 },
 "nbformat": 4,
 "nbformat_minor": 2
}
