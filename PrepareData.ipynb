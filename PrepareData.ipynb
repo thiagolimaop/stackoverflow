{
 "cells": [
  {
   "cell_type": "markdown",
   "metadata": {},
   "source": [
    "### Prepare Data and Evaluate the Results\n",
    "\n",
    "Now we have had a closer look at the data, we need to clean it, and create functions to get data by ethnicity or gender."
   ]
  },
  {
   "cell_type": "code",
   "execution_count": 1,
   "metadata": {},
   "outputs": [
    {
     "data": {
      "text/html": [
       "<div>\n",
       "<style scoped>\n",
       "    .dataframe tbody tr th:only-of-type {\n",
       "        vertical-align: middle;\n",
       "    }\n",
       "\n",
       "    .dataframe tbody tr th {\n",
       "        vertical-align: top;\n",
       "    }\n",
       "\n",
       "    .dataframe thead th {\n",
       "        text-align: right;\n",
       "    }\n",
       "</style>\n",
       "<table border=\"1\" class=\"dataframe\">\n",
       "  <thead>\n",
       "    <tr style=\"text-align: right;\">\n",
       "      <th></th>\n",
       "      <th>Respondent</th>\n",
       "      <th>Hobby</th>\n",
       "      <th>OpenSource</th>\n",
       "      <th>Country</th>\n",
       "      <th>Student</th>\n",
       "      <th>Employment</th>\n",
       "      <th>FormalEducation</th>\n",
       "      <th>UndergradMajor</th>\n",
       "      <th>CompanySize</th>\n",
       "      <th>DevType</th>\n",
       "      <th>...</th>\n",
       "      <th>Exercise</th>\n",
       "      <th>Gender</th>\n",
       "      <th>SexualOrientation</th>\n",
       "      <th>EducationParents</th>\n",
       "      <th>RaceEthnicity</th>\n",
       "      <th>Age</th>\n",
       "      <th>Dependents</th>\n",
       "      <th>MilitaryUS</th>\n",
       "      <th>SurveyTooLong</th>\n",
       "      <th>SurveyEasy</th>\n",
       "    </tr>\n",
       "  </thead>\n",
       "  <tbody>\n",
       "    <tr>\n",
       "      <th>0</th>\n",
       "      <td>1</td>\n",
       "      <td>Yes</td>\n",
       "      <td>No</td>\n",
       "      <td>Kenya</td>\n",
       "      <td>No</td>\n",
       "      <td>Employed part-time</td>\n",
       "      <td>Bachelor’s degree (BA, BS, B.Eng., etc.)</td>\n",
       "      <td>Mathematics or statistics</td>\n",
       "      <td>20 to 99 employees</td>\n",
       "      <td>Full-stack developer</td>\n",
       "      <td>...</td>\n",
       "      <td>3 - 4 times per week</td>\n",
       "      <td>Male</td>\n",
       "      <td>Straight or heterosexual</td>\n",
       "      <td>Bachelor’s degree (BA, BS, B.Eng., etc.)</td>\n",
       "      <td>Black or of African descent</td>\n",
       "      <td>25 - 34 years old</td>\n",
       "      <td>Yes</td>\n",
       "      <td>NaN</td>\n",
       "      <td>The survey was an appropriate length</td>\n",
       "      <td>Very easy</td>\n",
       "    </tr>\n",
       "    <tr>\n",
       "      <th>1</th>\n",
       "      <td>3</td>\n",
       "      <td>Yes</td>\n",
       "      <td>Yes</td>\n",
       "      <td>United Kingdom</td>\n",
       "      <td>No</td>\n",
       "      <td>Employed full-time</td>\n",
       "      <td>Bachelor’s degree (BA, BS, B.Eng., etc.)</td>\n",
       "      <td>A natural science (ex. biology, chemistry, phy...</td>\n",
       "      <td>10,000 or more employees</td>\n",
       "      <td>Database administrator;DevOps specialist;Full-...</td>\n",
       "      <td>...</td>\n",
       "      <td>Daily or almost every day</td>\n",
       "      <td>Male</td>\n",
       "      <td>Straight or heterosexual</td>\n",
       "      <td>Bachelor’s degree (BA, BS, B.Eng., etc.)</td>\n",
       "      <td>White or of European descent</td>\n",
       "      <td>35 - 44 years old</td>\n",
       "      <td>Yes</td>\n",
       "      <td>NaN</td>\n",
       "      <td>The survey was an appropriate length</td>\n",
       "      <td>Somewhat easy</td>\n",
       "    </tr>\n",
       "    <tr>\n",
       "      <th>2</th>\n",
       "      <td>4</td>\n",
       "      <td>Yes</td>\n",
       "      <td>Yes</td>\n",
       "      <td>United States</td>\n",
       "      <td>No</td>\n",
       "      <td>Employed full-time</td>\n",
       "      <td>Associate degree</td>\n",
       "      <td>Computer science, computer engineering, or sof...</td>\n",
       "      <td>20 to 99 employees</td>\n",
       "      <td>Engineering manager;Full-stack developer</td>\n",
       "      <td>...</td>\n",
       "      <td>NaN</td>\n",
       "      <td>NaN</td>\n",
       "      <td>NaN</td>\n",
       "      <td>NaN</td>\n",
       "      <td>NaN</td>\n",
       "      <td>NaN</td>\n",
       "      <td>NaN</td>\n",
       "      <td>NaN</td>\n",
       "      <td>NaN</td>\n",
       "      <td>NaN</td>\n",
       "    </tr>\n",
       "    <tr>\n",
       "      <th>3</th>\n",
       "      <td>5</td>\n",
       "      <td>No</td>\n",
       "      <td>No</td>\n",
       "      <td>United States</td>\n",
       "      <td>No</td>\n",
       "      <td>Employed full-time</td>\n",
       "      <td>Bachelor’s degree (BA, BS, B.Eng., etc.)</td>\n",
       "      <td>Computer science, computer engineering, or sof...</td>\n",
       "      <td>100 to 499 employees</td>\n",
       "      <td>Full-stack developer</td>\n",
       "      <td>...</td>\n",
       "      <td>I don't typically exercise</td>\n",
       "      <td>Male</td>\n",
       "      <td>Straight or heterosexual</td>\n",
       "      <td>Some college/university study without earning ...</td>\n",
       "      <td>White or of European descent</td>\n",
       "      <td>35 - 44 years old</td>\n",
       "      <td>No</td>\n",
       "      <td>No</td>\n",
       "      <td>The survey was an appropriate length</td>\n",
       "      <td>Somewhat easy</td>\n",
       "    </tr>\n",
       "    <tr>\n",
       "      <th>4</th>\n",
       "      <td>7</td>\n",
       "      <td>Yes</td>\n",
       "      <td>No</td>\n",
       "      <td>South Africa</td>\n",
       "      <td>Yes, part-time</td>\n",
       "      <td>Employed full-time</td>\n",
       "      <td>Some college/university study without earning ...</td>\n",
       "      <td>Computer science, computer engineering, or sof...</td>\n",
       "      <td>10,000 or more employees</td>\n",
       "      <td>Data or business analyst;Desktop or enterprise...</td>\n",
       "      <td>...</td>\n",
       "      <td>3 - 4 times per week</td>\n",
       "      <td>Male</td>\n",
       "      <td>Straight or heterosexual</td>\n",
       "      <td>Some college/university study without earning ...</td>\n",
       "      <td>White or of European descent</td>\n",
       "      <td>18 - 24 years old</td>\n",
       "      <td>Yes</td>\n",
       "      <td>NaN</td>\n",
       "      <td>The survey was an appropriate length</td>\n",
       "      <td>Somewhat easy</td>\n",
       "    </tr>\n",
       "  </tbody>\n",
       "</table>\n",
       "<p>5 rows × 129 columns</p>\n",
       "</div>"
      ],
      "text/plain": [
       "   Respondent Hobby OpenSource         Country         Student  \\\n",
       "0           1   Yes         No           Kenya              No   \n",
       "1           3   Yes        Yes  United Kingdom              No   \n",
       "2           4   Yes        Yes   United States              No   \n",
       "3           5    No         No   United States              No   \n",
       "4           7   Yes         No    South Africa  Yes, part-time   \n",
       "\n",
       "           Employment                                    FormalEducation  \\\n",
       "0  Employed part-time           Bachelor’s degree (BA, BS, B.Eng., etc.)   \n",
       "1  Employed full-time           Bachelor’s degree (BA, BS, B.Eng., etc.)   \n",
       "2  Employed full-time                                   Associate degree   \n",
       "3  Employed full-time           Bachelor’s degree (BA, BS, B.Eng., etc.)   \n",
       "4  Employed full-time  Some college/university study without earning ...   \n",
       "\n",
       "                                      UndergradMajor  \\\n",
       "0                          Mathematics or statistics   \n",
       "1  A natural science (ex. biology, chemistry, phy...   \n",
       "2  Computer science, computer engineering, or sof...   \n",
       "3  Computer science, computer engineering, or sof...   \n",
       "4  Computer science, computer engineering, or sof...   \n",
       "\n",
       "                CompanySize  \\\n",
       "0        20 to 99 employees   \n",
       "1  10,000 or more employees   \n",
       "2        20 to 99 employees   \n",
       "3      100 to 499 employees   \n",
       "4  10,000 or more employees   \n",
       "\n",
       "                                             DevType      ...        \\\n",
       "0                               Full-stack developer      ...         \n",
       "1  Database administrator;DevOps specialist;Full-...      ...         \n",
       "2           Engineering manager;Full-stack developer      ...         \n",
       "3                               Full-stack developer      ...         \n",
       "4  Data or business analyst;Desktop or enterprise...      ...         \n",
       "\n",
       "                     Exercise Gender         SexualOrientation  \\\n",
       "0        3 - 4 times per week   Male  Straight or heterosexual   \n",
       "1   Daily or almost every day   Male  Straight or heterosexual   \n",
       "2                         NaN    NaN                       NaN   \n",
       "3  I don't typically exercise   Male  Straight or heterosexual   \n",
       "4        3 - 4 times per week   Male  Straight or heterosexual   \n",
       "\n",
       "                                    EducationParents  \\\n",
       "0           Bachelor’s degree (BA, BS, B.Eng., etc.)   \n",
       "1           Bachelor’s degree (BA, BS, B.Eng., etc.)   \n",
       "2                                                NaN   \n",
       "3  Some college/university study without earning ...   \n",
       "4  Some college/university study without earning ...   \n",
       "\n",
       "                  RaceEthnicity                Age Dependents  MilitaryUS  \\\n",
       "0   Black or of African descent  25 - 34 years old        Yes         NaN   \n",
       "1  White or of European descent  35 - 44 years old        Yes         NaN   \n",
       "2                           NaN                NaN        NaN         NaN   \n",
       "3  White or of European descent  35 - 44 years old         No          No   \n",
       "4  White or of European descent  18 - 24 years old        Yes         NaN   \n",
       "\n",
       "                          SurveyTooLong     SurveyEasy  \n",
       "0  The survey was an appropriate length      Very easy  \n",
       "1  The survey was an appropriate length  Somewhat easy  \n",
       "2                                   NaN            NaN  \n",
       "3  The survey was an appropriate length  Somewhat easy  \n",
       "4  The survey was an appropriate length  Somewhat easy  \n",
       "\n",
       "[5 rows x 129 columns]"
      ]
     },
     "execution_count": 1,
     "metadata": {},
     "output_type": "execute_result"
    }
   ],
   "source": [
    "import numpy as np\n",
    "import pandas as pd\n",
    "import matplotlib.pyplot as plt\n",
    "%matplotlib inline\n",
    "\n",
    "df18 = pd.read_csv('./survey_results_public18.csv', low_memory=False)\n",
    "df18.head()"
   ]
  },
  {
   "cell_type": "code",
   "execution_count": 2,
   "metadata": {},
   "outputs": [
    {
     "data": {
      "text/html": [
       "<div>\n",
       "<style scoped>\n",
       "    .dataframe tbody tr th:only-of-type {\n",
       "        vertical-align: middle;\n",
       "    }\n",
       "\n",
       "    .dataframe tbody tr th {\n",
       "        vertical-align: top;\n",
       "    }\n",
       "\n",
       "    .dataframe thead th {\n",
       "        text-align: right;\n",
       "    }\n",
       "</style>\n",
       "<table border=\"1\" class=\"dataframe\">\n",
       "  <thead>\n",
       "    <tr style=\"text-align: right;\">\n",
       "      <th></th>\n",
       "      <th>Respondent</th>\n",
       "      <th>MainBranch</th>\n",
       "      <th>Hobbyist</th>\n",
       "      <th>OpenSourcer</th>\n",
       "      <th>OpenSource</th>\n",
       "      <th>Employment</th>\n",
       "      <th>Country</th>\n",
       "      <th>Student</th>\n",
       "      <th>EdLevel</th>\n",
       "      <th>UndergradMajor</th>\n",
       "      <th>...</th>\n",
       "      <th>WelcomeChange</th>\n",
       "      <th>SONewContent</th>\n",
       "      <th>Age</th>\n",
       "      <th>Gender</th>\n",
       "      <th>Trans</th>\n",
       "      <th>Sexuality</th>\n",
       "      <th>Ethnicity</th>\n",
       "      <th>Dependents</th>\n",
       "      <th>SurveyLength</th>\n",
       "      <th>SurveyEase</th>\n",
       "    </tr>\n",
       "  </thead>\n",
       "  <tbody>\n",
       "    <tr>\n",
       "      <th>0</th>\n",
       "      <td>1</td>\n",
       "      <td>I am a student who is learning to code</td>\n",
       "      <td>Yes</td>\n",
       "      <td>Never</td>\n",
       "      <td>The quality of OSS and closed source software ...</td>\n",
       "      <td>Not employed, and not looking for work</td>\n",
       "      <td>United Kingdom</td>\n",
       "      <td>No</td>\n",
       "      <td>Primary/elementary school</td>\n",
       "      <td>NaN</td>\n",
       "      <td>...</td>\n",
       "      <td>Just as welcome now as I felt last year</td>\n",
       "      <td>Tech articles written by other developers;Indu...</td>\n",
       "      <td>14.0</td>\n",
       "      <td>Man</td>\n",
       "      <td>No</td>\n",
       "      <td>Straight / Heterosexual</td>\n",
       "      <td>NaN</td>\n",
       "      <td>No</td>\n",
       "      <td>Appropriate in length</td>\n",
       "      <td>Neither easy nor difficult</td>\n",
       "    </tr>\n",
       "    <tr>\n",
       "      <th>1</th>\n",
       "      <td>2</td>\n",
       "      <td>I am a student who is learning to code</td>\n",
       "      <td>No</td>\n",
       "      <td>Less than once per year</td>\n",
       "      <td>The quality of OSS and closed source software ...</td>\n",
       "      <td>Not employed, but looking for work</td>\n",
       "      <td>Bosnia and Herzegovina</td>\n",
       "      <td>Yes, full-time</td>\n",
       "      <td>Secondary school (e.g. American high school, G...</td>\n",
       "      <td>NaN</td>\n",
       "      <td>...</td>\n",
       "      <td>Just as welcome now as I felt last year</td>\n",
       "      <td>Tech articles written by other developers;Indu...</td>\n",
       "      <td>19.0</td>\n",
       "      <td>Man</td>\n",
       "      <td>No</td>\n",
       "      <td>Straight / Heterosexual</td>\n",
       "      <td>NaN</td>\n",
       "      <td>No</td>\n",
       "      <td>Appropriate in length</td>\n",
       "      <td>Neither easy nor difficult</td>\n",
       "    </tr>\n",
       "    <tr>\n",
       "      <th>2</th>\n",
       "      <td>3</td>\n",
       "      <td>I am not primarily a developer, but I write co...</td>\n",
       "      <td>Yes</td>\n",
       "      <td>Never</td>\n",
       "      <td>The quality of OSS and closed source software ...</td>\n",
       "      <td>Employed full-time</td>\n",
       "      <td>Thailand</td>\n",
       "      <td>No</td>\n",
       "      <td>Bachelor’s degree (BA, BS, B.Eng., etc.)</td>\n",
       "      <td>Web development or web design</td>\n",
       "      <td>...</td>\n",
       "      <td>Just as welcome now as I felt last year</td>\n",
       "      <td>Tech meetups or events in your area;Courses on...</td>\n",
       "      <td>28.0</td>\n",
       "      <td>Man</td>\n",
       "      <td>No</td>\n",
       "      <td>Straight / Heterosexual</td>\n",
       "      <td>NaN</td>\n",
       "      <td>Yes</td>\n",
       "      <td>Appropriate in length</td>\n",
       "      <td>Neither easy nor difficult</td>\n",
       "    </tr>\n",
       "    <tr>\n",
       "      <th>3</th>\n",
       "      <td>4</td>\n",
       "      <td>I am a developer by profession</td>\n",
       "      <td>No</td>\n",
       "      <td>Never</td>\n",
       "      <td>The quality of OSS and closed source software ...</td>\n",
       "      <td>Employed full-time</td>\n",
       "      <td>United States</td>\n",
       "      <td>No</td>\n",
       "      <td>Bachelor’s degree (BA, BS, B.Eng., etc.)</td>\n",
       "      <td>Computer science, computer engineering, or sof...</td>\n",
       "      <td>...</td>\n",
       "      <td>Just as welcome now as I felt last year</td>\n",
       "      <td>Tech articles written by other developers;Indu...</td>\n",
       "      <td>22.0</td>\n",
       "      <td>Man</td>\n",
       "      <td>No</td>\n",
       "      <td>Straight / Heterosexual</td>\n",
       "      <td>White or of European descent</td>\n",
       "      <td>No</td>\n",
       "      <td>Appropriate in length</td>\n",
       "      <td>Easy</td>\n",
       "    </tr>\n",
       "    <tr>\n",
       "      <th>4</th>\n",
       "      <td>5</td>\n",
       "      <td>I am a developer by profession</td>\n",
       "      <td>Yes</td>\n",
       "      <td>Once a month or more often</td>\n",
       "      <td>OSS is, on average, of HIGHER quality than pro...</td>\n",
       "      <td>Employed full-time</td>\n",
       "      <td>Ukraine</td>\n",
       "      <td>No</td>\n",
       "      <td>Bachelor’s degree (BA, BS, B.Eng., etc.)</td>\n",
       "      <td>Computer science, computer engineering, or sof...</td>\n",
       "      <td>...</td>\n",
       "      <td>Just as welcome now as I felt last year</td>\n",
       "      <td>Tech meetups or events in your area;Courses on...</td>\n",
       "      <td>30.0</td>\n",
       "      <td>Man</td>\n",
       "      <td>No</td>\n",
       "      <td>Straight / Heterosexual</td>\n",
       "      <td>White or of European descent;Multiracial</td>\n",
       "      <td>No</td>\n",
       "      <td>Appropriate in length</td>\n",
       "      <td>Easy</td>\n",
       "    </tr>\n",
       "  </tbody>\n",
       "</table>\n",
       "<p>5 rows × 85 columns</p>\n",
       "</div>"
      ],
      "text/plain": [
       "   Respondent                                         MainBranch Hobbyist  \\\n",
       "0           1             I am a student who is learning to code      Yes   \n",
       "1           2             I am a student who is learning to code       No   \n",
       "2           3  I am not primarily a developer, but I write co...      Yes   \n",
       "3           4                     I am a developer by profession       No   \n",
       "4           5                     I am a developer by profession      Yes   \n",
       "\n",
       "                  OpenSourcer  \\\n",
       "0                       Never   \n",
       "1     Less than once per year   \n",
       "2                       Never   \n",
       "3                       Never   \n",
       "4  Once a month or more often   \n",
       "\n",
       "                                          OpenSource  \\\n",
       "0  The quality of OSS and closed source software ...   \n",
       "1  The quality of OSS and closed source software ...   \n",
       "2  The quality of OSS and closed source software ...   \n",
       "3  The quality of OSS and closed source software ...   \n",
       "4  OSS is, on average, of HIGHER quality than pro...   \n",
       "\n",
       "                               Employment                 Country  \\\n",
       "0  Not employed, and not looking for work          United Kingdom   \n",
       "1      Not employed, but looking for work  Bosnia and Herzegovina   \n",
       "2                      Employed full-time                Thailand   \n",
       "3                      Employed full-time           United States   \n",
       "4                      Employed full-time                 Ukraine   \n",
       "\n",
       "          Student                                            EdLevel  \\\n",
       "0              No                          Primary/elementary school   \n",
       "1  Yes, full-time  Secondary school (e.g. American high school, G...   \n",
       "2              No           Bachelor’s degree (BA, BS, B.Eng., etc.)   \n",
       "3              No           Bachelor’s degree (BA, BS, B.Eng., etc.)   \n",
       "4              No           Bachelor’s degree (BA, BS, B.Eng., etc.)   \n",
       "\n",
       "                                      UndergradMajor  \\\n",
       "0                                                NaN   \n",
       "1                                                NaN   \n",
       "2                      Web development or web design   \n",
       "3  Computer science, computer engineering, or sof...   \n",
       "4  Computer science, computer engineering, or sof...   \n",
       "\n",
       "              ...                                        WelcomeChange  \\\n",
       "0             ...              Just as welcome now as I felt last year   \n",
       "1             ...              Just as welcome now as I felt last year   \n",
       "2             ...              Just as welcome now as I felt last year   \n",
       "3             ...              Just as welcome now as I felt last year   \n",
       "4             ...              Just as welcome now as I felt last year   \n",
       "\n",
       "                                        SONewContent   Age Gender Trans  \\\n",
       "0  Tech articles written by other developers;Indu...  14.0    Man    No   \n",
       "1  Tech articles written by other developers;Indu...  19.0    Man    No   \n",
       "2  Tech meetups or events in your area;Courses on...  28.0    Man    No   \n",
       "3  Tech articles written by other developers;Indu...  22.0    Man    No   \n",
       "4  Tech meetups or events in your area;Courses on...  30.0    Man    No   \n",
       "\n",
       "                 Sexuality                                 Ethnicity  \\\n",
       "0  Straight / Heterosexual                                       NaN   \n",
       "1  Straight / Heterosexual                                       NaN   \n",
       "2  Straight / Heterosexual                                       NaN   \n",
       "3  Straight / Heterosexual              White or of European descent   \n",
       "4  Straight / Heterosexual  White or of European descent;Multiracial   \n",
       "\n",
       "  Dependents           SurveyLength                  SurveyEase  \n",
       "0         No  Appropriate in length  Neither easy nor difficult  \n",
       "1         No  Appropriate in length  Neither easy nor difficult  \n",
       "2        Yes  Appropriate in length  Neither easy nor difficult  \n",
       "3         No  Appropriate in length                        Easy  \n",
       "4         No  Appropriate in length                        Easy  \n",
       "\n",
       "[5 rows x 85 columns]"
      ]
     },
     "execution_count": 2,
     "metadata": {},
     "output_type": "execute_result"
    }
   ],
   "source": [
    "df19 = pd.read_csv('./survey_results_public19.csv', low_memory=False)\n",
    "df19.head()"
   ]
  },
  {
   "cell_type": "code",
   "execution_count": 3,
   "metadata": {},
   "outputs": [
    {
     "data": {
      "text/html": [
       "<div>\n",
       "<style scoped>\n",
       "    .dataframe tbody tr th:only-of-type {\n",
       "        vertical-align: middle;\n",
       "    }\n",
       "\n",
       "    .dataframe tbody tr th {\n",
       "        vertical-align: top;\n",
       "    }\n",
       "\n",
       "    .dataframe thead th {\n",
       "        text-align: right;\n",
       "    }\n",
       "</style>\n",
       "<table border=\"1\" class=\"dataframe\">\n",
       "  <thead>\n",
       "    <tr style=\"text-align: right;\">\n",
       "      <th></th>\n",
       "      <th>Respondent</th>\n",
       "      <th>MainBranch</th>\n",
       "      <th>Hobbyist</th>\n",
       "      <th>Age</th>\n",
       "      <th>Age1stCode</th>\n",
       "      <th>CompFreq</th>\n",
       "      <th>CompTotal</th>\n",
       "      <th>ConvertedComp</th>\n",
       "      <th>Country</th>\n",
       "      <th>CurrencyDesc</th>\n",
       "      <th>...</th>\n",
       "      <th>SurveyEase</th>\n",
       "      <th>SurveyLength</th>\n",
       "      <th>Trans</th>\n",
       "      <th>UndergradMajor</th>\n",
       "      <th>WebframeDesireNextYear</th>\n",
       "      <th>WebframeWorkedWith</th>\n",
       "      <th>WelcomeChange</th>\n",
       "      <th>WorkWeekHrs</th>\n",
       "      <th>YearsCode</th>\n",
       "      <th>YearsCodePro</th>\n",
       "    </tr>\n",
       "  </thead>\n",
       "  <tbody>\n",
       "    <tr>\n",
       "      <th>0</th>\n",
       "      <td>1</td>\n",
       "      <td>I am a developer by profession</td>\n",
       "      <td>Yes</td>\n",
       "      <td>NaN</td>\n",
       "      <td>13</td>\n",
       "      <td>Monthly</td>\n",
       "      <td>NaN</td>\n",
       "      <td>NaN</td>\n",
       "      <td>Germany</td>\n",
       "      <td>European Euro</td>\n",
       "      <td>...</td>\n",
       "      <td>Neither easy nor difficult</td>\n",
       "      <td>Appropriate in length</td>\n",
       "      <td>No</td>\n",
       "      <td>Computer science, computer engineering, or sof...</td>\n",
       "      <td>ASP.NET Core</td>\n",
       "      <td>ASP.NET;ASP.NET Core</td>\n",
       "      <td>Just as welcome now as I felt last year</td>\n",
       "      <td>50.0</td>\n",
       "      <td>36</td>\n",
       "      <td>27</td>\n",
       "    </tr>\n",
       "    <tr>\n",
       "      <th>1</th>\n",
       "      <td>2</td>\n",
       "      <td>I am a developer by profession</td>\n",
       "      <td>No</td>\n",
       "      <td>NaN</td>\n",
       "      <td>19</td>\n",
       "      <td>NaN</td>\n",
       "      <td>NaN</td>\n",
       "      <td>NaN</td>\n",
       "      <td>United Kingdom</td>\n",
       "      <td>Pound sterling</td>\n",
       "      <td>...</td>\n",
       "      <td>NaN</td>\n",
       "      <td>NaN</td>\n",
       "      <td>NaN</td>\n",
       "      <td>Computer science, computer engineering, or sof...</td>\n",
       "      <td>NaN</td>\n",
       "      <td>NaN</td>\n",
       "      <td>Somewhat more welcome now than last year</td>\n",
       "      <td>NaN</td>\n",
       "      <td>7</td>\n",
       "      <td>4</td>\n",
       "    </tr>\n",
       "    <tr>\n",
       "      <th>2</th>\n",
       "      <td>3</td>\n",
       "      <td>I code primarily as a hobby</td>\n",
       "      <td>Yes</td>\n",
       "      <td>NaN</td>\n",
       "      <td>15</td>\n",
       "      <td>NaN</td>\n",
       "      <td>NaN</td>\n",
       "      <td>NaN</td>\n",
       "      <td>Russian Federation</td>\n",
       "      <td>NaN</td>\n",
       "      <td>...</td>\n",
       "      <td>Neither easy nor difficult</td>\n",
       "      <td>Appropriate in length</td>\n",
       "      <td>NaN</td>\n",
       "      <td>NaN</td>\n",
       "      <td>NaN</td>\n",
       "      <td>NaN</td>\n",
       "      <td>Somewhat more welcome now than last year</td>\n",
       "      <td>NaN</td>\n",
       "      <td>4</td>\n",
       "      <td>NaN</td>\n",
       "    </tr>\n",
       "    <tr>\n",
       "      <th>3</th>\n",
       "      <td>4</td>\n",
       "      <td>I am a developer by profession</td>\n",
       "      <td>Yes</td>\n",
       "      <td>25.0</td>\n",
       "      <td>18</td>\n",
       "      <td>NaN</td>\n",
       "      <td>NaN</td>\n",
       "      <td>NaN</td>\n",
       "      <td>Albania</td>\n",
       "      <td>Albanian lek</td>\n",
       "      <td>...</td>\n",
       "      <td>NaN</td>\n",
       "      <td>NaN</td>\n",
       "      <td>No</td>\n",
       "      <td>Computer science, computer engineering, or sof...</td>\n",
       "      <td>NaN</td>\n",
       "      <td>NaN</td>\n",
       "      <td>Somewhat less welcome now than last year</td>\n",
       "      <td>40.0</td>\n",
       "      <td>7</td>\n",
       "      <td>4</td>\n",
       "    </tr>\n",
       "    <tr>\n",
       "      <th>4</th>\n",
       "      <td>5</td>\n",
       "      <td>I used to be a developer by profession, but no...</td>\n",
       "      <td>Yes</td>\n",
       "      <td>31.0</td>\n",
       "      <td>16</td>\n",
       "      <td>NaN</td>\n",
       "      <td>NaN</td>\n",
       "      <td>NaN</td>\n",
       "      <td>United States</td>\n",
       "      <td>NaN</td>\n",
       "      <td>...</td>\n",
       "      <td>Easy</td>\n",
       "      <td>Too short</td>\n",
       "      <td>No</td>\n",
       "      <td>Computer science, computer engineering, or sof...</td>\n",
       "      <td>Django;Ruby on Rails</td>\n",
       "      <td>Ruby on Rails</td>\n",
       "      <td>Just as welcome now as I felt last year</td>\n",
       "      <td>NaN</td>\n",
       "      <td>15</td>\n",
       "      <td>8</td>\n",
       "    </tr>\n",
       "  </tbody>\n",
       "</table>\n",
       "<p>5 rows × 61 columns</p>\n",
       "</div>"
      ],
      "text/plain": [
       "   Respondent                                         MainBranch Hobbyist  \\\n",
       "0           1                     I am a developer by profession      Yes   \n",
       "1           2                     I am a developer by profession       No   \n",
       "2           3                        I code primarily as a hobby      Yes   \n",
       "3           4                     I am a developer by profession      Yes   \n",
       "4           5  I used to be a developer by profession, but no...      Yes   \n",
       "\n",
       "    Age Age1stCode CompFreq  CompTotal  ConvertedComp             Country  \\\n",
       "0   NaN         13  Monthly        NaN            NaN             Germany   \n",
       "1   NaN         19      NaN        NaN            NaN      United Kingdom   \n",
       "2   NaN         15      NaN        NaN            NaN  Russian Federation   \n",
       "3  25.0         18      NaN        NaN            NaN             Albania   \n",
       "4  31.0         16      NaN        NaN            NaN       United States   \n",
       "\n",
       "     CurrencyDesc     ...                       SurveyEase  \\\n",
       "0   European Euro     ...       Neither easy nor difficult   \n",
       "1  Pound sterling     ...                              NaN   \n",
       "2             NaN     ...       Neither easy nor difficult   \n",
       "3    Albanian lek     ...                              NaN   \n",
       "4             NaN     ...                             Easy   \n",
       "\n",
       "            SurveyLength Trans  \\\n",
       "0  Appropriate in length    No   \n",
       "1                    NaN   NaN   \n",
       "2  Appropriate in length   NaN   \n",
       "3                    NaN    No   \n",
       "4              Too short    No   \n",
       "\n",
       "                                      UndergradMajor WebframeDesireNextYear  \\\n",
       "0  Computer science, computer engineering, or sof...           ASP.NET Core   \n",
       "1  Computer science, computer engineering, or sof...                    NaN   \n",
       "2                                                NaN                    NaN   \n",
       "3  Computer science, computer engineering, or sof...                    NaN   \n",
       "4  Computer science, computer engineering, or sof...   Django;Ruby on Rails   \n",
       "\n",
       "     WebframeWorkedWith                             WelcomeChange WorkWeekHrs  \\\n",
       "0  ASP.NET;ASP.NET Core   Just as welcome now as I felt last year        50.0   \n",
       "1                   NaN  Somewhat more welcome now than last year         NaN   \n",
       "2                   NaN  Somewhat more welcome now than last year         NaN   \n",
       "3                   NaN  Somewhat less welcome now than last year        40.0   \n",
       "4         Ruby on Rails   Just as welcome now as I felt last year         NaN   \n",
       "\n",
       "  YearsCode YearsCodePro  \n",
       "0        36           27  \n",
       "1         7            4  \n",
       "2         4          NaN  \n",
       "3         7            4  \n",
       "4        15            8  \n",
       "\n",
       "[5 rows x 61 columns]"
      ]
     },
     "execution_count": 3,
     "metadata": {},
     "output_type": "execute_result"
    }
   ],
   "source": [
    "df20 = pd.read_csv('./survey_results_public20.csv', low_memory=False)\n",
    "df20.head()"
   ]
  },
  {
   "cell_type": "markdown",
   "metadata": {},
   "source": [
    "First we will be handling just with respondents of US, that answer about ethnicity, gender, employment and job seeking status. Job satisfaction and annual salary cannot be used as a mandatory field, because who is not working, probably not answer this fields."
   ]
  },
  {
   "cell_type": "code",
   "execution_count": 4,
   "metadata": {},
   "outputs": [
    {
     "name": "stdout",
     "output_type": "stream",
     "text": [
      "Total clean sample 2018: 14252\n",
      "Total clean sample 2019: 17471\n",
      "Total clean sample 2020: 9402\n"
     ]
    }
   ],
   "source": [
    "sample18 = df18.query('Country == \"United States\" & RaceEthnicity == RaceEthnicity & Gender == Gender & JobSearchStatus == JobSearchStatus & Employment == Employment')\n",
    "sample19 = df19.query('Country == \"United States\" & Ethnicity == Ethnicity & Gender == Gender & JobSeek == JobSeek & Employment == Employment')\n",
    "sample20 = df20.query('Country == \"United States\" & Ethnicity == Ethnicity & Gender == Gender & JobSeek == JobSeek & Employment == Employment')\n",
    "\n",
    "print('Total clean sample 2018: %s'%sample18.shape[0])\n",
    "print('Total clean sample 2019: %s'%sample19.shape[0])\n",
    "print('Total clean sample 2020: %s'%sample20.shape[0])"
   ]
  },
  {
   "cell_type": "markdown",
   "metadata": {},
   "source": [
    "Below, we have the function used in data understanding to extract the list of possible values used in a column."
   ]
  },
  {
   "cell_type": "code",
   "execution_count": 5,
   "metadata": {},
   "outputs": [],
   "source": [
    "def extract_feature_list(column):\n",
    "    '''\n",
    "    INPUT \n",
    "        column - a dataframe series\n",
    "        \n",
    "    OUTPUT\n",
    "        return - a list of possible values to a given column\n",
    "    '''\n",
    "    attr_set = set()\n",
    "    for row in column:\n",
    "        if type(row) == str:\n",
    "            attr_itens = row.split(';')\n",
    "            for item in attr_itens:\n",
    "                # Removing special characters which cause error on filter df\n",
    "                scaped_item = item.replace('(', '\\(').replace(')', '\\)')\n",
    "                attr_set.add(scaped_item)\n",
    "                \n",
    "    return list(attr_set)"
   ]
  },
  {
   "cell_type": "markdown",
   "metadata": {},
   "source": [
    "### Question 1: How diverse are tech workforce in the US?\n",
    "In order to understand more about how diversy are the US tech workforce, it's necessary understand distribution by ethnicity and gender."
   ]
  },
  {
   "cell_type": "markdown",
   "metadata": {},
   "source": [
    "All questions we have, will be answered from ***ethnicity*** or ***gender***. To do this more easily, we can adapt the function created in data understanding (distribution_by_feature), to always provide a filtered dataset by gender or ethnicity and pass this dataset to a callback function to do some extraction, preparing the data to evaluate the results."
   ]
  },
  {
   "cell_type": "code",
   "execution_count": 6,
   "metadata": {},
   "outputs": [],
   "source": [
    "def findings_by_feature(years_df, feature, years_feature, label, func):\n",
    "    '''\n",
    "    INPUT \n",
    "        years_df - a dict with dataframes for each one of the study years;\n",
    "        feature - a dict with strings representing the feature name of column study for each one of \n",
    "                   the study years;\n",
    "                  Example: 2018 dataset use JobSatisfaction, whereas 2019 and 2020 dataset use JobSat \n",
    "        years_feature - a dict with each possible values for a given column setted above;\n",
    "                        * The values can assume differente string to say the same think accros the years;\n",
    "        label - a string representing name used to group the \"feature\";\n",
    "        func - a callback function to return the value represented by some calculation made in this function;\n",
    "    OUTPUT\n",
    "        return - a dataframe containing values represented some statistic calculated in \"func\" by each possible \n",
    "                 values setted in years_feature;\n",
    "    '''\n",
    "    years = list(years_df.keys())\n",
    "    minorities = years_feature.keys()\n",
    "    data = []\n",
    "    \n",
    "    for item in minorities:\n",
    "        row = []\n",
    "        \n",
    "        for year in years:\n",
    "            num = np.nan\n",
    "            df = years_df[year]\n",
    "            feature_name = feature[year]\n",
    "            \n",
    "            if years_feature[item][year]:\n",
    "                num = func(df[df[feature_name].str.contains(years_feature[item][year])], year, feature_name)\n",
    "                            \n",
    "            row.append(num)\n",
    "            \n",
    "        last_year = years[-1]\n",
    "        row.insert(0, years_feature[item][last_year])\n",
    "        data.append(row)\n",
    "        \n",
    "    years.insert(0, label)\n",
    "    new_df = pd.DataFrame(data, columns=years)\n",
    "    new_df = new_df.set_index(label)\n",
    "    new_df.sort_values(by=years[-1], ascending=False)\n",
    "    return new_df"
   ]
  },
  {
   "cell_type": "markdown",
   "metadata": {},
   "source": [
    "Now let's cerate the callback function to get the distribution by ethnicity and gender."
   ]
  },
  {
   "cell_type": "code",
   "execution_count": 7,
   "metadata": {},
   "outputs": [],
   "source": [
    "def get_distribution_by_years(df, year, feature):\n",
    "    '''\n",
    "    Callback function to findings_by_minority\n",
    "    \n",
    "    INPUT \n",
    "        df - a dataframe of specific year, result of a previous query\n",
    "        year - year of the dataframe\n",
    "        minority - type of minority (Ethnicity | Gender)\n",
    "        \n",
    "    OUTPUT\n",
    "        return - proportion of a specific group (Ethnicity | Gender), in the US for a specific year\n",
    "     '''\n",
    "    \n",
    "    query_by_country = 'Country == \"United States\"'\n",
    "    \n",
    "    if year == 2018:\n",
    "        df_18 = df18.query(query_by_country)\n",
    "        return df.shape[0]/sample18[feature].count()\n",
    "\n",
    "    elif year == 2019:\n",
    "        df_19 = df19.query(query_by_country)\n",
    "        return df.shape[0]/sample19[feature].count()\n",
    "    \n",
    "    elif year == 2020:\n",
    "        df_20 = df20.query(query_by_country)\n",
    "        return df.shape[0]/sample20[feature].count()\n",
    "    \n",
    "    return np.nan"
   ]
  },
  {
   "cell_type": "code",
   "execution_count": 8,
   "metadata": {},
   "outputs": [
    {
     "data": {
      "text/plain": [
       "<matplotlib.axes._subplots.AxesSubplot at 0x7fdb6b770470>"
      ]
     },
     "execution_count": 8,
     "metadata": {},
     "output_type": "execute_result"
    },
    {
     "data": {
      "image/png": "[encoded data removed]",
      "text/plain": [
       "<matplotlib.figure.Figure at 0x7fdb6f6c3eb8>"
      ]
     },
     "metadata": {
      "needs_background": "light"
     },
     "output_type": "display_data"
    }
   ],
   "source": [
    "df_list = {2018: sample18, 2019: sample19, 2020: sample20}\n",
    "feature = {2018: 'RaceEthnicity', 2019: 'Ethnicity', 2020: 'Ethnicity'}\n",
    "ethnicity_list = {\n",
    "    'White': {2018: 'White or of European descent', 2019: 'White or of European descent', 2020: 'White or of European descent'},\n",
    "    'South': {2018: 'South Asian', 2019: 'South Asian', 2020: 'South Asian'},\n",
    "    'East': {2018: 'East Asian', 2019: 'East Asian', 2020: 'East Asian'},\n",
    "    'Southeast': {2018: None, 2019: None, 2020: 'Southeast Asian'},\n",
    "    'Middle': {2018: 'Middle Eastern', 2019: 'Middle Eastern', 2020: 'Middle Eastern'},\n",
    "    'Hispanic': {2018: 'Hispanic or Latino/Latina', 2019: 'Hispanic or Latino/Latina', 2020: 'Hispanic or Latino/a/x'},\n",
    "    'Black': {2018: 'Black or of African descent', 2019: 'Black or of African descent', 2020: 'Black or of African descent'},\n",
    "    'Multiracial': {2018: None, 2019: 'Multiracial', 2020: 'Multiracial'},\n",
    "    'Biracial': {2018: None, 2019: 'Biracial', 2020: 'Biracial'},\n",
    "    'Native': {2018: 'Native American, Pacific Islander, or Indigenous Australian', 2019: 'Native American, Pacific Islander, or Indigenous Australian', 2020: 'Indigenous \\(such as Native American, Pacific Islander, or Indigenous Australian\\)'}   \n",
    "}\n",
    "\n",
    "ethnicities = findings_by_feature(df_list, feature, ethnicity_list, 'Ethnicity', get_distribution_by_years)\n",
    "ethnicities.plot(kind='bar', title='Distribution by ethnicity')"
   ]
  },
  {
   "cell_type": "code",
   "execution_count": 9,
   "metadata": {},
   "outputs": [
    {
     "data": {
      "text/html": [
       "<div>\n",
       "<style scoped>\n",
       "    .dataframe tbody tr th:only-of-type {\n",
       "        vertical-align: middle;\n",
       "    }\n",
       "\n",
       "    .dataframe tbody tr th {\n",
       "        vertical-align: top;\n",
       "    }\n",
       "\n",
       "    .dataframe thead th {\n",
       "        text-align: right;\n",
       "    }\n",
       "</style>\n",
       "<table border=\"1\" class=\"dataframe\">\n",
       "  <thead>\n",
       "    <tr style=\"text-align: right;\">\n",
       "      <th></th>\n",
       "      <th>2018</th>\n",
       "      <th>2019</th>\n",
       "      <th>2020</th>\n",
       "    </tr>\n",
       "    <tr>\n",
       "      <th>Ethnicity</th>\n",
       "      <th></th>\n",
       "      <th></th>\n",
       "      <th></th>\n",
       "    </tr>\n",
       "  </thead>\n",
       "  <tbody>\n",
       "    <tr>\n",
       "      <th>White or of European descent</th>\n",
       "      <td>0.855459</td>\n",
       "      <td>0.837960</td>\n",
       "      <td>0.835141</td>\n",
       "    </tr>\n",
       "    <tr>\n",
       "      <th>South Asian</th>\n",
       "      <td>0.051642</td>\n",
       "      <td>0.052315</td>\n",
       "      <td>0.041587</td>\n",
       "    </tr>\n",
       "    <tr>\n",
       "      <th>East Asian</th>\n",
       "      <td>0.050870</td>\n",
       "      <td>0.048194</td>\n",
       "      <td>0.043076</td>\n",
       "    </tr>\n",
       "    <tr>\n",
       "      <th>Southeast Asian</th>\n",
       "      <td>NaN</td>\n",
       "      <td>NaN</td>\n",
       "      <td>0.022123</td>\n",
       "    </tr>\n",
       "    <tr>\n",
       "      <th>Middle Eastern</th>\n",
       "      <td>0.014594</td>\n",
       "      <td>0.016141</td>\n",
       "      <td>0.020634</td>\n",
       "    </tr>\n",
       "    <tr>\n",
       "      <th>Hispanic or Latino/a/x</th>\n",
       "      <td>0.053396</td>\n",
       "      <td>0.062790</td>\n",
       "      <td>0.067858</td>\n",
       "    </tr>\n",
       "    <tr>\n",
       "      <th>Black or of African descent</th>\n",
       "      <td>0.024488</td>\n",
       "      <td>0.028161</td>\n",
       "      <td>0.030206</td>\n",
       "    </tr>\n",
       "    <tr>\n",
       "      <th>Multiracial</th>\n",
       "      <td>NaN</td>\n",
       "      <td>0.023353</td>\n",
       "      <td>0.018294</td>\n",
       "    </tr>\n",
       "    <tr>\n",
       "      <th>Biracial</th>\n",
       "      <td>NaN</td>\n",
       "      <td>0.017400</td>\n",
       "      <td>0.020102</td>\n",
       "    </tr>\n",
       "    <tr>\n",
       "      <th>Indigenous \\(such as Native American, Pacific Islander, or Indigenous Australian\\)</th>\n",
       "      <td>0.016559</td>\n",
       "      <td>0.015282</td>\n",
       "      <td>0.013933</td>\n",
       "    </tr>\n",
       "  </tbody>\n",
       "</table>\n",
       "</div>"
      ],
      "text/plain": [
       "                                                        2018      2019  \\\n",
       "Ethnicity                                                                \n",
       "White or of European descent                        0.855459  0.837960   \n",
       "South Asian                                         0.051642  0.052315   \n",
       "East Asian                                          0.050870  0.048194   \n",
       "Southeast Asian                                          NaN       NaN   \n",
       "Middle Eastern                                      0.014594  0.016141   \n",
       "Hispanic or Latino/a/x                              0.053396  0.062790   \n",
       "Black or of African descent                         0.024488  0.028161   \n",
       "Multiracial                                              NaN  0.023353   \n",
       "Biracial                                                 NaN  0.017400   \n",
       "Indigenous \\(such as Native American, Pacific I...  0.016559  0.015282   \n",
       "\n",
       "                                                        2020  \n",
       "Ethnicity                                                     \n",
       "White or of European descent                        0.835141  \n",
       "South Asian                                         0.041587  \n",
       "East Asian                                          0.043076  \n",
       "Southeast Asian                                     0.022123  \n",
       "Middle Eastern                                      0.020634  \n",
       "Hispanic or Latino/a/x                              0.067858  \n",
       "Black or of African descent                         0.030206  \n",
       "Multiracial                                         0.018294  \n",
       "Biracial                                            0.020102  \n",
       "Indigenous \\(such as Native American, Pacific I...  0.013933  "
      ]
     },
     "execution_count": 9,
     "metadata": {},
     "output_type": "execute_result"
    }
   ],
   "source": [
    "ethnicities"
   ]
  },
  {
   "cell_type": "markdown",
   "metadata": {},
   "source": [
    "What was the increase or decrease comparing 2020 to 2018 in ethnicity?"
   ]
  },
  {
   "cell_type": "code",
   "execution_count": 10,
   "metadata": {},
   "outputs": [
    {
     "data": {
      "text/plain": [
       "Ethnicity\n",
       "White or of European descent                                                         -2.031742\n",
       "South Asian                                                                          -1.005498\n",
       "East Asian                                                                           -0.779411\n",
       "Southeast Asian                                                                            NaN\n",
       "Middle Eastern                                                                        0.603946\n",
       "Hispanic or Latino/a/x                                                                1.446189\n",
       "Black or of African descent                                                           0.571855\n",
       "Multiracial                                                                                NaN\n",
       "Biracial                                                                                   NaN\n",
       "Indigenous \\(such as Native American, Pacific Islander, or Indigenous Australian\\)   -0.262587\n",
       "dtype: float64"
      ]
     },
     "execution_count": 10,
     "metadata": {},
     "output_type": "execute_result"
    }
   ],
   "source": [
    "(ethnicities[2020]-ethnicities[2018])*100"
   ]
  },
  {
   "cell_type": "code",
   "execution_count": 11,
   "metadata": {},
   "outputs": [
    {
     "name": "stdout",
     "output_type": "stream",
     "text": [
      "Total Asian proportion in 2020: 0.1068\n"
     ]
    }
   ],
   "source": [
    "asians = ethnicities.loc['South Asian'][2020]+ethnicities.loc['East Asian'][2020]+ethnicities.loc['Southeast Asian'][2020]\n",
    "print('Total Asian proportion in 2020: %.4f'%asians)"
   ]
  },
  {
   "cell_type": "code",
   "execution_count": 12,
   "metadata": {},
   "outputs": [
    {
     "name": "stdout",
     "output_type": "stream",
     "text": [
      "Total Multiracial proportion in 2020: 0.0384\n"
     ]
    }
   ],
   "source": [
    "multi = ethnicities.loc['Multiracial'][2020]+ethnicities.loc['Biracial'][2020]\n",
    "print('Total Multiracial proportion in 2020: %.4f'%multi)"
   ]
  },
  {
   "cell_type": "markdown",
   "metadata": {},
   "source": [
    "The [2019 US Census](https://www.census.gov/quickfacts/fact/dashboard/US/SEX255219#SEX255219) detected 60.1% of Non-Hispanic white people, but they were overrepresented in the tech workforce in 2020 with 85.8%, losing just 1.7 percentual points since 2018.\n",
    "\n",
    "As well as white developers, Asian ones are overrepresented too. The Stackoverflow’s survey divides Asians in three different ethnicities being East Asian, South Asian and Southeast Asian, together in the US they sum 9.7% workforce representation in 2020. It’s little less than double identified by the 2019 US Census.\n",
    "\n",
    "Hispanics and Latinos have increased almost one percentual point since 2018, reaching 6.3% representation in 2020 US tech workforce, which represents little more than a third of the value identified by the 2019 US Census.\n",
    "\n",
    "Middle eastern and Black or African descent had the lowest increase between 2018 to 2020, achieving 1.7% and 2.5% respectively of the workforce. Despite the US Census accounts 13.4% of the population being Black or African descent and Middle eastern was not covered by the 2019 US Census.\n",
    " \n",
    "Multiracial and Native American seem to have the most proportional representation in the US tech workforce. Stackoverflow surveys started counting Biracial and Multiracial just in 2019 separately, and in 2020 together they achieved 3.5% of the developers representation, against 2.8% of Multiracial detected by the US Census. \n",
    "\n",
    "Native American ethnicity is divided by two in the 2019 US Census as Native Hawaiian and American Indian, together they sum 1.5% of US population representation. Curiously, they had the same representation in 2018 US tech workforce, losing 0.19% of representation in the two subsequent years."
   ]
  },
  {
   "cell_type": "markdown",
   "metadata": {},
   "source": [
    "How are the tech workforce distributed by gender in the last years?"
   ]
  },
  {
   "cell_type": "code",
   "execution_count": 13,
   "metadata": {},
   "outputs": [
    {
     "data": {
      "text/html": [
       "<div>\n",
       "<style scoped>\n",
       "    .dataframe tbody tr th:only-of-type {\n",
       "        vertical-align: middle;\n",
       "    }\n",
       "\n",
       "    .dataframe tbody tr th {\n",
       "        vertical-align: top;\n",
       "    }\n",
       "\n",
       "    .dataframe thead th {\n",
       "        text-align: right;\n",
       "    }\n",
       "</style>\n",
       "<table border=\"1\" class=\"dataframe\">\n",
       "  <thead>\n",
       "    <tr style=\"text-align: right;\">\n",
       "      <th></th>\n",
       "      <th>2018</th>\n",
       "      <th>2019</th>\n",
       "      <th>2020</th>\n",
       "    </tr>\n",
       "    <tr>\n",
       "      <th>Gender</th>\n",
       "      <th></th>\n",
       "      <th></th>\n",
       "      <th></th>\n",
       "    </tr>\n",
       "  </thead>\n",
       "  <tbody>\n",
       "    <tr>\n",
       "      <th>Man</th>\n",
       "      <td>0.899032</td>\n",
       "      <td>0.880946</td>\n",
       "      <td>0.880132</td>\n",
       "    </tr>\n",
       "    <tr>\n",
       "      <th>Woman</th>\n",
       "      <td>0.091145</td>\n",
       "      <td>0.109610</td>\n",
       "      <td>0.109126</td>\n",
       "    </tr>\n",
       "    <tr>\n",
       "      <th>Non-binary, genderqueer, or gender non-conforming</th>\n",
       "      <td>0.013963</td>\n",
       "      <td>0.017515</td>\n",
       "      <td>0.020102</td>\n",
       "    </tr>\n",
       "    <tr>\n",
       "      <th>NaN</th>\n",
       "      <td>0.011788</td>\n",
       "      <td>NaN</td>\n",
       "      <td>NaN</td>\n",
       "    </tr>\n",
       "  </tbody>\n",
       "</table>\n",
       "</div>"
      ],
      "text/plain": [
       "                                                       2018      2019  \\\n",
       "Gender                                                                  \n",
       "Man                                                0.899032  0.880946   \n",
       "Woman                                              0.091145  0.109610   \n",
       "Non-binary, genderqueer, or gender non-conforming  0.013963  0.017515   \n",
       "NaN                                                0.011788       NaN   \n",
       "\n",
       "                                                       2020  \n",
       "Gender                                                       \n",
       "Man                                                0.880132  \n",
       "Woman                                              0.109126  \n",
       "Non-binary, genderqueer, or gender non-conforming  0.020102  \n",
       "NaN                                                     NaN  "
      ]
     },
     "execution_count": 13,
     "metadata": {},
     "output_type": "execute_result"
    }
   ],
   "source": [
    "feature = {2018: 'Gender', 2019: 'Gender', 2020: 'Gender'}\n",
    "gender_list = {\n",
    "    'Man': {2018: 'Male', 2019: 'Man', 2020: 'Man'},\n",
    "    'Woman': {2018: 'Female', 2019: 'Woman', 2020: 'Woman'},\n",
    "    'Non-binary': {2018: 'Non-binary, genderqueer, or gender non-conforming', 2019: 'Non-binary, genderqueer, or gender non-conforming', 2020: 'Non-binary, genderqueer, or gender non-conforming'},\n",
    "    'Transgender': {2018: 'Transgender', 2019: None, 2020: None}\n",
    "}\n",
    "\n",
    "genres = findings_by_feature(df_list, feature, gender_list, 'Gender', get_distribution_by_years)\n",
    "genres"
   ]
  },
  {
   "cell_type": "code",
   "execution_count": 14,
   "metadata": {},
   "outputs": [
    {
     "data": {
      "text/plain": [
       "<matplotlib.axes._subplots.AxesSubplot at 0x7fdb69659438>"
      ]
     },
     "execution_count": 14,
     "metadata": {},
     "output_type": "execute_result"
    },
    {
     "data": {
      "image/png": "[encoded data removed]",
      "text/plain": [
       "<matplotlib.figure.Figure at 0x7fdb696c1d30>"
      ]
     },
     "metadata": {
      "needs_background": "light"
     },
     "output_type": "display_data"
    }
   ],
   "source": [
    "genres = genres.rename(index={None: 'Transgender'})\n",
    "genres.plot(kind='bar', title='Distribution by gender')"
   ]
  },
  {
   "cell_type": "code",
   "execution_count": 15,
   "metadata": {},
   "outputs": [
    {
     "data": {
      "text/html": [
       "<div>\n",
       "<style scoped>\n",
       "    .dataframe tbody tr th:only-of-type {\n",
       "        vertical-align: middle;\n",
       "    }\n",
       "\n",
       "    .dataframe tbody tr th {\n",
       "        vertical-align: top;\n",
       "    }\n",
       "\n",
       "    .dataframe thead th {\n",
       "        text-align: right;\n",
       "    }\n",
       "</style>\n",
       "<table border=\"1\" class=\"dataframe\">\n",
       "  <thead>\n",
       "    <tr style=\"text-align: right;\">\n",
       "      <th></th>\n",
       "      <th>2018</th>\n",
       "      <th>2019</th>\n",
       "      <th>2020</th>\n",
       "    </tr>\n",
       "    <tr>\n",
       "      <th>Gender</th>\n",
       "      <th></th>\n",
       "      <th></th>\n",
       "      <th></th>\n",
       "    </tr>\n",
       "  </thead>\n",
       "  <tbody>\n",
       "    <tr>\n",
       "      <th>Man</th>\n",
       "      <td>0.899032</td>\n",
       "      <td>0.880946</td>\n",
       "      <td>0.880132</td>\n",
       "    </tr>\n",
       "    <tr>\n",
       "      <th>Woman</th>\n",
       "      <td>0.091145</td>\n",
       "      <td>0.109610</td>\n",
       "      <td>0.109126</td>\n",
       "    </tr>\n",
       "    <tr>\n",
       "      <th>Non-binary, genderqueer, or gender non-conforming</th>\n",
       "      <td>0.013963</td>\n",
       "      <td>0.017515</td>\n",
       "      <td>0.020102</td>\n",
       "    </tr>\n",
       "    <tr>\n",
       "      <th>Transgender</th>\n",
       "      <td>0.011788</td>\n",
       "      <td>NaN</td>\n",
       "      <td>NaN</td>\n",
       "    </tr>\n",
       "  </tbody>\n",
       "</table>\n",
       "</div>"
      ],
      "text/plain": [
       "                                                       2018      2019  \\\n",
       "Gender                                                                  \n",
       "Man                                                0.899032  0.880946   \n",
       "Woman                                              0.091145  0.109610   \n",
       "Non-binary, genderqueer, or gender non-conforming  0.013963  0.017515   \n",
       "Transgender                                        0.011788       NaN   \n",
       "\n",
       "                                                       2020  \n",
       "Gender                                                       \n",
       "Man                                                0.880132  \n",
       "Woman                                              0.109126  \n",
       "Non-binary, genderqueer, or gender non-conforming  0.020102  \n",
       "Transgender                                             NaN  "
      ]
     },
     "execution_count": 15,
     "metadata": {},
     "output_type": "execute_result"
    }
   ],
   "source": [
    "genres"
   ]
  },
  {
   "cell_type": "markdown",
   "metadata": {},
   "source": [
    "What was the increase or decrease comparing 2020 to 2018 in gender?"
   ]
  },
  {
   "cell_type": "code",
   "execution_count": 16,
   "metadata": {},
   "outputs": [
    {
     "data": {
      "text/plain": [
       "Gender\n",
       "Man                                                 -1.889983\n",
       "Woman                                                1.798062\n",
       "Non-binary, genderqueer, or gender non-conforming    0.613915\n",
       "Transgender                                               NaN\n",
       "dtype: float64"
      ]
     },
     "execution_count": 16,
     "metadata": {},
     "output_type": "execute_result"
    }
   ],
   "source": [
    "(genres[2020]-genres[2018])*100"
   ]
  },
  {
   "cell_type": "markdown",
   "metadata": {},
   "source": [
    "According to the 2019 US Census, it’s possible to assume that minorities in the US tech workforce are ***Hispanics or Latinos***, ***Middle eastern*** and ***Black or African descent*** by ethnicity and ***Women*** and ***Non-binary or non-conforming*** by gender.\n",
    "\n",
    "This study will not consider ***Native American*** as minority in this case, to be very close to representation"
   ]
  },
  {
   "cell_type": "markdown",
   "metadata": {},
   "source": [
    "### Question 2: How satisfied are minorities among their peers?\n",
    "According to the above data crossing, it’s possible to assume that minorities in the US tech workforce are Hispanics or Latinos, Middle eastern and Black or African descent by ethny and Women and Non-binary or non-conforming by gender.\n",
    "\n",
    "The 2018 Stackoverflow's survey used 7 scales of “Job Satisfaction”, whereas in the following years they used 5 scales.\n",
    "\n",
    "How satisfied are minorities ethnicities among their peers?"
   ]
  },
  {
   "cell_type": "markdown",
   "metadata": {},
   "source": [
    "To answer this question we need to create a function to crossing ethnicity and gender with the scales of job satisfaction. How 2018 have 7 scales, we will use just 2019 and 2020 dataset samples."
   ]
  },
  {
   "cell_type": "code",
   "execution_count": 17,
   "metadata": {},
   "outputs": [],
   "source": [
    "def data_crossing(df, factor1, factor_list, factor2):\n",
    "    '''\n",
    "    INPUT \n",
    "        df - a dataframe representing the result of a specific query;\n",
    "        factor1 - a string representing the study column name;\n",
    "        factor_list - a list with each possible value of study for a given column setted above;\n",
    "        factor2 - a string representing the second study colum name;\n",
    "                     of absolute numbers; (true by default)\n",
    "    OUTPUT\n",
    "        return - a dataframe containing values for a given data crossing;\n",
    "                 Example: Ethnicities X Job Satisfaction\n",
    "    '''\n",
    "    miss_data_label = 'Not answered'\n",
    "    columns = extract_feature_list(df[factor2])\n",
    "    columns.append(miss_data_label)\n",
    "    data = []\n",
    "    \n",
    "    for item in factor_list:\n",
    "        minotity_df = df[df[factor1].str.contains(item)]\n",
    "        sat_df = (minotity_df[factor2].value_counts()/minotity_df.shape[0]).reset_index()       \n",
    "        sat_df.set_index('index', inplace=True)\n",
    "        sat_df.loc[miss_data_label] = [(minotity_df.shape[0]-minotity_df[factor2].count())/minotity_df.shape[0]]\n",
    "        \n",
    "        row = [item]\n",
    "        for column in columns:\n",
    "            row.append(float(sat_df.loc[column]))\n",
    "            \n",
    "        data.append(row)\n",
    "        \n",
    "    columns.insert(0, factor1)\n",
    "    new_df = pd.DataFrame(data, columns=columns)\n",
    "    new_df.set_index(factor1, inplace=True)\n",
    "    \n",
    "    return new_df"
   ]
  },
  {
   "cell_type": "markdown",
   "metadata": {},
   "source": [
    "To evaluate Job Satisfaction, we need to ensure we'll use just respondents who is currently working."
   ]
  },
  {
   "cell_type": "code",
   "execution_count": 18,
   "metadata": {},
   "outputs": [
    {
     "name": "stdout",
     "output_type": "stream",
     "text": [
      "Proportion respondents working in 2019: 0.9592\n",
      "Proportion respondents working in 2020: 0.9029\n"
     ]
    }
   ],
   "source": [
    "employment_query = 'Employment == \"Employed full-time\" | Employment == \"Employed part-time\" | Employment == \"Independent contractor, freelancer, or self-employed\"'                 \n",
    "\n",
    "employed_sample19 = sample19.query(employment_query)\n",
    "employed_sample20 = sample20.query(employment_query)\n",
    "\n",
    "print('Proportion respondents working in 2019: %.4f'%(employed_sample19.shape[0]/sample19.shape[0]))\n",
    "print('Proportion respondents working in 2020: %.4f'%(employed_sample20.shape[0]/sample20.shape[0]))"
   ]
  },
  {
   "cell_type": "code",
   "execution_count": 19,
   "metadata": {},
   "outputs": [
    {
     "data": {
      "text/html": [
       "<div>\n",
       "<style scoped>\n",
       "    .dataframe tbody tr th:only-of-type {\n",
       "        vertical-align: middle;\n",
       "    }\n",
       "\n",
       "    .dataframe tbody tr th {\n",
       "        vertical-align: top;\n",
       "    }\n",
       "\n",
       "    .dataframe thead th {\n",
       "        text-align: right;\n",
       "    }\n",
       "</style>\n",
       "<table border=\"1\" class=\"dataframe\">\n",
       "  <thead>\n",
       "    <tr style=\"text-align: right;\">\n",
       "      <th></th>\n",
       "      <th>Very satisfied</th>\n",
       "      <th>Slightly satisfied</th>\n",
       "      <th>Neither satisfied nor dissatisfied</th>\n",
       "      <th>Slightly dissatisfied</th>\n",
       "      <th>Very dissatisfied</th>\n",
       "      <th>Not answered</th>\n",
       "    </tr>\n",
       "    <tr>\n",
       "      <th>Ethnicity</th>\n",
       "      <th></th>\n",
       "      <th></th>\n",
       "      <th></th>\n",
       "      <th></th>\n",
       "      <th></th>\n",
       "      <th></th>\n",
       "    </tr>\n",
       "  </thead>\n",
       "  <tbody>\n",
       "    <tr>\n",
       "      <th>White or of European descent</th>\n",
       "      <td>0.414607</td>\n",
       "      <td>0.301808</td>\n",
       "      <td>0.075505</td>\n",
       "      <td>0.119014</td>\n",
       "      <td>0.055234</td>\n",
       "      <td>0.033832</td>\n",
       "    </tr>\n",
       "    <tr>\n",
       "      <th>Hispanic or Latino/Latina</th>\n",
       "      <td>0.356031</td>\n",
       "      <td>0.312257</td>\n",
       "      <td>0.091440</td>\n",
       "      <td>0.126459</td>\n",
       "      <td>0.059339</td>\n",
       "      <td>0.054475</td>\n",
       "    </tr>\n",
       "    <tr>\n",
       "      <th>Middle Eastern</th>\n",
       "      <td>0.337079</td>\n",
       "      <td>0.329588</td>\n",
       "      <td>0.093633</td>\n",
       "      <td>0.112360</td>\n",
       "      <td>0.086142</td>\n",
       "      <td>0.041199</td>\n",
       "    </tr>\n",
       "    <tr>\n",
       "      <th>Black or of African descent</th>\n",
       "      <td>0.302832</td>\n",
       "      <td>0.322440</td>\n",
       "      <td>0.095861</td>\n",
       "      <td>0.122004</td>\n",
       "      <td>0.054466</td>\n",
       "      <td>0.102397</td>\n",
       "    </tr>\n",
       "  </tbody>\n",
       "</table>\n",
       "</div>"
      ],
      "text/plain": [
       "                              Very satisfied  Slightly satisfied  \\\n",
       "Ethnicity                                                          \n",
       "White or of European descent        0.414607            0.301808   \n",
       "Hispanic or Latino/Latina           0.356031            0.312257   \n",
       "Middle Eastern                      0.337079            0.329588   \n",
       "Black or of African descent         0.302832            0.322440   \n",
       "\n",
       "                              Neither satisfied nor dissatisfied  \\\n",
       "Ethnicity                                                          \n",
       "White or of European descent                            0.075505   \n",
       "Hispanic or Latino/Latina                               0.091440   \n",
       "Middle Eastern                                          0.093633   \n",
       "Black or of African descent                             0.095861   \n",
       "\n",
       "                              Slightly dissatisfied  Very dissatisfied  \\\n",
       "Ethnicity                                                                \n",
       "White or of European descent               0.119014           0.055234   \n",
       "Hispanic or Latino/Latina                  0.126459           0.059339   \n",
       "Middle Eastern                             0.112360           0.086142   \n",
       "Black or of African descent                0.122004           0.054466   \n",
       "\n",
       "                              Not answered  \n",
       "Ethnicity                                   \n",
       "White or of European descent      0.033832  \n",
       "Hispanic or Latino/Latina         0.054475  \n",
       "Middle Eastern                    0.041199  \n",
       "Black or of African descent       0.102397  "
      ]
     },
     "execution_count": 19,
     "metadata": {},
     "output_type": "execute_result"
    }
   ],
   "source": [
    "#Job satisfaction by minorities ethnicities 2019\n",
    "\n",
    "ethnicity_list19 = ['White or of European descent', 'Hispanic or Latino/Latina', 'Middle Eastern', 'Black or of African descent']\n",
    "minority_ethny19 = data_crossing(employed_sample19, 'Ethnicity', ethnicity_list19, 'JobSat')\n",
    "minority_ethny19 = minority_ethny19[['Very satisfied', 'Slightly satisfied', 'Neither satisfied nor dissatisfied', 'Slightly dissatisfied', 'Very dissatisfied', 'Not answered']]\n",
    "minority_ethny19"
   ]
  },
  {
   "cell_type": "code",
   "execution_count": 20,
   "metadata": {},
   "outputs": [],
   "source": [
    "def extract_to_csv(df):\n",
    "    txt = df.to_csv()\n",
    "    txt = txt.replace(',', ';').replace('.', ',')\n",
    "    arr = txt.split('\\n')\n",
    "    for item in arr:\n",
    "        print(item)"
   ]
  },
  {
   "cell_type": "code",
   "execution_count": 21,
   "metadata": {},
   "outputs": [
    {
     "name": "stdout",
     "output_type": "stream",
     "text": [
      "Ethnicity;Very satisfied;Slightly satisfied;Neither satisfied nor dissatisfied;Slightly dissatisfied;Very dissatisfied;Not answered\n",
      "White or of European descent;0,41460658285068513;0,3018081649950558;0,07550501483260348;0,11901398502613364;0,055233790083345106;0,03383246221217686\n",
      "Hispanic or Latino/Latina;0,3560311284046693;0,3122568093385214;0,0914396887159533;0,1264591439688716;0,05933852140077821;0,054474708171206226\n",
      "Middle Eastern;0,33707865168539325;0,3295880149812734;0,09363295880149813;0,11235955056179775;0,08614232209737828;0,04119850187265917\n",
      "Black or of African descent;0,3028322440087146;0,3224400871459695;0,09586056644880174;0,12200435729847495;0,054466230936819175;0,10239651416122005\n",
      "\n"
     ]
    }
   ],
   "source": [
    "extract_to_csv(minority_ethny19)"
   ]
  },
  {
   "cell_type": "markdown",
   "metadata": {},
   "source": [
    "In the column of ***Very satisfied*** we can see a great difference between ethnicities. How much is this difference?"
   ]
  },
  {
   "cell_type": "code",
   "execution_count": 22,
   "metadata": {},
   "outputs": [
    {
     "name": "stdout",
     "output_type": "stream",
     "text": [
      "Difference between White or of European descent and White or of European descent: 0.0\n",
      "Difference between White or of European descent and Hispanic or Latino/Latina: 0.05857545444601586\n",
      "Difference between White or of European descent and Middle Eastern: 0.07752793116529189\n",
      "Difference between White or of European descent and Black or of African descent: 0.11177433884197052\n"
     ]
    }
   ],
   "source": [
    "for ethny in ethnicity_list19:\n",
    "    diff = minority_ethny19.loc['White or of European descent']['Very satisfied'] - minority_ethny19.loc[ethny]['Very satisfied'] \n",
    "    print('Difference between White or of European descent and {}: {}'.format(ethny, diff))"
   ]
  },
  {
   "cell_type": "code",
   "execution_count": 23,
   "metadata": {},
   "outputs": [
    {
     "data": {
      "text/html": [
       "<div>\n",
       "<style scoped>\n",
       "    .dataframe tbody tr th:only-of-type {\n",
       "        vertical-align: middle;\n",
       "    }\n",
       "\n",
       "    .dataframe tbody tr th {\n",
       "        vertical-align: top;\n",
       "    }\n",
       "\n",
       "    .dataframe thead th {\n",
       "        text-align: right;\n",
       "    }\n",
       "</style>\n",
       "<table border=\"1\" class=\"dataframe\">\n",
       "  <thead>\n",
       "    <tr style=\"text-align: right;\">\n",
       "      <th></th>\n",
       "      <th>Very satisfied</th>\n",
       "      <th>Slightly satisfied</th>\n",
       "      <th>Neither satisfied nor dissatisfied</th>\n",
       "      <th>Slightly dissatisfied</th>\n",
       "      <th>Very dissatisfied</th>\n",
       "      <th>Not answered</th>\n",
       "    </tr>\n",
       "    <tr>\n",
       "      <th>Ethnicity</th>\n",
       "      <th></th>\n",
       "      <th></th>\n",
       "      <th></th>\n",
       "      <th></th>\n",
       "      <th></th>\n",
       "      <th></th>\n",
       "    </tr>\n",
       "  </thead>\n",
       "  <tbody>\n",
       "    <tr>\n",
       "      <th>White or of European descent</th>\n",
       "      <td>0.416782</td>\n",
       "      <td>0.292720</td>\n",
       "      <td>0.079050</td>\n",
       "      <td>0.135315</td>\n",
       "      <td>0.057794</td>\n",
       "      <td>0.018338</td>\n",
       "    </tr>\n",
       "    <tr>\n",
       "      <th>Hispanic or Latino/a/x</th>\n",
       "      <td>0.397790</td>\n",
       "      <td>0.268877</td>\n",
       "      <td>0.104972</td>\n",
       "      <td>0.130755</td>\n",
       "      <td>0.064457</td>\n",
       "      <td>0.033149</td>\n",
       "    </tr>\n",
       "    <tr>\n",
       "      <th>Middle Eastern</th>\n",
       "      <td>0.357143</td>\n",
       "      <td>0.279762</td>\n",
       "      <td>0.095238</td>\n",
       "      <td>0.136905</td>\n",
       "      <td>0.095238</td>\n",
       "      <td>0.035714</td>\n",
       "    </tr>\n",
       "    <tr>\n",
       "      <th>Black or of African descent</th>\n",
       "      <td>0.403361</td>\n",
       "      <td>0.239496</td>\n",
       "      <td>0.075630</td>\n",
       "      <td>0.134454</td>\n",
       "      <td>0.079832</td>\n",
       "      <td>0.067227</td>\n",
       "    </tr>\n",
       "  </tbody>\n",
       "</table>\n",
       "</div>"
      ],
      "text/plain": [
       "                              Very satisfied  Slightly satisfied  \\\n",
       "Ethnicity                                                          \n",
       "White or of European descent        0.416782            0.292720   \n",
       "Hispanic or Latino/a/x              0.397790            0.268877   \n",
       "Middle Eastern                      0.357143            0.279762   \n",
       "Black or of African descent         0.403361            0.239496   \n",
       "\n",
       "                              Neither satisfied nor dissatisfied  \\\n",
       "Ethnicity                                                          \n",
       "White or of European descent                            0.079050   \n",
       "Hispanic or Latino/a/x                                  0.104972   \n",
       "Middle Eastern                                          0.095238   \n",
       "Black or of African descent                             0.075630   \n",
       "\n",
       "                              Slightly dissatisfied  Very dissatisfied  \\\n",
       "Ethnicity                                                                \n",
       "White or of European descent               0.135315           0.057794   \n",
       "Hispanic or Latino/a/x                     0.130755           0.064457   \n",
       "Middle Eastern                             0.136905           0.095238   \n",
       "Black or of African descent                0.134454           0.079832   \n",
       "\n",
       "                              Not answered  \n",
       "Ethnicity                                   \n",
       "White or of European descent      0.018338  \n",
       "Hispanic or Latino/a/x            0.033149  \n",
       "Middle Eastern                    0.035714  \n",
       "Black or of African descent       0.067227  "
      ]
     },
     "execution_count": 23,
     "metadata": {},
     "output_type": "execute_result"
    }
   ],
   "source": [
    "#Job satisfaction by minorities ethnicities 2020\n",
    "\n",
    "ethnicity_list20 = ['White or of European descent', 'Hispanic or Latino/a/x', 'Middle Eastern', 'Black or of African descent']\n",
    "minority_ethny20 = data_crossing(employed_sample20, 'Ethnicity', ethnicity_list20, 'JobSat')\n",
    "minority_ethny20 = minority_ethny20[['Very satisfied', 'Slightly satisfied', 'Neither satisfied nor dissatisfied', 'Slightly dissatisfied', 'Very dissatisfied', 'Not answered']]\n",
    "minority_ethny20"
   ]
  },
  {
   "cell_type": "code",
   "execution_count": 24,
   "metadata": {},
   "outputs": [
    {
     "name": "stdout",
     "output_type": "stream",
     "text": [
      "Ethnicity;Very satisfied;Slightly satisfied;Neither satisfied nor dissatisfied;Slightly dissatisfied;Very dissatisfied;Not answered\n",
      "White or of European descent;0,41678243956654626;0,292720200055571;0,07904973603778827;0,13531536537927202;0,05779383161989442;0,018338427340928037\n",
      "Hispanic or Latino/a/x;0,39779005524861877;0,26887661141804786;0,10497237569060773;0,13075506445672191;0,06445672191528545;0,03314917127071823\n",
      "Middle Eastern;0,35714285714285715;0,27976190476190477;0,09523809523809523;0,13690476190476192;0,09523809523809523;0,03571428571428571\n",
      "Black or of African descent;0,40336134453781514;0,23949579831932774;0,07563025210084033;0,13445378151260504;0,07983193277310924;0,06722689075630252\n",
      "\n"
     ]
    }
   ],
   "source": [
    "extract_to_csv(minority_ethny20)"
   ]
  },
  {
   "cell_type": "markdown",
   "metadata": {},
   "source": [
    "The difference seems to decrease in 2020. "
   ]
  },
  {
   "cell_type": "code",
   "execution_count": 25,
   "metadata": {},
   "outputs": [
    {
     "name": "stdout",
     "output_type": "stream",
     "text": [
      "Difference between White or of European descent and White or of European descent: 0.0\n",
      "Difference between White or of European descent and Hispanic or Latino/a/x: 0.01899238431792749\n",
      "Difference between White or of European descent and Middle Eastern: 0.05963958242368911\n",
      "Difference between White or of European descent and Black or of African descent: 0.013421095028731123\n"
     ]
    }
   ],
   "source": [
    "for ethny in ethnicity_list20:\n",
    "    diff = minority_ethny20.loc['White or of European descent']['Very satisfied'] - minority_ethny20.loc[ethny]['Very satisfied'] \n",
    "    print('Difference between White or of European descent and {}: {}'.format(ethny, diff))"
   ]
  },
  {
   "cell_type": "markdown",
   "metadata": {},
   "source": [
    "What is the difference to 2019 to 2020 in ***Very satisfied*** column?"
   ]
  },
  {
   "cell_type": "code",
   "execution_count": 26,
   "metadata": {},
   "outputs": [
    {
     "data": {
      "text/plain": [
       "Ethnicity\n",
       "White or of European descent     0.217586\n",
       "Hispanic or Latino/a/x           4.175893\n",
       "Middle Eastern                   2.006421\n",
       "Black or of African descent     10.052910\n",
       "Name: Very satisfied, dtype: float64"
      ]
     },
     "execution_count": 26,
     "metadata": {},
     "output_type": "execute_result"
    }
   ],
   "source": [
    "minority_ethny19 = minority_ethny19.rename(index={'Hispanic or Latino/Latina': 'Hispanic or Latino/a/x'})\n",
    "(minority_ethny20['Very satisfied']-minority_ethny19['Very satisfied'])*100"
   ]
  },
  {
   "cell_type": "markdown",
   "metadata": {},
   "source": [
    "What is the job satisfaction distribution by each gender in 2019 and 2020?"
   ]
  },
  {
   "cell_type": "code",
   "execution_count": 27,
   "metadata": {},
   "outputs": [
    {
     "data": {
      "text/html": [
       "<div>\n",
       "<style scoped>\n",
       "    .dataframe tbody tr th:only-of-type {\n",
       "        vertical-align: middle;\n",
       "    }\n",
       "\n",
       "    .dataframe tbody tr th {\n",
       "        vertical-align: top;\n",
       "    }\n",
       "\n",
       "    .dataframe thead th {\n",
       "        text-align: right;\n",
       "    }\n",
       "</style>\n",
       "<table border=\"1\" class=\"dataframe\">\n",
       "  <thead>\n",
       "    <tr style=\"text-align: right;\">\n",
       "      <th></th>\n",
       "      <th>Very satisfied</th>\n",
       "      <th>Slightly satisfied</th>\n",
       "      <th>Neither satisfied nor dissatisfied</th>\n",
       "      <th>Slightly dissatisfied</th>\n",
       "      <th>Very dissatisfied</th>\n",
       "      <th>Not answered</th>\n",
       "    </tr>\n",
       "    <tr>\n",
       "      <th>Gender</th>\n",
       "      <th></th>\n",
       "      <th></th>\n",
       "      <th></th>\n",
       "      <th></th>\n",
       "      <th></th>\n",
       "      <th></th>\n",
       "    </tr>\n",
       "  </thead>\n",
       "  <tbody>\n",
       "    <tr>\n",
       "      <th>Man</th>\n",
       "      <td>0.396446</td>\n",
       "      <td>0.308670</td>\n",
       "      <td>0.083519</td>\n",
       "      <td>0.120819</td>\n",
       "      <td>0.055071</td>\n",
       "      <td>0.035475</td>\n",
       "    </tr>\n",
       "    <tr>\n",
       "      <th>Non-binary, genderqueer, or gender non-conforming</th>\n",
       "      <td>0.313380</td>\n",
       "      <td>0.327465</td>\n",
       "      <td>0.102113</td>\n",
       "      <td>0.154930</td>\n",
       "      <td>0.077465</td>\n",
       "      <td>0.024648</td>\n",
       "    </tr>\n",
       "    <tr>\n",
       "      <th>Woman</th>\n",
       "      <td>0.426430</td>\n",
       "      <td>0.277068</td>\n",
       "      <td>0.060522</td>\n",
       "      <td>0.123265</td>\n",
       "      <td>0.052748</td>\n",
       "      <td>0.059967</td>\n",
       "    </tr>\n",
       "  </tbody>\n",
       "</table>\n",
       "</div>"
      ],
      "text/plain": [
       "                                                   Very satisfied  \\\n",
       "Gender                                                              \n",
       "Man                                                      0.396446   \n",
       "Non-binary, genderqueer, or gender non-conforming        0.313380   \n",
       "Woman                                                    0.426430   \n",
       "\n",
       "                                                   Slightly satisfied  \\\n",
       "Gender                                                                  \n",
       "Man                                                          0.308670   \n",
       "Non-binary, genderqueer, or gender non-conforming            0.327465   \n",
       "Woman                                                        0.277068   \n",
       "\n",
       "                                                   Neither satisfied nor dissatisfied  \\\n",
       "Gender                                                                                  \n",
       "Man                                                                          0.083519   \n",
       "Non-binary, genderqueer, or gender non-conforming                            0.102113   \n",
       "Woman                                                                        0.060522   \n",
       "\n",
       "                                                   Slightly dissatisfied  \\\n",
       "Gender                                                                     \n",
       "Man                                                             0.120819   \n",
       "Non-binary, genderqueer, or gender non-conforming               0.154930   \n",
       "Woman                                                           0.123265   \n",
       "\n",
       "                                                   Very dissatisfied  \\\n",
       "Gender                                                                 \n",
       "Man                                                         0.055071   \n",
       "Non-binary, genderqueer, or gender non-conforming           0.077465   \n",
       "Woman                                                       0.052748   \n",
       "\n",
       "                                                   Not answered  \n",
       "Gender                                                           \n",
       "Man                                                    0.035475  \n",
       "Non-binary, genderqueer, or gender non-conforming      0.024648  \n",
       "Woman                                                  0.059967  "
      ]
     },
     "execution_count": 27,
     "metadata": {},
     "output_type": "execute_result"
    }
   ],
   "source": [
    "#Job satisfaction by minorities genders 2019\n",
    "\n",
    "gender_list19 = extract_feature_list(df19['Gender'])\n",
    "minority_gender19 = data_crossing(employed_sample19, 'Gender', gender_list19, 'JobSat')\n",
    "minority_gender19 = minority_gender19[['Very satisfied', 'Slightly satisfied', 'Neither satisfied nor dissatisfied', 'Slightly dissatisfied', 'Very dissatisfied', 'Not answered']]\n",
    "minority_gender19"
   ]
  },
  {
   "cell_type": "code",
   "execution_count": 28,
   "metadata": {},
   "outputs": [
    {
     "name": "stdout",
     "output_type": "stream",
     "text": [
      "Gender;Very satisfied;Slightly satisfied;Neither satisfied nor dissatisfied;Slightly dissatisfied;Very dissatisfied;Not answered\n",
      "Man;0,3964457057909318;0,30866950469626325;0,08351915669977701;0,12081897425501723;0,05507128860058112;0,03547536995742956\n",
      "\"Non-binary; genderqueer; or gender non-conforming\";0,31338028169014087;0,3274647887323944;0,10211267605633803;0,15492957746478872;0,07746478873239436;0,02464788732394366\n",
      "Woman;0,4264297612437535;0,27706829539144917;0,06052193225985564;0,12326485285952249;0,05274847307051638;0,059966685174902834\n",
      "\n"
     ]
    }
   ],
   "source": [
    "extract_to_csv(minority_gender19)"
   ]
  },
  {
   "cell_type": "markdown",
   "metadata": {},
   "source": [
    "The same difference can be noted in Very satisfied column."
   ]
  },
  {
   "cell_type": "code",
   "execution_count": 29,
   "metadata": {},
   "outputs": [
    {
     "name": "stdout",
     "output_type": "stream",
     "text": [
      "Difference between Woman and Man: 0.02998405545282168\n",
      "Difference between Woman and Non-binary, genderqueer, or gender non-conforming: 0.11304947955361261\n",
      "Difference between Woman and Woman: 0.0\n"
     ]
    }
   ],
   "source": [
    "for gender in gender_list19:\n",
    "    diff = minority_gender19.loc['Woman']['Very satisfied'] - minority_gender19.loc[gender]['Very satisfied'] \n",
    "    print('Difference between Woman and {}: {}'.format(gender, diff))"
   ]
  },
  {
   "cell_type": "code",
   "execution_count": 30,
   "metadata": {},
   "outputs": [
    {
     "data": {
      "text/html": [
       "<div>\n",
       "<style scoped>\n",
       "    .dataframe tbody tr th:only-of-type {\n",
       "        vertical-align: middle;\n",
       "    }\n",
       "\n",
       "    .dataframe tbody tr th {\n",
       "        vertical-align: top;\n",
       "    }\n",
       "\n",
       "    .dataframe thead th {\n",
       "        text-align: right;\n",
       "    }\n",
       "</style>\n",
       "<table border=\"1\" class=\"dataframe\">\n",
       "  <thead>\n",
       "    <tr style=\"text-align: right;\">\n",
       "      <th></th>\n",
       "      <th>Very satisfied</th>\n",
       "      <th>Slightly satisfied</th>\n",
       "      <th>Neither satisfied nor dissatisfied</th>\n",
       "      <th>Slightly dissatisfied</th>\n",
       "      <th>Very dissatisfied</th>\n",
       "      <th>Not answered</th>\n",
       "    </tr>\n",
       "    <tr>\n",
       "      <th>Gender</th>\n",
       "      <th></th>\n",
       "      <th></th>\n",
       "      <th></th>\n",
       "      <th></th>\n",
       "      <th></th>\n",
       "      <th></th>\n",
       "    </tr>\n",
       "  </thead>\n",
       "  <tbody>\n",
       "    <tr>\n",
       "      <th>Man</th>\n",
       "      <td>0.402906</td>\n",
       "      <td>0.292683</td>\n",
       "      <td>0.086365</td>\n",
       "      <td>0.137545</td>\n",
       "      <td>0.060109</td>\n",
       "      <td>0.020392</td>\n",
       "    </tr>\n",
       "    <tr>\n",
       "      <th>Non-binary, genderqueer, or gender non-conforming</th>\n",
       "      <td>0.413580</td>\n",
       "      <td>0.271605</td>\n",
       "      <td>0.111111</td>\n",
       "      <td>0.129630</td>\n",
       "      <td>0.055556</td>\n",
       "      <td>0.018519</td>\n",
       "    </tr>\n",
       "    <tr>\n",
       "      <th>Woman</th>\n",
       "      <td>0.422819</td>\n",
       "      <td>0.281879</td>\n",
       "      <td>0.079418</td>\n",
       "      <td>0.120805</td>\n",
       "      <td>0.062640</td>\n",
       "      <td>0.032438</td>\n",
       "    </tr>\n",
       "  </tbody>\n",
       "</table>\n",
       "</div>"
      ],
      "text/plain": [
       "                                                   Very satisfied  \\\n",
       "Gender                                                              \n",
       "Man                                                      0.402906   \n",
       "Non-binary, genderqueer, or gender non-conforming        0.413580   \n",
       "Woman                                                    0.422819   \n",
       "\n",
       "                                                   Slightly satisfied  \\\n",
       "Gender                                                                  \n",
       "Man                                                          0.292683   \n",
       "Non-binary, genderqueer, or gender non-conforming            0.271605   \n",
       "Woman                                                        0.281879   \n",
       "\n",
       "                                                   Neither satisfied nor dissatisfied  \\\n",
       "Gender                                                                                  \n",
       "Man                                                                          0.086365   \n",
       "Non-binary, genderqueer, or gender non-conforming                            0.111111   \n",
       "Woman                                                                        0.079418   \n",
       "\n",
       "                                                   Slightly dissatisfied  \\\n",
       "Gender                                                                     \n",
       "Man                                                             0.137545   \n",
       "Non-binary, genderqueer, or gender non-conforming               0.129630   \n",
       "Woman                                                           0.120805   \n",
       "\n",
       "                                                   Very dissatisfied  \\\n",
       "Gender                                                                 \n",
       "Man                                                         0.060109   \n",
       "Non-binary, genderqueer, or gender non-conforming           0.055556   \n",
       "Woman                                                       0.062640   \n",
       "\n",
       "                                                   Not answered  \n",
       "Gender                                                           \n",
       "Man                                                    0.020392  \n",
       "Non-binary, genderqueer, or gender non-conforming      0.018519  \n",
       "Woman                                                  0.032438  "
      ]
     },
     "execution_count": 30,
     "metadata": {},
     "output_type": "execute_result"
    }
   ],
   "source": [
    "#Job satisfaction by minorities genders 2020\n",
    "\n",
    "gender_list20 = extract_feature_list(df20['Gender'])\n",
    "minority_gender20 = data_crossing(employed_sample20, 'Gender', gender_list20, 'JobSat')\n",
    "minority_gender20 = minority_gender20[['Very satisfied', 'Slightly satisfied', 'Neither satisfied nor dissatisfied', 'Slightly dissatisfied', 'Very dissatisfied', 'Not answered']]\n",
    "minority_gender20"
   ]
  },
  {
   "cell_type": "code",
   "execution_count": 31,
   "metadata": {},
   "outputs": [
    {
     "name": "stdout",
     "output_type": "stream",
     "text": [
      "Gender;Very satisfied;Slightly satisfied;Neither satisfied nor dissatisfied;Slightly dissatisfied;Very dissatisfied;Not answered\n",
      "Man;0,4029055044648807;0,2926829268292683;0,08636545381847262;0,13754498200719711;0,060109289617486336;0,02039184326269492\n",
      "\"Non-binary; genderqueer; or gender non-conforming\";0,41358024691358025;0,2716049382716049;0,1111111111111111;0,12962962962962962;0,05555555555555555;0,018518518518518517\n",
      "Woman;0,4228187919463087;0,28187919463087246;0,07941834451901567;0,12080536912751678;0,06263982102908278;0,03243847874720358\n",
      "\n"
     ]
    }
   ],
   "source": [
    "extract_to_csv(minority_gender20)"
   ]
  },
  {
   "cell_type": "code",
   "execution_count": 32,
   "metadata": {},
   "outputs": [
    {
     "name": "stdout",
     "output_type": "stream",
     "text": [
      "Difference between Man and Man: 0.0\n",
      "Difference between Man and Non-binary, genderqueer, or gender non-conforming: -0.010674742448699537\n",
      "Difference between Man and Woman: -0.01991328748142801\n"
     ]
    }
   ],
   "source": [
    "for gender in gender_list20:\n",
    "    diff = minority_gender20.loc['Man']['Very satisfied'] - minority_gender20.loc[gender]['Very satisfied'] \n",
    "    print('Difference between Man and {}: {}'.format(gender, diff))"
   ]
  },
  {
   "cell_type": "markdown",
   "metadata": {},
   "source": [
    "What is the difference to 2019 to 2020 in Very satisfied column for gender?"
   ]
  },
  {
   "cell_type": "code",
   "execution_count": 33,
   "metadata": {},
   "outputs": [
    {
     "data": {
      "text/plain": [
       "Gender\n",
       "Man                                                   0.645980\n",
       "Non-binary, genderqueer, or gender non-conforming    10.019997\n",
       "Woman                                                -0.361097\n",
       "Name: Very satisfied, dtype: float64"
      ]
     },
     "execution_count": 33,
     "metadata": {},
     "output_type": "execute_result"
    }
   ],
   "source": [
    "(minority_gender20['Very satisfied']-minority_gender19['Very satisfied'])*100"
   ]
  },
  {
   "cell_type": "markdown",
   "metadata": {},
   "source": [
    "Stackoverflow asked developers what their job seeking status was in 2019 and 2020. So, it’s possible to find some false negatives, i.e, developers who said they  were ***very satisfied*** with their jobs and ***were actively looking for a job***. So, let's create a callback function to extract these false positives to gender and ethnicity."
   ]
  },
  {
   "cell_type": "code",
   "execution_count": 34,
   "metadata": {},
   "outputs": [],
   "source": [
    "def get_false_positive(df, year, feature):\n",
    "    jobseek_query = 'JobSeek == \"I am actively looking for a job\"'\n",
    "    false_positive = df.query(jobseek_query).shape[0]\n",
    "    return false_positive/df.shape[0]"
   ]
  },
  {
   "cell_type": "markdown",
   "metadata": {},
   "source": [
    "Extracting the false positives related to respondents who felt very satisfied and were actively looking for a new job by ethnicity."
   ]
  },
  {
   "cell_type": "code",
   "execution_count": 35,
   "metadata": {},
   "outputs": [
    {
     "data": {
      "text/html": [
       "<div>\n",
       "<style scoped>\n",
       "    .dataframe tbody tr th:only-of-type {\n",
       "        vertical-align: middle;\n",
       "    }\n",
       "\n",
       "    .dataframe tbody tr th {\n",
       "        vertical-align: top;\n",
       "    }\n",
       "\n",
       "    .dataframe thead th {\n",
       "        text-align: right;\n",
       "    }\n",
       "</style>\n",
       "<table border=\"1\" class=\"dataframe\">\n",
       "  <thead>\n",
       "    <tr style=\"text-align: right;\">\n",
       "      <th></th>\n",
       "      <th>2019</th>\n",
       "      <th>2020</th>\n",
       "    </tr>\n",
       "    <tr>\n",
       "      <th>Ethnicity</th>\n",
       "      <th></th>\n",
       "      <th></th>\n",
       "    </tr>\n",
       "  </thead>\n",
       "  <tbody>\n",
       "    <tr>\n",
       "      <th>White or of European descent</th>\n",
       "      <td>0.015332</td>\n",
       "      <td>0.020333</td>\n",
       "    </tr>\n",
       "    <tr>\n",
       "      <th>Middle Eastern</th>\n",
       "      <td>0.011111</td>\n",
       "      <td>0.016667</td>\n",
       "    </tr>\n",
       "    <tr>\n",
       "      <th>Hispanic or Latino/a/x</th>\n",
       "      <td>0.021858</td>\n",
       "      <td>0.041667</td>\n",
       "    </tr>\n",
       "    <tr>\n",
       "      <th>Black or of African descent</th>\n",
       "      <td>0.021583</td>\n",
       "      <td>0.020833</td>\n",
       "    </tr>\n",
       "  </tbody>\n",
       "</table>\n",
       "</div>"
      ],
      "text/plain": [
       "                                  2019      2020\n",
       "Ethnicity                                       \n",
       "White or of European descent  0.015332  0.020333\n",
       "Middle Eastern                0.011111  0.016667\n",
       "Hispanic or Latino/a/x        0.021858  0.041667\n",
       "Black or of African descent   0.021583  0.020833"
      ]
     },
     "execution_count": 35,
     "metadata": {},
     "output_type": "execute_result"
    }
   ],
   "source": [
    "satisfaction_query = 'JobSat == \"Very satisfied\"'\n",
    "df_list = {2019: employed_sample19.query(satisfaction_query), 2020: employed_sample20.query(satisfaction_query)}\n",
    "\n",
    "feature = {2019: 'Ethnicity', 2020: 'Ethnicity'}\n",
    "minority_ethny_list = {\n",
    "    'White': {2019: 'White or of European descent', 2020: 'White or of European descent'},\n",
    "    'Middle': {2019: 'Middle Eastern', 2020: 'Middle Eastern'},\n",
    "    'Hispanic': {2019: 'Hispanic or Latino/Latina', 2020: 'Hispanic or Latino/a/x'},\n",
    "    'Black': {2019: 'Black or of African descent', 2020: 'Black or of African descent'},\n",
    "}\n",
    "\n",
    "fp_by_ethny = findings_by_feature(df_list, feature, minority_ethny_list, 'Ethnicity', get_false_positive)\n",
    "fp_by_ethny"
   ]
  },
  {
   "cell_type": "code",
   "execution_count": 36,
   "metadata": {},
   "outputs": [
    {
     "name": "stdout",
     "output_type": "stream",
     "text": [
      "Ethnicity;2019;2020\n",
      "White or of European descent;0,015332197614991482;0,02033333333333333\n",
      "Middle Eastern;0,011111111111111112;0,016666666666666666\n",
      "Hispanic or Latino/a/x;0,02185792349726776;0,041666666666666664\n",
      "Black or of African descent;0,02158273381294964;0,020833333333333332\n",
      "\n"
     ]
    }
   ],
   "source": [
    "extract_to_csv(fp_by_ethny)"
   ]
  },
  {
   "cell_type": "markdown",
   "metadata": {},
   "source": [
    "Let's remove the false positives"
   ]
  },
  {
   "cell_type": "code",
   "execution_count": 37,
   "metadata": {},
   "outputs": [
    {
     "data": {
      "text/plain": [
       "Ethnicity\n",
       "Black or of African descent     0.281250\n",
       "Hispanic or Latino/a/x          0.334173\n",
       "Middle Eastern                  0.325968\n",
       "White or of European descent    0.399274\n",
       "dtype: float64"
      ]
     },
     "execution_count": 37,
     "metadata": {},
     "output_type": "execute_result"
    }
   ],
   "source": [
    "minority_ethny19['Very satisfied']-fp_by_ethny[2019]"
   ]
  },
  {
   "cell_type": "code",
   "execution_count": 38,
   "metadata": {},
   "outputs": [
    {
     "data": {
      "text/plain": [
       "Ethnicity\n",
       "Black or of African descent     0.382528\n",
       "Hispanic or Latino/a/x          0.356123\n",
       "Middle Eastern                  0.340476\n",
       "White or of European descent    0.396449\n",
       "dtype: float64"
      ]
     },
     "execution_count": 38,
     "metadata": {},
     "output_type": "execute_result"
    }
   ],
   "source": [
    "minority_ethny20['Very satisfied']-fp_by_ethny[2020]"
   ]
  },
  {
   "cell_type": "markdown",
   "metadata": {},
   "source": [
    "How much false positives has gender?"
   ]
  },
  {
   "cell_type": "code",
   "execution_count": 39,
   "metadata": {},
   "outputs": [
    {
     "data": {
      "text/html": [
       "<div>\n",
       "<style scoped>\n",
       "    .dataframe tbody tr th:only-of-type {\n",
       "        vertical-align: middle;\n",
       "    }\n",
       "\n",
       "    .dataframe tbody tr th {\n",
       "        vertical-align: top;\n",
       "    }\n",
       "\n",
       "    .dataframe thead th {\n",
       "        text-align: right;\n",
       "    }\n",
       "</style>\n",
       "<table border=\"1\" class=\"dataframe\">\n",
       "  <thead>\n",
       "    <tr style=\"text-align: right;\">\n",
       "      <th></th>\n",
       "      <th>2019</th>\n",
       "      <th>2020</th>\n",
       "    </tr>\n",
       "    <tr>\n",
       "      <th>Gender</th>\n",
       "      <th></th>\n",
       "      <th></th>\n",
       "    </tr>\n",
       "  </thead>\n",
       "  <tbody>\n",
       "    <tr>\n",
       "      <th>Man</th>\n",
       "      <td>0.017556</td>\n",
       "      <td>0.022825</td>\n",
       "    </tr>\n",
       "    <tr>\n",
       "      <th>Woman</th>\n",
       "      <td>0.007812</td>\n",
       "      <td>0.013228</td>\n",
       "    </tr>\n",
       "    <tr>\n",
       "      <th>Non-binary, genderqueer, or gender non-conforming</th>\n",
       "      <td>0.011236</td>\n",
       "      <td>0.029851</td>\n",
       "    </tr>\n",
       "  </tbody>\n",
       "</table>\n",
       "</div>"
      ],
      "text/plain": [
       "                                                       2019      2020\n",
       "Gender                                                               \n",
       "Man                                                0.017556  0.022825\n",
       "Woman                                              0.007812  0.013228\n",
       "Non-binary, genderqueer, or gender non-conforming  0.011236  0.029851"
      ]
     },
     "execution_count": 39,
     "metadata": {},
     "output_type": "execute_result"
    }
   ],
   "source": [
    "feature = {2019: 'Gender', 2020: 'Gender'}\n",
    "gender_list = {\n",
    "    'Man': {2019: 'Man', 2020: 'Man'},\n",
    "    'Woman': {2019: 'Woman', 2020: 'Woman'},\n",
    "    'Non-binary': {2019: 'Non-binary, genderqueer, or gender non-conforming', 2020: 'Non-binary, genderqueer, or gender non-conforming'},\n",
    "}\n",
    "\n",
    "fp_gender = findings_by_feature(df_list, feature, gender_list, 'Gender', get_false_positive)\n",
    "fp_gender"
   ]
  },
  {
   "cell_type": "code",
   "execution_count": 40,
   "metadata": {},
   "outputs": [
    {
     "name": "stdout",
     "output_type": "stream",
     "text": [
      "Gender;2019;2020\n",
      "Man;0,017555820692006136;0,022825008269930534\n",
      "Woman;0,0078125;0,013227513227513227\n",
      "\"Non-binary; genderqueer; or gender non-conforming\";0,011235955056179775;0,029850746268656716\n",
      "\n"
     ]
    }
   ],
   "source": [
    "extract_to_csv(fp_gender)"
   ]
  },
  {
   "cell_type": "markdown",
   "metadata": {},
   "source": [
    "Let's remove the false positives"
   ]
  },
  {
   "cell_type": "code",
   "execution_count": 41,
   "metadata": {},
   "outputs": [
    {
     "data": {
      "text/plain": [
       "Gender\n",
       "Man                                                  0.378890\n",
       "Non-binary, genderqueer, or gender non-conforming    0.302144\n",
       "Woman                                                0.418617\n",
       "dtype: float64"
      ]
     },
     "execution_count": 41,
     "metadata": {},
     "output_type": "execute_result"
    }
   ],
   "source": [
    "minority_gender19['Very satisfied']-fp_gender[2019]"
   ]
  },
  {
   "cell_type": "code",
   "execution_count": 42,
   "metadata": {},
   "outputs": [
    {
     "data": {
      "text/plain": [
       "Gender\n",
       "Man                                                  0.380080\n",
       "Non-binary, genderqueer, or gender non-conforming    0.383730\n",
       "Woman                                                0.409591\n",
       "dtype: float64"
      ]
     },
     "execution_count": 42,
     "metadata": {},
     "output_type": "execute_result"
    }
   ],
   "source": [
    "minority_gender20['Very satisfied']-fp_gender[2020]"
   ]
  },
  {
   "cell_type": "markdown",
   "metadata": {},
   "source": [
    "### Question 3: Do minorities have been compensated equally in the US tech industry?\n",
    "\n",
    "According to Forbes, salary is correlated to job satisfaction. So, it’s important to understand the difference in salaries across the last years. To evaluate these salary differences, we need to ensure we'll use just respondents who is currently working and answered about salary."
   ]
  },
  {
   "cell_type": "code",
   "execution_count": 43,
   "metadata": {},
   "outputs": [
    {
     "name": "stdout",
     "output_type": "stream",
     "text": [
      "Proportion repondents with missing data about compensation in 2018: 0.3413\n",
      "Proportion repondents with missing data about compensation in 2019: 0.1902\n",
      "Proportion repondents with missing data about compensation in 2020: 0.2217\n"
     ]
    }
   ],
   "source": [
    "employed_sample18 = sample18.query(employment_query)\n",
    "\n",
    "salary_sample18 = employed_sample18.query('ConvertedSalary == ConvertedSalary')\n",
    "salary_sample19 = employed_sample19.query('ConvertedComp == ConvertedComp')\n",
    "salary_sample20 = employed_sample20.query('ConvertedComp == ConvertedComp')\n",
    "\n",
    "print('Proportion repondents with missing data about compensation in 2018: %.4f'%(1-salary_sample18.shape[0]/sample19.shape[0]))\n",
    "print('Proportion repondents with missing data about compensation in 2019: %.4f'%(1-salary_sample19.shape[0]/sample19.shape[0]))\n",
    "print('Proportion repondents with missing data about compensation in 2020: %.4f'%(1-salary_sample20.shape[0]/sample20.shape[0]))"
   ]
  },
  {
   "cell_type": "markdown",
   "metadata": {},
   "source": [
    "Let's create a callback function to extract the mean salary."
   ]
  },
  {
   "cell_type": "code",
   "execution_count": 44,
   "metadata": {},
   "outputs": [],
   "source": [
    "def get_salary_by_years(df, year, feature):\n",
    "    '''\n",
    "    Callback function to findings_by_minority\n",
    "    It's important stands out the high variability of annual salary.\n",
    "    So was used the median to better representation of annual salary of the samples.\n",
    "    \n",
    "    INPUT\n",
    "        df - a dataframe of specific year, result of a previous query\n",
    "        year - year of the dataframe\n",
    "        minority - type of minority (Ethnicity | Gender)\n",
    "        \n",
    "    OUTPUT\n",
    "        return - annual salary for a specific group (Ethnicity | Gender), in the US for a specific year\n",
    "    '''\n",
    "        \n",
    "    salary_list = {2018: 'ConvertedSalary', 2019: 'ConvertedComp', 2020: 'ConvertedComp'}\n",
    "    salary_feature_name = salary_list[year]\n",
    "    return df.mean()[salary_feature_name]"
   ]
  },
  {
   "cell_type": "markdown",
   "metadata": {},
   "source": [
    "Let's extract the annual mean salary by ethnicity of all employed respondents."
   ]
  },
  {
   "cell_type": "code",
   "execution_count": 45,
   "metadata": {},
   "outputs": [
    {
     "data": {
      "text/html": [
       "<div>\n",
       "<style scoped>\n",
       "    .dataframe tbody tr th:only-of-type {\n",
       "        vertical-align: middle;\n",
       "    }\n",
       "\n",
       "    .dataframe tbody tr th {\n",
       "        vertical-align: top;\n",
       "    }\n",
       "\n",
       "    .dataframe thead th {\n",
       "        text-align: right;\n",
       "    }\n",
       "</style>\n",
       "<table border=\"1\" class=\"dataframe\">\n",
       "  <thead>\n",
       "    <tr style=\"text-align: right;\">\n",
       "      <th></th>\n",
       "      <th>2018</th>\n",
       "      <th>2019</th>\n",
       "      <th>2020</th>\n",
       "    </tr>\n",
       "    <tr>\n",
       "      <th>Ethnicity</th>\n",
       "      <th></th>\n",
       "      <th></th>\n",
       "      <th></th>\n",
       "    </tr>\n",
       "  </thead>\n",
       "  <tbody>\n",
       "    <tr>\n",
       "      <th>White or of European descent</th>\n",
       "      <td>151854.262264</td>\n",
       "      <td>245340.068599</td>\n",
       "      <td>205368.492682</td>\n",
       "    </tr>\n",
       "    <tr>\n",
       "      <th>Middle Eastern</th>\n",
       "      <td>156341.735099</td>\n",
       "      <td>229689.711009</td>\n",
       "      <td>262043.153846</td>\n",
       "    </tr>\n",
       "    <tr>\n",
       "      <th>Hispanic or Latino/a/x</th>\n",
       "      <td>165911.643902</td>\n",
       "      <td>238368.165299</td>\n",
       "      <td>183682.477124</td>\n",
       "    </tr>\n",
       "    <tr>\n",
       "      <th>Black or of African descent</th>\n",
       "      <td>172254.857724</td>\n",
       "      <td>303641.337176</td>\n",
       "      <td>248674.079365</td>\n",
       "    </tr>\n",
       "  </tbody>\n",
       "</table>\n",
       "</div>"
      ],
      "text/plain": [
       "                                       2018           2019           2020\n",
       "Ethnicity                                                                \n",
       "White or of European descent  151854.262264  245340.068599  205368.492682\n",
       "Middle Eastern                156341.735099  229689.711009  262043.153846\n",
       "Hispanic or Latino/a/x        165911.643902  238368.165299  183682.477124\n",
       "Black or of African descent   172254.857724  303641.337176  248674.079365"
      ]
     },
     "execution_count": 45,
     "metadata": {},
     "output_type": "execute_result"
    }
   ],
   "source": [
    "df_list = {2018: salary_sample18, 2019: salary_sample19, 2020: salary_sample20}\n",
    "\n",
    "feature = {2018: 'RaceEthnicity', 2019: 'Ethnicity', 2020: 'Ethnicity'}\n",
    "minority_ethny_list = {\n",
    "    'White': {2018: 'White or of European descent', 2019: 'White or of European descent', 2020: 'White or of European descent'},\n",
    "    'Middle': {2018: 'Middle Eastern', 2019: 'Middle Eastern', 2020: 'Middle Eastern'},\n",
    "    'Hispanic': {2018: 'Hispanic or Latino/Latina', 2019: 'Hispanic or Latino/Latina', 2020: 'Hispanic or Latino/a/x'},\n",
    "    'Black': {2018: 'Black or of African descent', 2019: 'Black or of African descent', 2020: 'Black or of African descent'},\n",
    "}\n",
    "\n",
    "salary_by_ethny = findings_by_feature(df_list, feature, minority_ethny_list, 'Ethnicity', get_salary_by_years)\n",
    "salary_by_ethny"
   ]
  },
  {
   "cell_type": "markdown",
   "metadata": {},
   "source": [
    "This annual mean salary are very high, let's see the standard deviation."
   ]
  },
  {
   "cell_type": "code",
   "execution_count": 46,
   "metadata": {},
   "outputs": [],
   "source": [
    "def get_std_salary_by_years(df, year, feature):\n",
    "    '''\n",
    "    Callback function to findings_by_minority\n",
    "    It's important stands out the high variability of annual salary.\n",
    "    So was used the median to better representation of annual salary of the samples.\n",
    "    \n",
    "    INPUT\n",
    "        df - a dataframe of specific year, result of a previous query\n",
    "        year - year of the dataframe\n",
    "        minority - type of minority (Ethnicity | Gender)\n",
    "        \n",
    "    OUTPUT\n",
    "        return - standard deviation by annual salary for a specific group (Ethnicity | Gender), in the US for a specific year\n",
    "    '''\n",
    "        \n",
    "    salary_list = {2018: 'ConvertedSalary', 2019: 'ConvertedComp', 2020: 'ConvertedComp'}\n",
    "    salary_feature_name = salary_list[year]\n",
    "    return df.std()[salary_feature_name]"
   ]
  },
  {
   "cell_type": "code",
   "execution_count": 47,
   "metadata": {},
   "outputs": [
    {
     "data": {
      "text/html": [
       "<div>\n",
       "<style scoped>\n",
       "    .dataframe tbody tr th:only-of-type {\n",
       "        vertical-align: middle;\n",
       "    }\n",
       "\n",
       "    .dataframe tbody tr th {\n",
       "        vertical-align: top;\n",
       "    }\n",
       "\n",
       "    .dataframe thead th {\n",
       "        text-align: right;\n",
       "    }\n",
       "</style>\n",
       "<table border=\"1\" class=\"dataframe\">\n",
       "  <thead>\n",
       "    <tr style=\"text-align: right;\">\n",
       "      <th></th>\n",
       "      <th>2018</th>\n",
       "      <th>2019</th>\n",
       "      <th>2020</th>\n",
       "    </tr>\n",
       "    <tr>\n",
       "      <th>Ethnicity</th>\n",
       "      <th></th>\n",
       "      <th></th>\n",
       "      <th></th>\n",
       "    </tr>\n",
       "  </thead>\n",
       "  <tbody>\n",
       "    <tr>\n",
       "      <th>White or of European descent</th>\n",
       "      <td>278186.006290</td>\n",
       "      <td>446753.501274</td>\n",
       "      <td>365496.477213</td>\n",
       "    </tr>\n",
       "    <tr>\n",
       "      <th>Middle Eastern</th>\n",
       "      <td>309877.710893</td>\n",
       "      <td>407207.619000</td>\n",
       "      <td>448746.694938</td>\n",
       "    </tr>\n",
       "    <tr>\n",
       "      <th>Hispanic or Latino/a/x</th>\n",
       "      <td>332314.383842</td>\n",
       "      <td>450288.628926</td>\n",
       "      <td>345668.704869</td>\n",
       "    </tr>\n",
       "    <tr>\n",
       "      <th>Black or of African descent</th>\n",
       "      <td>364373.268179</td>\n",
       "      <td>547881.352348</td>\n",
       "      <td>464631.698894</td>\n",
       "    </tr>\n",
       "  </tbody>\n",
       "</table>\n",
       "</div>"
      ],
      "text/plain": [
       "                                       2018           2019           2020\n",
       "Ethnicity                                                                \n",
       "White or of European descent  278186.006290  446753.501274  365496.477213\n",
       "Middle Eastern                309877.710893  407207.619000  448746.694938\n",
       "Hispanic or Latino/a/x        332314.383842  450288.628926  345668.704869\n",
       "Black or of African descent   364373.268179  547881.352348  464631.698894"
      ]
     },
     "execution_count": 47,
     "metadata": {},
     "output_type": "execute_result"
    }
   ],
   "source": [
    "std_salary_by_ethny = findings_by_feature(df_list, feature, minority_ethny_list, 'Ethnicity', get_std_salary_by_years)\n",
    "std_salary_by_ethny"
   ]
  },
  {
   "cell_type": "markdown",
   "metadata": {},
   "source": [
    "Annual salary has a huge variability. Probably this respondent's with the higher salaries are compensated by some own app. So, let's use the median."
   ]
  },
  {
   "cell_type": "code",
   "execution_count": 48,
   "metadata": {},
   "outputs": [],
   "source": [
    "def get_salary_by_years(df, year, feature):\n",
    "    '''\n",
    "    Callback function to findings_by_minority\n",
    "    It's important stands out the high variability of annual salary.\n",
    "    So was used the median to better representation of annual salary of the samples.\n",
    "    \n",
    "    INPUT\n",
    "        df - a dataframe of specific year, result of a previous query\n",
    "        year - year of the dataframe\n",
    "        minority - type of minority (Ethnicity | Gender)\n",
    "        \n",
    "    OUTPUT\n",
    "        return - annual salary for a specific group (Ethnicity | Gender), in the US for a specific year\n",
    "    '''\n",
    "        \n",
    "    salary_list = {2018: 'ConvertedSalary', 2019: 'ConvertedComp', 2020: 'ConvertedComp'}\n",
    "    salary_feature_name = salary_list[year]\n",
    "    return df.median()[salary_feature_name]"
   ]
  },
  {
   "cell_type": "code",
   "execution_count": 49,
   "metadata": {},
   "outputs": [
    {
     "data": {
      "text/html": [
       "<div>\n",
       "<style scoped>\n",
       "    .dataframe tbody tr th:only-of-type {\n",
       "        vertical-align: middle;\n",
       "    }\n",
       "\n",
       "    .dataframe tbody tr th {\n",
       "        vertical-align: top;\n",
       "    }\n",
       "\n",
       "    .dataframe thead th {\n",
       "        text-align: right;\n",
       "    }\n",
       "</style>\n",
       "<table border=\"1\" class=\"dataframe\">\n",
       "  <thead>\n",
       "    <tr style=\"text-align: right;\">\n",
       "      <th></th>\n",
       "      <th>2018</th>\n",
       "      <th>2019</th>\n",
       "      <th>2020</th>\n",
       "    </tr>\n",
       "    <tr>\n",
       "      <th>Ethnicity</th>\n",
       "      <th></th>\n",
       "      <th></th>\n",
       "      <th></th>\n",
       "    </tr>\n",
       "  </thead>\n",
       "  <tbody>\n",
       "    <tr>\n",
       "      <th>White or of European descent</th>\n",
       "      <td>100000.0</td>\n",
       "      <td>110000.0</td>\n",
       "      <td>115000.0</td>\n",
       "    </tr>\n",
       "    <tr>\n",
       "      <th>Middle Eastern</th>\n",
       "      <td>94000.0</td>\n",
       "      <td>115000.0</td>\n",
       "      <td>125000.0</td>\n",
       "    </tr>\n",
       "    <tr>\n",
       "      <th>Hispanic or Latino/a/x</th>\n",
       "      <td>95500.0</td>\n",
       "      <td>105000.0</td>\n",
       "      <td>103000.0</td>\n",
       "    </tr>\n",
       "    <tr>\n",
       "      <th>Black or of African descent</th>\n",
       "      <td>90000.0</td>\n",
       "      <td>105000.0</td>\n",
       "      <td>111000.0</td>\n",
       "    </tr>\n",
       "  </tbody>\n",
       "</table>\n",
       "</div>"
      ],
      "text/plain": [
       "                                  2018      2019      2020\n",
       "Ethnicity                                                 \n",
       "White or of European descent  100000.0  110000.0  115000.0\n",
       "Middle Eastern                 94000.0  115000.0  125000.0\n",
       "Hispanic or Latino/a/x         95500.0  105000.0  103000.0\n",
       "Black or of African descent    90000.0  105000.0  111000.0"
      ]
     },
     "execution_count": 49,
     "metadata": {},
     "output_type": "execute_result"
    }
   ],
   "source": [
    "salary_by_ethny = findings_by_feature(df_list, feature, minority_ethny_list, 'Ethnicity', get_salary_by_years)\n",
    "salary_by_ethny"
   ]
  },
  {
   "cell_type": "code",
   "execution_count": 50,
   "metadata": {},
   "outputs": [
    {
     "name": "stdout",
     "output_type": "stream",
     "text": [
      "Ethnicity;2018;2019;2020\n",
      "White or of European descent;100000,0;110000,0;115000,0\n",
      "Middle Eastern;94000,0;115000,0;125000,0\n",
      "Hispanic or Latino/a/x;95500,0;105000,0;103000,0\n",
      "Black or of African descent;90000,0;105000,0;111000,0\n",
      "\n"
     ]
    }
   ],
   "source": [
    "extract_to_csv(salary_by_ethny)"
   ]
  },
  {
   "cell_type": "code",
   "execution_count": 51,
   "metadata": {},
   "outputs": [
    {
     "data": {
      "text/plain": [
       "<matplotlib.axes._subplots.AxesSubplot at 0x7fdb68b44da0>"
      ]
     },
     "execution_count": 51,
     "metadata": {},
     "output_type": "execute_result"
    },
    {
     "data": {
      "image/png": "[encoded data removed]",
      "text/plain": [
       "<matplotlib.figure.Figure at 0x7fdb68b446d8>"
      ]
     },
     "metadata": {
      "needs_background": "light"
     },
     "output_type": "display_data"
    }
   ],
   "source": [
    "salary_by_ethny.plot(kind='bar', title='Mean annual salary by ethnicity')"
   ]
  },
  {
   "cell_type": "code",
   "execution_count": 52,
   "metadata": {},
   "outputs": [
    {
     "name": "stdout",
     "output_type": "stream",
     "text": [
      "Annual salary gap between White or of European descent and White or of European descent in 2018: 0.0\n",
      "Annual salary gap between White or of European descent and Hispanic or Latino/a/x in 2018: 4500.0\n",
      "Annual salary gap between White or of European descent and Middle Eastern in 2018: 6000.0\n",
      "Annual salary gap between White or of European descent and Black or of African descent in 2018: 10000.0\n",
      "##################\n",
      "Annual salary gap between White or of European descent and White or of European descent in 2019: 0.0\n",
      "Annual salary gap between White or of European descent and Hispanic or Latino/a/x in 2019: 5000.0\n",
      "Annual salary gap between White or of European descent and Middle Eastern in 2019: -5000.0\n",
      "Annual salary gap between White or of European descent and Black or of African descent in 2019: 5000.0\n",
      "##################\n",
      "Annual salary gap between White or of European descent and White or of European descent in 2020: 0.0\n",
      "Annual salary gap between White or of European descent and Hispanic or Latino/a/x in 2020: 12000.0\n",
      "Annual salary gap between White or of European descent and Middle Eastern in 2020: -10000.0\n",
      "Annual salary gap between White or of European descent and Black or of African descent in 2020: 4000.0\n",
      "##################\n"
     ]
    }
   ],
   "source": [
    "years = salary_by_ethny.columns\n",
    "for year in years:\n",
    "    white_salary = salary_by_ethny.loc['White or of European descent'][year]\n",
    "    for ethny in ethnicity_list20:\n",
    "        diff = white_salary - salary_by_ethny.loc[ethny][year]\n",
    "        print('Annual salary gap between White or of European descent and %s in %s: %s'%(ethny, year, diff))\n",
    "    print('##################')"
   ]
  },
  {
   "cell_type": "markdown",
   "metadata": {},
   "source": [
    "Here we are with more realistic salaries. Let's see the salaries by gender."
   ]
  },
  {
   "cell_type": "code",
   "execution_count": 53,
   "metadata": {},
   "outputs": [
    {
     "data": {
      "text/html": [
       "<div>\n",
       "<style scoped>\n",
       "    .dataframe tbody tr th:only-of-type {\n",
       "        vertical-align: middle;\n",
       "    }\n",
       "\n",
       "    .dataframe tbody tr th {\n",
       "        vertical-align: top;\n",
       "    }\n",
       "\n",
       "    .dataframe thead th {\n",
       "        text-align: right;\n",
       "    }\n",
       "</style>\n",
       "<table border=\"1\" class=\"dataframe\">\n",
       "  <thead>\n",
       "    <tr style=\"text-align: right;\">\n",
       "      <th></th>\n",
       "      <th>2018</th>\n",
       "      <th>2019</th>\n",
       "      <th>2020</th>\n",
       "    </tr>\n",
       "    <tr>\n",
       "      <th>Gender</th>\n",
       "      <th></th>\n",
       "      <th></th>\n",
       "      <th></th>\n",
       "    </tr>\n",
       "  </thead>\n",
       "  <tbody>\n",
       "    <tr>\n",
       "      <th>Man</th>\n",
       "      <td>100000.0</td>\n",
       "      <td>113000.0</td>\n",
       "      <td>116800.0</td>\n",
       "    </tr>\n",
       "    <tr>\n",
       "      <th>Woman</th>\n",
       "      <td>85000.0</td>\n",
       "      <td>100000.0</td>\n",
       "      <td>104500.0</td>\n",
       "    </tr>\n",
       "    <tr>\n",
       "      <th>Non-binary, genderqueer, or gender non-conforming</th>\n",
       "      <td>90000.0</td>\n",
       "      <td>101000.0</td>\n",
       "      <td>108000.0</td>\n",
       "    </tr>\n",
       "  </tbody>\n",
       "</table>\n",
       "</div>"
      ],
      "text/plain": [
       "                                                       2018      2019  \\\n",
       "Gender                                                                  \n",
       "Man                                                100000.0  113000.0   \n",
       "Woman                                               85000.0  100000.0   \n",
       "Non-binary, genderqueer, or gender non-conforming   90000.0  101000.0   \n",
       "\n",
       "                                                       2020  \n",
       "Gender                                                       \n",
       "Man                                                116800.0  \n",
       "Woman                                              104500.0  \n",
       "Non-binary, genderqueer, or gender non-conforming  108000.0  "
      ]
     },
     "execution_count": 53,
     "metadata": {},
     "output_type": "execute_result"
    }
   ],
   "source": [
    "feature = {2018: 'Gender', 2019: 'Gender', 2020: 'Gender'}\n",
    "gender_list = {\n",
    "    'Man': {2018: 'Male', 2019: 'Man', 2020: 'Man'},\n",
    "    'Woman': {2018: 'Female', 2019: 'Woman', 2020: 'Woman'},\n",
    "    'Non-binary': {2018: 'Non-binary, genderqueer, or gender non-conforming', 2019: 'Non-binary, genderqueer, or gender non-conforming', 2020: 'Non-binary, genderqueer, or gender non-conforming'},\n",
    "}\n",
    "\n",
    "salary_by_gender = findings_by_feature(df_list, feature, gender_list, 'Gender', get_salary_by_years)\n",
    "salary_by_gender"
   ]
  },
  {
   "cell_type": "code",
   "execution_count": 54,
   "metadata": {},
   "outputs": [
    {
     "data": {
      "text/plain": [
       "<matplotlib.axes._subplots.AxesSubplot at 0x7fdb68af39e8>"
      ]
     },
     "execution_count": 54,
     "metadata": {},
     "output_type": "execute_result"
    },
    {
     "data": {
      "image/png": "[encoded data removed]",
      "text/plain": [
       "<matplotlib.figure.Figure at 0x7fdb6951ac88>"
      ]
     },
     "metadata": {
      "needs_background": "light"
     },
     "output_type": "display_data"
    }
   ],
   "source": [
    "salary_by_gender.plot(kind='bar', title='Mean annual salary by gender')"
   ]
  },
  {
   "cell_type": "code",
   "execution_count": 55,
   "metadata": {},
   "outputs": [
    {
     "name": "stdout",
     "output_type": "stream",
     "text": [
      "Annual salary gap between Man and Man in 2018: 0.0\n",
      "Annual salary gap between Man and Non-binary, genderqueer, or gender non-conforming in 2018: 10000.0\n",
      "Annual salary gap between Man and Woman in 2018: 15000.0\n",
      "##################\n",
      "Annual salary gap between Man and Man in 2019: 0.0\n",
      "Annual salary gap between Man and Non-binary, genderqueer, or gender non-conforming in 2019: 12000.0\n",
      "Annual salary gap between Man and Woman in 2019: 13000.0\n",
      "##################\n",
      "Annual salary gap between Man and Man in 2020: 0.0\n",
      "Annual salary gap between Man and Non-binary, genderqueer, or gender non-conforming in 2020: 8800.0\n",
      "Annual salary gap between Man and Woman in 2020: 12300.0\n",
      "##################\n"
     ]
    }
   ],
   "source": [
    "years = salary_by_gender.columns\n",
    "for year in years:\n",
    "    men_salary = salary_by_gender.loc['Man'][year]\n",
    "    for gender in gender_list20:\n",
    "        diff = men_salary - salary_by_gender.loc[gender][year]\n",
    "        print('Annual salary gap between Man and %s in %s: %s'%(gender, year, diff))\n",
    "    print('##################')"
   ]
  },
  {
   "cell_type": "markdown",
   "metadata": {},
   "source": [
    "### Question 4: The US tech industry has been absorbing the minorities's labor?\n",
    "\n",
    "One of the questions in Stackoverflow’s survey was related to the current employment status of the respondent.\n",
    "\n",
    "In order to understand better if the tech industry has been absorbing the minorities’s labor, we need to understand the unemployment rate, i.e, people that are not employed, but are looking for work. Let's create a callback function to extract unemployment rate by ethnicity and gender."
   ]
  },
  {
   "cell_type": "code",
   "execution_count": 56,
   "metadata": {},
   "outputs": [],
   "source": [
    "def get_umployment_rate(df, year, feature):\n",
    "    unemployment = df.query('Employment == \"Not employed, but looking for work\"')\n",
    "    return unemployment.shape[0]/df.shape[0]"
   ]
  },
  {
   "cell_type": "code",
   "execution_count": 57,
   "metadata": {},
   "outputs": [
    {
     "data": {
      "text/html": [
       "<div>\n",
       "<style scoped>\n",
       "    .dataframe tbody tr th:only-of-type {\n",
       "        vertical-align: middle;\n",
       "    }\n",
       "\n",
       "    .dataframe tbody tr th {\n",
       "        vertical-align: top;\n",
       "    }\n",
       "\n",
       "    .dataframe thead th {\n",
       "        text-align: right;\n",
       "    }\n",
       "</style>\n",
       "<table border=\"1\" class=\"dataframe\">\n",
       "  <thead>\n",
       "    <tr style=\"text-align: right;\">\n",
       "      <th></th>\n",
       "      <th>2018</th>\n",
       "      <th>2019</th>\n",
       "      <th>2020</th>\n",
       "    </tr>\n",
       "    <tr>\n",
       "      <th>Ethnicity</th>\n",
       "      <th></th>\n",
       "      <th></th>\n",
       "      <th></th>\n",
       "    </tr>\n",
       "  </thead>\n",
       "  <tbody>\n",
       "    <tr>\n",
       "      <th>White or of European descent</th>\n",
       "      <td>0.038468</td>\n",
       "      <td>0.032923</td>\n",
       "      <td>0.021396</td>\n",
       "    </tr>\n",
       "    <tr>\n",
       "      <th>Middle Eastern</th>\n",
       "      <td>0.057692</td>\n",
       "      <td>0.053191</td>\n",
       "      <td>0.025773</td>\n",
       "    </tr>\n",
       "    <tr>\n",
       "      <th>Hispanic or Latino/a/x</th>\n",
       "      <td>0.059133</td>\n",
       "      <td>0.062899</td>\n",
       "      <td>0.034483</td>\n",
       "    </tr>\n",
       "    <tr>\n",
       "      <th>Black or of African descent</th>\n",
       "      <td>0.106017</td>\n",
       "      <td>0.067073</td>\n",
       "      <td>0.049296</td>\n",
       "    </tr>\n",
       "  </tbody>\n",
       "</table>\n",
       "</div>"
      ],
      "text/plain": [
       "                                  2018      2019      2020\n",
       "Ethnicity                                                 \n",
       "White or of European descent  0.038468  0.032923  0.021396\n",
       "Middle Eastern                0.057692  0.053191  0.025773\n",
       "Hispanic or Latino/a/x        0.059133  0.062899  0.034483\n",
       "Black or of African descent   0.106017  0.067073  0.049296"
      ]
     },
     "execution_count": 57,
     "metadata": {},
     "output_type": "execute_result"
    }
   ],
   "source": [
    "df_list = {2018: sample18, 2019: sample19, 2020: sample20}\n",
    "\n",
    "feature = {2018: 'RaceEthnicity', 2019: 'Ethnicity', 2020: 'Ethnicity'}\n",
    "unemployment_by_ethny = findings_by_feature(df_list, feature, minority_ethny_list, 'Ethnicity', get_umployment_rate)\n",
    "unemployment_by_ethny"
   ]
  },
  {
   "cell_type": "code",
   "execution_count": 59,
   "metadata": {},
   "outputs": [
    {
     "name": "stdout",
     "output_type": "stream",
     "text": [
      "Ethnicity;2018;2019;2020\n",
      "White or of European descent;0,038467847769028875;0,03292349726775956;0,021395822720326033\n",
      "Middle Eastern;0,057692307692307696;0,05319148936170213;0,02577319587628866\n",
      "Hispanic or Latino/a/x;0,05913272010512484;0,06289881494986327;0,034482758620689655\n",
      "Black or of African descent;0,10601719197707736;0,06707317073170732;0,04929577464788732\n",
      "\n"
     ]
    }
   ],
   "source": [
    "extract_to_csv(unemployment_by_ethny)"
   ]
  },
  {
   "cell_type": "code",
   "execution_count": 60,
   "metadata": {},
   "outputs": [
    {
     "data": {
      "text/html": [
       "<div>\n",
       "<style scoped>\n",
       "    .dataframe tbody tr th:only-of-type {\n",
       "        vertical-align: middle;\n",
       "    }\n",
       "\n",
       "    .dataframe tbody tr th {\n",
       "        vertical-align: top;\n",
       "    }\n",
       "\n",
       "    .dataframe thead th {\n",
       "        text-align: right;\n",
       "    }\n",
       "</style>\n",
       "<table border=\"1\" class=\"dataframe\">\n",
       "  <thead>\n",
       "    <tr style=\"text-align: right;\">\n",
       "      <th></th>\n",
       "      <th>2018</th>\n",
       "      <th>2019</th>\n",
       "      <th>2020</th>\n",
       "    </tr>\n",
       "    <tr>\n",
       "      <th>Gender</th>\n",
       "      <th></th>\n",
       "      <th></th>\n",
       "      <th></th>\n",
       "    </tr>\n",
       "  </thead>\n",
       "  <tbody>\n",
       "    <tr>\n",
       "      <th>Man</th>\n",
       "      <td>0.042301</td>\n",
       "      <td>0.038464</td>\n",
       "      <td>0.021631</td>\n",
       "    </tr>\n",
       "    <tr>\n",
       "      <th>Woman</th>\n",
       "      <td>0.056197</td>\n",
       "      <td>0.059530</td>\n",
       "      <td>0.043860</td>\n",
       "    </tr>\n",
       "    <tr>\n",
       "      <th>Non-binary, genderqueer, or gender non-conforming</th>\n",
       "      <td>0.075377</td>\n",
       "      <td>0.071895</td>\n",
       "      <td>0.026455</td>\n",
       "    </tr>\n",
       "  </tbody>\n",
       "</table>\n",
       "</div>"
      ],
      "text/plain": [
       "                                                       2018      2019  \\\n",
       "Gender                                                                  \n",
       "Man                                                0.042301  0.038464   \n",
       "Woman                                              0.056197  0.059530   \n",
       "Non-binary, genderqueer, or gender non-conforming  0.075377  0.071895   \n",
       "\n",
       "                                                       2020  \n",
       "Gender                                                       \n",
       "Man                                                0.021631  \n",
       "Woman                                              0.043860  \n",
       "Non-binary, genderqueer, or gender non-conforming  0.026455  "
      ]
     },
     "execution_count": 60,
     "metadata": {},
     "output_type": "execute_result"
    }
   ],
   "source": [
    "feature = {2018: 'Gender', 2019: 'Gender', 2020: 'Gender'}\n",
    "unemployment_by_gender = findings_by_feature(df_list, feature, gender_list, 'Gender', get_umployment_rate)\n",
    "unemployment_by_gender"
   ]
  },
  {
   "cell_type": "code",
   "execution_count": 61,
   "metadata": {},
   "outputs": [
    {
     "name": "stdout",
     "output_type": "stream",
     "text": [
      "Gender;2018;2019;2020\n",
      "Man;0,04230078826192148;0,03846403742446885;0,02163141993957704\n",
      "Woman;0,056197074672825253;0,05953002610966057;0,043859649122807015\n",
      "\"Non-binary; genderqueer; or gender non-conforming\";0,07537688442211055;0,0718954248366013;0,026455026455026454\n",
      "\n"
     ]
    }
   ],
   "source": [
    "extract_to_csv(unemployment_by_gender)"
   ]
  },
  {
   "cell_type": "markdown",
   "metadata": {},
   "source": [
    "How much has the unemployment rate decreased in the last few years?"
   ]
  },
  {
   "cell_type": "code",
   "execution_count": 63,
   "metadata": {},
   "outputs": [
    {
     "data": {
      "text/plain": [
       "Ethnicity\n",
       "White or of European descent    1.707203\n",
       "Middle Eastern                  3.191911\n",
       "Hispanic or Latino/a/x          2.464996\n",
       "Black or of African descent     5.672142\n",
       "dtype: float64"
      ]
     },
     "execution_count": 63,
     "metadata": {},
     "output_type": "execute_result"
    }
   ],
   "source": [
    "(unemployment_by_ethny[2018]-unemployment_by_ethny[2020])*100"
   ]
  },
  {
   "cell_type": "code",
   "execution_count": 64,
   "metadata": {},
   "outputs": [
    {
     "data": {
      "text/plain": [
       "Gender\n",
       "Man                                                  2.066937\n",
       "Woman                                                1.233743\n",
       "Non-binary, genderqueer, or gender non-conforming    4.892186\n",
       "dtype: float64"
      ]
     },
     "execution_count": 64,
     "metadata": {},
     "output_type": "execute_result"
    }
   ],
   "source": [
    "(unemployment_by_gender[2018]-unemployment_by_gender[2020])*100"
   ]
  },
  {
   "cell_type": "code",
   "execution_count": null,
   "metadata": {},
   "outputs": [],
   "source": []
  }
 ],
 "metadata": {
  "kernelspec": {
   "display_name": "Python 3",
   "language": "python",
   "name": "python3"
  },
  "language_info": {
   "codemirror_mode": {
    "name": "ipython",
    "version": 3
   },
   "file_extension": ".py",
   "mimetype": "text/x-python",
   "name": "python",
   "nbconvert_exporter": "python",
   "pygments_lexer": "ipython3",
   "version": "3.6.3"
  }
 },
 "nbformat": 4,
 "nbformat_minor": 2
}
