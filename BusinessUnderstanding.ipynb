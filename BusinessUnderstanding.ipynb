{
 "cells": [
  {
   "cell_type": "markdown",
   "metadata": {},
   "source": [
    "# Business Understanding\n",
    "\n",
    "Algorithms are getting deeper in our routines, dictating what content we should see in social media, what priorities we should receive in a hospital queue and if our CV’s should be analysed for a specific job.\n",
    "\n",
    "Netflix approaches themes like these more deeply in documentaries like “Coded Bias” and “The Social Dilemma”. These documentaries approach examples of technologies that have been doing a great impact in our lives in the last few years, made by big techs like Amazon, Google and Facebook.\n",
    "\n",
    "One of the phrases of these documentaries, which encouraged this study was said by Joy Buolamwini, MIT researcher, who affirm that these new technologies have been done by “sexist white men”, after they question her research about how IA have been racist and sexist.\n",
    "\n",
    "Stackoverflow, have been doing surveys since 2011 with developers from all over the world. A finding thanks to Udacity, who presents me this dataset, and showed to be a great source of data to this study.\n",
    "\n",
    "[The Visual Capitalist site](https://www.visualcapitalist.com/top-50-most-innovative-companies-2020/) cites the research of Boston Consulting Group (BCG), which points out the United States as the economy with 5 of the 10 most innovative companies of the world, being Apple, Alphabet, Amazon, Microsoft and Facebook, known too as \"big Five\". That said, let’s understand more about ethnicities and genres of who is creating these new technologies.\n",
    "\n",
    "***1. How diverse is the tech workforce in the US?***<br>\n",
    "***2. How satisfied are minorities among their peers?***<br>\n",
    "***3. Do minorities have been compensated equally in the US tech industry?***<br>\n",
    "***4. The US tech industry has been absorbing the minorities's labor?***"
   ]
  },
  {
   "cell_type": "code",
   "execution_count": null,
   "metadata": {},
   "outputs": [],
   "source": []
  }
 ],
 "metadata": {
  "kernelspec": {
   "display_name": "Python 3",
   "language": "python",
   "name": "python3"
  },
  "language_info": {
   "codemirror_mode": {
    "name": "ipython",
    "version": 3
   },
   "file_extension": ".py",
   "mimetype": "text/x-python",
   "name": "python",
   "nbconvert_exporter": "python",
   "pygments_lexer": "ipython3",
   "version": "3.6.3"
  }
 },
 "nbformat": 4,
 "nbformat_minor": 2
}
